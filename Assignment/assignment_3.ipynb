{
 "cells": [
  {
   "cell_type": "code",
   "execution_count": 1,
   "id": "77afd6c2-96a9-4868-84e5-7dbb7c5ec856",
   "metadata": {},
   "outputs": [
    {
     "data": {
      "text/plain": [
       "{'name': 'Alice', 'age': 25, 'city': 'New York'}"
      ]
     },
     "execution_count": 1,
     "metadata": {},
     "output_type": "execute_result"
    }
   ],
   "source": [
    "#Q.1\n",
    "my_dict ={\n",
    "    \n",
    "    'name': 'Alice',\n",
    "    'age': 25,\n",
    "    'city': 'New York'\n",
    "}\n",
    "my_dict"
   ]
  },
  {
   "cell_type": "code",
   "execution_count": 2,
   "id": "e96de2b7-ce51-4e07-be8c-5c742262b6fe",
   "metadata": {},
   "outputs": [
    {
     "data": {
      "text/plain": [
       "'Bob'"
      ]
     },
     "execution_count": 2,
     "metadata": {},
     "output_type": "execute_result"
    }
   ],
   "source": [
    "#Q.2\n",
    "person = {'name': 'Bob', 'age': 30}\n",
    "person['name']"
   ]
  },
  {
   "cell_type": "code",
   "execution_count": 6,
   "id": "ca538493-ccbe-4e56-8bd1-ceef6d74ddb2",
   "metadata": {},
   "outputs": [
    {
     "name": "stdout",
     "output_type": "stream",
     "text": [
      "Key:apple & Value:2\n",
      "Key:banana & Value:1\n",
      "Key:cherry & Value:3\n"
     ]
    }
   ],
   "source": [
    "#Q.3\n",
    "fruit_prices = {'apple': 2, 'banana': 1, 'cherry': 3}\n",
    "for key ,value in fruit_prices.items():\n",
    "    print(f\"Key:{key} & Value:{value}\")"
   ]
  },
  {
   "cell_type": "code",
   "execution_count": 8,
   "id": "0b7cb37d-55b7-46e2-a9f3-7baeede73457",
   "metadata": {},
   "outputs": [
    {
     "data": {
      "text/plain": [
       "{'name': 'Bob', 'age': 40}"
      ]
     },
     "execution_count": 8,
     "metadata": {},
     "output_type": "execute_result"
    }
   ],
   "source": [
    "#Q.4\n",
    "person = {'name': 'Bob', 'age': 30}\n",
    "person['age'] = 40\n",
    "person"
   ]
  },
  {
   "cell_type": "code",
   "execution_count": 13,
   "id": "0e0526d1-0b80-485e-9feb-304a560a67a7",
   "metadata": {},
   "outputs": [
    {
     "name": "stdout",
     "output_type": "stream",
     "text": [
      "The key 'city' is present in the Dictionary.\n"
     ]
    }
   ],
   "source": [
    "#Q.5\n",
    "person_info = {\n",
    "    'name': 'Alice',\n",
    "    'age': 25,\n",
    "    'city': 'New York'\n",
    "}\n",
    "\n",
    "key_to_check = 'city'\n",
    "if key_to_check in person_info:\n",
    "    print(f\"The key '{key_to_check}' is present in the Dictionary.\")\n",
    "else:\n",
    "    print(f\"The key '{key_to_check}' is not present in the Dictionary.\")"
   ]
  },
  {
   "cell_type": "code",
   "execution_count": 15,
   "id": "996b30ad-f3fa-413a-ade9-03cce7fdc693",
   "metadata": {},
   "outputs": [
    {
     "name": "stdout",
     "output_type": "stream",
     "text": [
      "The marks in science is: 85\n"
     ]
    }
   ],
   "source": [
    "#Q.6\n",
    "nested_dict = {'student': {'name': 'Alice', 'marks': {'math': 90, 'science': 85}}}\n",
    "science = nested_dict['student']['marks']['science']\n",
    "print(f\"The marks in science is: {science}\")"
   ]
  },
  {
   "cell_type": "code",
   "execution_count": 16,
   "id": "1be25188-f15d-4a5d-965d-21f44dafc798",
   "metadata": {},
   "outputs": [
    {
     "data": {
      "text/plain": [
       "{'a': 1, 'b': 3, 'c': 4}"
      ]
     },
     "execution_count": 16,
     "metadata": {},
     "output_type": "execute_result"
    }
   ],
   "source": [
    "#Q.7\n",
    "dict1 = {'a': 1, 'b': 2} \n",
    "dict2 = {'b': 3, 'c': 4}\n",
    "dict1.update(dict2)\n",
    "dict1 "
   ]
  },
  {
   "cell_type": "code",
   "execution_count": 17,
   "id": "14a53023-8ede-423e-9ac1-459526fd952a",
   "metadata": {},
   "outputs": [
    {
     "data": {
      "text/plain": [
       "[{'name': 'Kisi', 'marks': {'science': 95, 'math': 97, 'English': 90}},\n",
       " {'name': 'Pandey', 'marks': {'science': 98, 'math': 75, 'English': 84}},\n",
       " {'name': 'Pokhrel', 'marks': {'science': 99, 'math': 92, 'English': 97}}]"
      ]
     },
     "execution_count": 17,
     "metadata": {},
     "output_type": "execute_result"
    }
   ],
   "source": [
    "#Q.8\n",
    "dict_list =[]\n",
    "dict1 = {'name': \"Kisi\",'marks':{'science':95,'math': 97,'English':90}}\n",
    "dict2 = {'name':'Pandey','marks':{'science':98,'math':75,'English':84}}\n",
    "dict3 = {'name':'Pokhrel','marks':{'science':99,'math':92,'English':97}}\n",
    "dict_list.append(dict1)\n",
    "dict_list.append(dict2)\n",
    "dict_list.append(dict3)\n",
    "dict_list"
   ]
  },
  {
   "cell_type": "code",
   "execution_count": 36,
   "id": "28662535-7947-4a10-9191-7ce05b25e111",
   "metadata": {},
   "outputs": [
    {
     "name": "stdout",
     "output_type": "stream",
     "text": [
      "Teacher's name is Mrs. Smith.\n",
      "The math score of the student named 'Charlie' is 95.\n",
      "Students are : Alice, Bob, Charlie, \n",
      "Average marks of Alice is 88.5.\n",
      "Average marks of Bob is 83.0.\n",
      "Average marks of Charlie is 92.0.\n"
     ]
    }
   ],
   "source": [
    "#Q.9\n",
    "data = {\n",
    "'class': 'Grade 5',\n",
    "'students': [\n",
    "{'name': 'Alice', 'subjects': {'math': 85, 'science': 92}},\n",
    "{'name': 'Bob', 'subjects': {'math': 78, 'science': 88}},\n",
    "{'name': 'Charlie', 'subjects': {'math': 95, 'science': 89}}\n",
    "],\n",
    "'teacher': {'name': 'Mrs. Smith', 'subject': 'science'}\n",
    "}\n",
    "\n",
    "print(f\"Teacher's name is {data['teacher']['name']}.\")\n",
    "\n",
    "for student in data['students']:\n",
    "    if(student['name'] == 'Charlie'):\n",
    "        print(f\"The math score of the student named 'Charlie' is {student['subjects']['math']}.\")\n",
    "        \n",
    "print(\"Students are : \",end=\"\")\n",
    "for student in data['students']:\n",
    "    print(f\"{student['name']}\",end =  \", \")\n",
    "print()\n",
    "\n",
    "avg = 0\n",
    "total = 0\n",
    "\n",
    "for student in data['students']: \n",
    "    total = 0\n",
    "    for marks in student['subjects'].values():\n",
    "        total += marks\n",
    "    avg= total /2\n",
    "    print(f\"Average marks of {student['name']} is {avg}.\")"
   ]
  },
  {
   "cell_type": "code",
   "execution_count": null,
   "id": "f87ad548-dfa0-42c2-ba1e-1c09510053c2",
   "metadata": {},
   "outputs": [],
   "source": []
  },
  {
   "cell_type": "code",
   "execution_count": null,
   "id": "d36f6747-0065-4b82-a4fe-3a743f0d0c31",
   "metadata": {},
   "outputs": [],
   "source": []
  }
 ],
 "metadata": {
  "kernelspec": {
   "display_name": "Python 3 (ipykernel)",
   "language": "python",
   "name": "python3"
  },
  "language_info": {
   "codemirror_mode": {
    "name": "ipython",
    "version": 3
   },
   "file_extension": ".py",
   "mimetype": "text/x-python",
   "name": "python",
   "nbconvert_exporter": "python",
   "pygments_lexer": "ipython3",
   "version": "3.13.1"
  }
 },
 "nbformat": 4,
 "nbformat_minor": 5
}
