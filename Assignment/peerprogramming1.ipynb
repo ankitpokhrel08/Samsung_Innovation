{
 "cells": [
  {
   "cell_type": "markdown",
   "metadata": {},
   "source": [
    "PAIR_PROGRAMMING -- CHAPTER(1)"
   ]
  },
  {
   "cell_type": "code",
   "execution_count": 46,
   "metadata": {},
   "outputs": [
    {
     "name": "stdout",
     "output_type": "stream",
     "text": [
      "    *    \n",
      "   ***   \n",
      "  *****  \n",
      "*********\n",
      "  *****  \n",
      "   ***   \n",
      "    *    \n"
     ]
    }
   ],
   "source": [
    "##UNIT-1, Sequential Programming\n",
    "#Q.1\n",
    "print(\"    *    \")\n",
    "print(\"   ***   \")\n",
    "print(\"  *****  \")\n",
    "print(\"*********\")\n",
    "print(\"  *****  \")\n",
    "print(\"   ***   \")\n",
    "print(\"    *    \")"
   ]
  },
  {
   "cell_type": "raw",
   "metadata": {},
   "source": [
    "##UNIT-2, Planning for Programming\n",
    "#Q.1\n",
    "Display \"Go straight west at the crossroads.You will see four buildings.\"\n",
    "\n",
    "Repeat\n",
    "    Display \"Look for the post office.\"\n",
    "    If post office is visible then\n",
    "        Display \"Turn right across the post office.\"\n",
    "        Break\n",
    "Until post office is visible\n",
    "\n",
    "Display \"Go straight after turning right.\"\n",
    "\n",
    "Repeat\n",
    "    Display \"Look for an Italian restaurant.\"\n",
    "    If Italian restaurant is visible then\n",
    "        Display \"The third building from the Italian restaurant is the hotel.\"\n",
    "        Display \"You have found the hotel.\"\n",
    "        Break\n",
    "Until hotel is found\n",
    "\n",
    "Note:\n",
    "Result\n",
    "\n",
    "Go straight west at the crossroads.You will see four buildings.\n",
    "Look for the post office. (visible? --> Yes)\n",
    "Turn right across the post office\n",
    "Go straight after turining right.\n",
    "Look for an Italian restaurant. (visible? --> Yes)\n",
    "The third building from the Italian restaurant is the hotel.\n",
    "You have found the hotel.\n"
   ]
  },
  {
   "cell_type": "code",
   "execution_count": 47,
   "metadata": {},
   "outputs": [],
   "source": [
    "#Q.1 (flowchart factorizes 18, 39, 63, 126, 792) \n"
   ]
  },
  {
   "cell_type": "code",
   "execution_count": 48,
   "metadata": {},
   "outputs": [
    {
     "name": "stdout",
     "output_type": "stream",
     "text": [
      "Calculate the factorial.\n",
      "5! = 120\n",
      "Calculate the factorial.\n",
      "10! = 3628800\n"
     ]
    }
   ],
   "source": [
    "##UNIT 03, Basic of Numeric Data Types and Arithmetic Operation\n",
    "#Q.1\n",
    "print(\"Calculate the factorial.\")\n",
    "print(\"5! =\",5*4*3*2*1)\n",
    "print(\"Calculate the factorial.\")\n",
    "print(\"10! =\",10*9*8*7*6*5*4*3*2*1)\n"
   ]
  },
  {
   "cell_type": "code",
   "execution_count": 49,
   "metadata": {},
   "outputs": [
    {
     "name": "stdin",
     "output_type": "stream",
     "text": [
      "Enter radius:  11\n"
     ]
    },
    {
     "name": "stdout",
     "output_type": "stream",
     "text": [
      "Circumference: 69.115024, Area: 380.13263200000006\n"
     ]
    }
   ],
   "source": [
    "##UNIT 04, Variables and Input\n",
    "#Q.1\n",
    "PI = 3.141592\n",
    "radius = float(input(\"Enter radius: \"))\n",
    "circumference = 2 * PI * radius\n",
    "area = PI * radius * radius\n",
    "print(f\"Circumference: {circumference}, Area: {area}\")"
   ]
  },
  {
   "cell_type": "code",
   "execution_count": 20,
   "metadata": {},
   "outputs": [
    {
     "name": "stdout",
     "output_type": "stream",
     "text": [
      "a\tn\ta**n\n",
      "2\t2\t4\n",
      "3\t2\t9\n",
      "4\t2\t16\n",
      "5\t2\t25\n",
      "6\t2\t36\n"
     ]
    }
   ],
   "source": [
    "#Q.2\n",
    "n = 2\n",
    "print(\"a\",\"n\",\"a**n\",sep=\"\\t\")\n",
    "for a in range(2,7):\n",
    "    print(a,n,a**n,sep=\"\\t\")\n"
   ]
  },
  {
   "cell_type": "code",
   "execution_count": 23,
   "metadata": {},
   "outputs": [
    {
     "name": "stdin",
     "output_type": "stream",
     "text": [
      "Enter a 3-digit integer:  321\n"
     ]
    },
    {
     "name": "stdout",
     "output_type": "stream",
     "text": [
      "True\n"
     ]
    }
   ],
   "source": [
    "##UNIT 05, Logic and Comparison Operations\n",
    "#Q.1\n",
    "n = int(input(\"Enter a 3-digit integer: \"))\n",
    "if (n // 100) == 3:\n",
    "    print(True)\n",
    "else:\n",
    "    print(False)\n"
   ]
  },
  {
   "cell_type": "code",
   "execution_count": 24,
   "metadata": {},
   "outputs": [
    {
     "name": "stdin",
     "output_type": "stream",
     "text": [
      "Enter an integer:  125\n"
     ]
    },
    {
     "name": "stdout",
     "output_type": "stream",
     "text": [
      "True\n"
     ]
    }
   ],
   "source": [
    "#Q.2\n",
    "n = int(input(\"Enter an integer: \"))\n",
    "if n%5==0:\n",
    "    print(True)\n",
    "else:\n",
    "    print(False)\n"
   ]
  },
  {
   "cell_type": "code",
   "execution_count": 26,
   "metadata": {},
   "outputs": [
    {
     "name": "stdin",
     "output_type": "stream",
     "text": [
      "Enter age:  16\n"
     ]
    },
    {
     "name": "stdout",
     "output_type": "stream",
     "text": [
      "Youth\n"
     ]
    }
   ],
   "source": [
    "##UNIT 06, Conditional Statement-1\n",
    "#Q.1\n",
    "age = int(input(\"Enter age: \"))\n",
    "if age >= 20:\n",
    "    print(\"Adult\")\n",
    "elif 10 <= age < 20:\n",
    "    print(\"Youth\")\n",
    "else:\n",
    "    print(\"Kid\")\n"
   ]
  },
  {
   "cell_type": "code",
   "execution_count": 28,
   "metadata": {},
   "outputs": [
    {
     "name": "stdin",
     "output_type": "stream",
     "text": [
      "Enter age:  20\n",
      "Enter height in cm:  180\n"
     ]
    },
    {
     "name": "stdout",
     "output_type": "stream",
     "text": [
      "You can enter.\n"
     ]
    }
   ],
   "source": [
    "#Q.1 (The question has some error so this was what we assume the solution is: )\n",
    "age = int(input(\"Enter age: \"))\n",
    "height = int(input(\"Enter height in cm: \"))\n",
    "if age>=18 and height>=180:\n",
    "    print(\"You can enter.\")\n",
    "else:\n",
    "    print(\"You cannot enter.\")"
   ]
  },
  {
   "cell_type": "code",
   "execution_count": 34,
   "metadata": {},
   "outputs": [
    {
     "name": "stdout",
     "output_type": "stream",
     "text": [
      "1) Addition\n",
      "2) Subtraction\n",
      "3) Multiplication\n",
      "4) Division\n"
     ]
    },
    {
     "name": "stdin",
     "output_type": "stream",
     "text": [
      "Enter the desired number of operation:  1\n"
     ]
    },
    {
     "name": "stdout",
     "output_type": "stream",
     "text": [
      "Enter two numbers for the operation.\n"
     ]
    },
    {
     "name": "stdin",
     "output_type": "stream",
     "text": [
      " 10\n",
      " 20\n"
     ]
    },
    {
     "name": "stdout",
     "output_type": "stream",
     "text": [
      "10 + 20 = 30\n"
     ]
    }
   ],
   "source": [
    "##UNIT 07, Conditional Statement-2\n",
    "#Q.1\n",
    "print(\"1) Addition\\n2) Subtraction\\n3) Multiplication\\n4) Division\")\n",
    "\n",
    "operation = int(input(\"Enter the desired number of operation: \"))\n",
    "\n",
    "if operation in [1, 2, 3, 4]:\n",
    "    print(\"Enter two numbers for the operation.\")\n",
    "    \n",
    "    num1 = int(input())\n",
    "    num2 = int(input())\n",
    "    \n",
    "    if operation == 1:\n",
    "        print(f\"{num1} + {num2} = {num1 + num2}\")\n",
    "    elif operation == 2:\n",
    "        print(f\"{num1} - {num2} = {num1 - num2}\")\n",
    "    elif operation == 3:\n",
    "        print(f\"{num1} * {num2} = {num1 * num2}\")\n",
    "    elif operation == 4:\n",
    "        if num2 != 0:  # Avoid division by zero\n",
    "            print(f\"{num1} / {num2} = {num1 / num2}\")\n",
    "        else:\n",
    "            print(\"Division by zero is not allowed.\")\n",
    "else:\n",
    "    print(\"Entered an incorrect number.\")"
   ]
  },
  {
   "cell_type": "code",
   "execution_count": 35,
   "metadata": {},
   "outputs": [
    {
     "name": "stdin",
     "output_type": "stream",
     "text": [
      "Enter x,y coordinates:  -5 6\n"
     ]
    },
    {
     "name": "stdout",
     "output_type": "stream",
     "text": [
      "In the Second quadrant\n"
     ]
    }
   ],
   "source": [
    "#Q.2\n",
    "point = input(\"Enter x,y coordinates: \")\n",
    "point = point.split(\" \")\n",
    "\n",
    "x = int(point[0])\n",
    "y = int(point[1])\n",
    "\n",
    "if(x>0 and y>0):\n",
    "    print(\"In the First quadrant\")\n",
    "elif(x<0 and y>0):\n",
    "    print(\"In the Second quadrant\")\n",
    "elif(x>0 and y<0):\n",
    "    print(\"In the Fourth quadrant\")\n",
    "elif(x<0 and y<0):\n",
    "    print(\"In the Third quadrant\")\n",
    "elif (x==0 and y==0):\n",
    "    print(\"Origin\")\n",
    "else:\n",
    "    print(\"In the axis line\")\n"
   ]
  },
  {
   "cell_type": "code",
   "execution_count": 38,
   "metadata": {},
   "outputs": [
    {
     "name": "stdout",
     "output_type": "stream",
     "text": [
      "Welcome to yummy restaurant. Here is the menu.\n",
      "- Burger(enter b)\n",
      "- Chicken(enter c)\n",
      "- Pizza(enter p)\n"
     ]
    },
    {
     "name": "stdin",
     "output_type": "stream",
     "text": [
      "Choose a menu (enter b,c,p):  b\n"
     ]
    },
    {
     "name": "stdout",
     "output_type": "stream",
     "text": [
      "You chose Burger\n"
     ]
    }
   ],
   "source": [
    "#Q.3\n",
    "menu = True\n",
    "while (menu):\n",
    "    print(\"Welcome to yummy restaurant. Here is the menu.\\n- Burger(enter b)\\n- Chicken(enter c)\\n- Pizza(enter p)\")\n",
    "    opt = input(\"Choose a menu (enter b,c,p): \")\n",
    "    if(opt == \"b\"):\n",
    "        print(\"You chose Burger.\")\n",
    "        menu = False\n",
    "    elif(opt == \"c\"):\n",
    "        print(\"You chose Chicken.\")\n",
    "        menu = False\n",
    "    elif(opt == \"p\"):\n",
    "        print(\"You chose Pizza.\")\n",
    "        menu = False\n",
    "    else:\n",
    "        print(\"enter the menu again\")"
   ]
  },
  {
   "cell_type": "code",
   "execution_count": 41,
   "metadata": {},
   "outputs": [
    {
     "name": "stdin",
     "output_type": "stream",
     "text": [
      "Enter n:  5\n"
     ]
    },
    {
     "name": "stdout",
     "output_type": "stream",
     "text": [
      "1 2 3 4 5 \n",
      "10 9 8 7 6 \n",
      "11 12 13 14 15 \n",
      "20 19 18 17 16 \n",
      "21 22 23 24 25 \n"
     ]
    }
   ],
   "source": [
    "##UNIT 08, Loop-1\n",
    "#Q.1\n",
    "k = 1\n",
    "n = int(input(\"Enter n: \"))\n",
    "for i in range(n):\n",
    "    if i % 2 == 0:\n",
    "        for j in range(n):\n",
    "            print(k, end=\" \")\n",
    "            k += 1\n",
    "    else:\n",
    "        start = k + n - 1\n",
    "        for j in range(n):\n",
    "            print(start, end=\" \")\n",
    "            start -= 1\n",
    "        k += n\n",
    "    print()\n"
   ]
  },
  {
   "cell_type": "code",
   "execution_count": 44,
   "metadata": {},
   "outputs": [
    {
     "name": "stdin",
     "output_type": "stream",
     "text": [
      "Enter an integer: 135\n"
     ]
    },
    {
     "name": "stdout",
     "output_type": "stream",
     "text": [
      "135 is not a palindrome number\n"
     ]
    }
   ],
   "source": [
    "##UNIT 09, Loop-2\n",
    "#Q.1\n",
    "num = input(\"Enter an integer:\")\n",
    "rev = num[::-1]\n",
    "if(int(num) == int(rev)):\n",
    "    print(f\"{num} is a palindrome number\")\n",
    "else:\n",
    "    print(f\"{num} is not a palindrome number\")\n"
   ]
  },
  {
   "cell_type": "code",
   "execution_count": 45,
   "metadata": {},
   "outputs": [
    {
     "name": "stdout",
     "output_type": "stream",
     "text": [
      "Guess a number between 1 to 100\n"
     ]
    },
    {
     "name": "stdin",
     "output_type": "stream",
     "text": [
      "Enter a number: 3\n"
     ]
    },
    {
     "name": "stdout",
     "output_type": "stream",
     "text": [
      "Higher\n"
     ]
    },
    {
     "name": "stdin",
     "output_type": "stream",
     "text": [
      "Enter a number: 66\n"
     ]
    },
    {
     "name": "stdout",
     "output_type": "stream",
     "text": [
      "Higher\n"
     ]
    },
    {
     "name": "stdin",
     "output_type": "stream",
     "text": [
      "Enter a number: 88\n"
     ]
    },
    {
     "name": "stdout",
     "output_type": "stream",
     "text": [
      "Lower\n"
     ]
    },
    {
     "name": "stdin",
     "output_type": "stream",
     "text": [
      "Enter a number: 77\n"
     ]
    },
    {
     "name": "stdout",
     "output_type": "stream",
     "text": [
      "Higher\n"
     ]
    },
    {
     "name": "stdin",
     "output_type": "stream",
     "text": [
      "Enter a number: 79\n"
     ]
    },
    {
     "name": "stdout",
     "output_type": "stream",
     "text": [
      "Lower\n"
     ]
    },
    {
     "name": "stdin",
     "output_type": "stream",
     "text": [
      "Enter a number: 78\n"
     ]
    },
    {
     "name": "stdout",
     "output_type": "stream",
     "text": [
      "Congratulations. Total try = 6\n"
     ]
    }
   ],
   "source": [
    "#Q.2\n",
    "import random as rr\n",
    "count = 0  \n",
    "print(\"Guess a number between 1 to 100\")\n",
    "random = rr.randrange(1,100)\n",
    "#print(random)\n",
    "while(True):\n",
    "    num = int(input(\"Enter a number:\"))\n",
    "    count += 1\n",
    "    if(num==random):\n",
    "        print(\"Congratulations. Total try =\",count)\n",
    "        break\n",
    "    elif(num>random):\n",
    "        print(\"Lower\")\n",
    "    else:\n",
    "        print(\"Higher\")"
   ]
  }
 ],
 "metadata": {
  "kernelspec": {
   "display_name": "Python 3 (ipykernel)",
   "language": "python",
   "name": "python3"
  },
  "language_info": {
   "codemirror_mode": {
    "name": "ipython",
    "version": 3
   },
   "file_extension": ".py",
   "mimetype": "text/x-python",
   "name": "python",
   "nbconvert_exporter": "python",
   "pygments_lexer": "ipython3",
   "version": "3.13.1"
  }
 },
 "nbformat": 4,
 "nbformat_minor": 4
}
