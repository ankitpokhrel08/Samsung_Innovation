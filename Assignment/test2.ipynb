{
 "cells": [
  {
   "cell_type": "code",
   "execution_count": 2,
   "id": "b945d8ce-ab90-4fc3-97bd-eb7276bd104c",
   "metadata": {},
   "outputs": [
    {
     "name": "stdout",
     "output_type": "stream",
     "text": [
      "I like pancake.\n",
      "I like kiwi juice.\n",
      "I like expresso.\n",
      "I love pancake.\n",
      "I love kiwi juice.\n",
      "I love expresso.\n"
     ]
    }
   ],
   "source": [
    "#Q.10-01\n",
    "l1 = ['I like','I love']\n",
    "l2 = ['pancake.','kiwi juice.','expresso.']\n",
    "for i in l1:\n",
    "    for j in l2:\n",
    "        print(i,j)"
   ]
  },
  {
   "cell_type": "code",
   "execution_count": 3,
   "id": "10dc2646-f095-4fa2-9e17-2229863cc414",
   "metadata": {},
   "outputs": [
    {
     "name": "stdout",
     "output_type": "stream",
     "text": [
      "{'Name': 'David Doe', 'Age': 26, 'Weight': 82, 'Job': 'Data scientist', 'Father': 'John Doe'}\n"
     ]
    }
   ],
   "source": [
    "#Q.11-01\n",
    "person = {'Name' : 'David Doe','Age' : 26 , 'Weight' : 82,'Job': 'Data scientist'}\n",
    "person['Father'] = 'John Doe'\n",
    "print(person)"
   ]
  },
  {
   "cell_type": "code",
   "execution_count": 11,
   "id": "9c7d2194-0d27-4881-ba3b-2132e9a96bb3",
   "metadata": {},
   "outputs": [
    {
     "name": "stdout",
     "output_type": "stream",
     "text": [
      "[5, 3, 6, 2, 9, 3, 8, 7, 12]\n"
     ]
    }
   ],
   "source": [
    "#Q.12-01\n",
    "lst = [5, 6, 3, 9, 2, 12, 3, 8, 7]\n",
    "for item in range(len(lst) - 1): \n",
    "    if lst[item] > lst[item + 1]:\n",
    "        lst[item], lst[item + 1] = lst[item + 1], lst[item]\n",
    "\n",
    "print(lst)"
   ]
  },
  {
   "cell_type": "code",
   "execution_count": 14,
   "id": "e70fa9bb-9680-4eee-b6cf-3488fa46c2de",
   "metadata": {},
   "outputs": [
    {
     "name": "stdout",
     "output_type": "stream",
     "text": [
      "[1, 2, 3, 4, 5, 6]\n"
     ]
    }
   ],
   "source": [
    "#Q.13-01\n",
    "twodim = [[1, 2], [3, 4], [5, 6]]\n",
    "newlist = [item for block in twodim for item in block]\n",
    "print(newlist)"
   ]
  },
  {
   "cell_type": "code",
   "execution_count": 17,
   "id": "15d18314-65c3-4eb2-87ba-eedc15e1a579",
   "metadata": {},
   "outputs": [
    {
     "name": "stdout",
     "output_type": "stream",
     "text": [
      "89.25\n"
     ]
    }
   ],
   "source": [
    "#Q.14-01\n",
    "total = 0\n",
    "maria = {'korean':94,'english' : 91,'mathematics':89,'science':83}\n",
    "for value in maria.values():\n",
    "    total = total + value\n",
    "average = total/len(maria)\n",
    "print(average)"
   ]
  },
  {
   "cell_type": "code",
   "execution_count": 22,
   "id": "6586a079-935c-4b41-9401-05b817fd8792",
   "metadata": {},
   "outputs": [
    {
     "name": "stdout",
     "output_type": "stream",
     "text": [
      "False\n"
     ]
    }
   ],
   "source": [
    "#Q.15-01\n",
    "from copy import deepcopy\n",
    "school = {'kim': {'age': 16, 'hei': 170, 'grade': 3}, \n",
    "          'lee': {'age': 15, 'hei': 168, 'grade': 2},\n",
    "          'choi': {'age': 14, 'hei': 173, 'grade': 1}\n",
    "         }\n",
    "school2 = deepcopy(school)\n",
    "print(school is school2)"
   ]
  },
  {
   "cell_type": "code",
   "execution_count": 35,
   "id": "74f77a8b-bc21-4de2-833d-9b92c0e99afb",
   "metadata": {},
   "outputs": [
    {
     "name": "stdout",
     "output_type": "stream",
     "text": [
      "The average math score is: 91.25\n"
     ]
    }
   ],
   "source": [
    "#Q.16-01\n",
    "scores = (('Hyun', 88, 95, 90), ('Kang', 85, 90, 95), ('Park', 70, 90, 80), ('Hong', 90, 90, 95))\n",
    "name, english, math, science = zip(*scores)\n",
    "average_math = sum(math) / len(math)\n",
    "print(f\"The average math score is: {average_math}\")"
   ]
  },
  {
   "cell_type": "code",
   "execution_count": null,
   "id": "ea587ac6-54ca-4136-a782-c578b2be49d2",
   "metadata": {},
   "outputs": [],
   "source": []
  }
 ],
 "metadata": {
  "kernelspec": {
   "display_name": "Python 3 (ipykernel)",
   "language": "python",
   "name": "python3"
  },
  "language_info": {
   "codemirror_mode": {
    "name": "ipython",
    "version": 3
   },
   "file_extension": ".py",
   "mimetype": "text/x-python",
   "name": "python",
   "nbconvert_exporter": "python",
   "pygments_lexer": "ipython3",
   "version": "3.13.1"
  }
 },
 "nbformat": 4,
 "nbformat_minor": 5
}
