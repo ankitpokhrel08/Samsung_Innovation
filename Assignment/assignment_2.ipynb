{
 "cells": [
  {
   "cell_type": "code",
   "execution_count": 3,
   "id": "ab2e5c94-0ac7-42bd-a116-7e63014df7e2",
   "metadata": {},
   "outputs": [
    {
     "data": {
      "text/plain": [
       "[0, 1, 2, 3, 4]"
      ]
     },
     "execution_count": 3,
     "metadata": {},
     "output_type": "execute_result"
    }
   ],
   "source": [
    "#Q.1\n",
    "new_list = [0,1,2,3,4]\n",
    "new_list"
   ]
  },
  {
   "cell_type": "code",
   "execution_count": 4,
   "id": "d8ba0096-21bc-43f9-9ca0-f15ae8994f74",
   "metadata": {},
   "outputs": [
    {
     "data": {
      "text/plain": [
       "['a', 'aa', 'aaa', 'aaaa', 'aaaaa']"
      ]
     },
     "execution_count": 4,
     "metadata": {},
     "output_type": "execute_result"
    }
   ],
   "source": [
    "#Q.2\n",
    "new_list = [\"a\", \"aa\", \"aaa\", \"aaaa\", \"aaaaa\"]\n",
    "new_list"
   ]
  },
  {
   "cell_type": "code",
   "execution_count": 9,
   "id": "8714679c-022d-461f-b5c6-ec1bf970db25",
   "metadata": {},
   "outputs": [
    {
     "name": "stdout",
     "output_type": "stream",
     "text": [
      "green\n",
      "['blue', 'green', 'yellow']\n",
      "['red', 'blue', 'green', 'yellow']\n",
      "['red', 'blue']\n"
     ]
    }
   ],
   "source": [
    "#Q.3\n",
    "colors = ['red', 'blue', 'green', 'yellow']\n",
    "print(colors[2])\n",
    "print(colors[1:4])\n",
    "print(colors[-10:])\n",
    "print(colors[-5:2])"
   ]
  },
  {
   "cell_type": "code",
   "execution_count": 11,
   "id": "53035a3e-657f-4267-8465-bf3cea3721f0",
   "metadata": {},
   "outputs": [
    {
     "data": {
      "text/plain": [
       "[1, 1.02, 'Ram', True]"
      ]
     },
     "execution_count": 11,
     "metadata": {},
     "output_type": "execute_result"
    }
   ],
   "source": [
    "#Q.4\n",
    "new_list = [1,1.02,\"Ram\",True]\n",
    "new_list"
   ]
  },
  {
   "cell_type": "code",
   "execution_count": 2,
   "id": "1783ce75-a304-4414-9589-dd964f09ba2a",
   "metadata": {},
   "outputs": [
    {
     "name": "stdin",
     "output_type": "stream",
     "text": [
      "Enter the marks of 0 subect 66\n",
      "Enter the marks of 1 subect 44\n",
      "Enter the marks of 2 subect 77\n",
      "Enter the marks of 3 subect 88\n",
      "Enter the marks of 4 subect 99\n"
     ]
    },
    {
     "name": "stdout",
     "output_type": "stream",
     "text": [
      "Minimum marks is 44\n",
      "Maximum marks is 99\n",
      "Percentage = 74.8%\n",
      "Grade C\n",
      "[66, 44, 77, 88, 99]\n"
     ]
    }
   ],
   "source": [
    "#Q.5\n",
    "subjects = []\n",
    "sum = 0 \n",
    "for i in range(5):\n",
    "    marks =int(input(f\"Enter the marks of {i} subect\"))\n",
    "    sum += marks\n",
    "    subjects.append(marks)\n",
    "temp = subjects.copy()\n",
    "temp.sort()\n",
    "print(f\"Minimum marks is {temp[0]}\")\n",
    "print(f\"Maximum marks is {temp[-1]}\")\n",
    "percentage = sum /500 *100\n",
    "print(f\"Percentage = {percentage}%\")\n",
    "\n",
    "if percentage > 90:\n",
    "    print(\"Grade A\")\n",
    "elif percentage < 90 and percentage > 80:\n",
    "    print(\"Grade B\")\n",
    "elif percentage < 80:\n",
    "    print(\"Grade C\")\n",
    "print(subjects)"
   ]
  },
  {
   "cell_type": "code",
   "execution_count": 3,
   "id": "e6ce244b-46d1-4edc-a149-65a8c0e645ee",
   "metadata": {},
   "outputs": [
    {
     "name": "stdout",
     "output_type": "stream",
     "text": [
      "128,127,103,15,42,"
     ]
    }
   ],
   "source": [
    "#Q.6\n",
    "from random import randint\n",
    "list = []\n",
    "for i in range(5):\n",
    "    val = randint(1,500)\n",
    "    list.append(val)\n",
    "for item in list:\n",
    "    print(item, end = \",\")"
   ]
  },
  {
   "cell_type": "code",
   "execution_count": 6,
   "id": "1513a990-0bf0-47e1-8188-f4791b016ee9",
   "metadata": {},
   "outputs": [
    {
     "name": "stdout",
     "output_type": "stream",
     "text": [
      "First list: [1, 20, 33, '4']\n",
      "Second list: [5, 6, True, 6.0]\n",
      "Merged list: [1, 20, 33, '4', 5, 6, True, 6.0]\n"
     ]
    }
   ],
   "source": [
    "#Q.7\n",
    "list_1 =[1,20,33,\"4\"]\n",
    "print(f\"First list: {list_1}\")\n",
    "list_2 = [5,6,True,6.0]\n",
    "print(f\"Second list: {list_2}\")\n",
    "list3 = list_1 + list_2\n",
    "print(f\"Merged list: {list3}\")\n"
   ]
  },
  {
   "cell_type": "code",
   "execution_count": 22,
   "id": "624d6760-65b0-43c9-809e-889621b7dece",
   "metadata": {},
   "outputs": [
    {
     "name": "stdin",
     "output_type": "stream",
     "text": [
      "Enter any number or enter t to terminate 1\n",
      "Enter any number or enter t to terminate 1\n",
      "Enter any number or enter t to terminate 2\n",
      "Enter any number or enter t to terminate 3\n",
      "Enter any number or enter t to terminate t\n"
     ]
    },
    {
     "name": "stdout",
     "output_type": "stream",
     "text": [
      "All the unique values of the list are: [1, 2, 3]\n"
     ]
    }
   ],
   "source": [
    "#Q.8\n",
    "list = []\n",
    "while True:\n",
    "    ip  = input(\"Enter any number or enter t to terminate\")\n",
    "    if(ip == 't' or ip == 'T'):\n",
    "        break\n",
    "    if type(ip) != 'int':\n",
    "        ip = int(ip)\n",
    "    if(ip not in  list):\n",
    "        list.append(ip)\n",
    "    \n",
    "print(f\"All the unique values of the list are: {list}\")   \n"
   ]
  },
  {
   "cell_type": "code",
   "execution_count": 17,
   "id": "0657ca1a-adbc-4f91-9873-115f0512c231",
   "metadata": {},
   "outputs": [
    {
     "name": "stdout",
     "output_type": "stream",
     "text": [
      "Common elements are: 4 5 "
     ]
    }
   ],
   "source": [
    "#Q.9\n",
    "list_1 = [1, 2, 3, 4, 5] \n",
    "list_2 = [4, 5, 6, 7, 8]\n",
    "print(\"Common elements are:\",end = \" \")\n",
    "for item in list_1:\n",
    "    if item in list_2:\n",
    "        print(item,end = \" \")"
   ]
  },
  {
   "cell_type": "code",
   "execution_count": 18,
   "id": "41b77386-ee3d-4cc3-bbe0-0a4eb2600654",
   "metadata": {},
   "outputs": [
    {
     "name": "stdout",
     "output_type": "stream",
     "text": [
      "1 2 3 \n",
      "4 5 6 \n",
      "7 8 9 \n"
     ]
    }
   ],
   "source": [
    "#Q.10\n",
    "matrix =  []\n",
    "row1 = [1 ,2, 3]\n",
    "row2 = [4 ,5, 6]\n",
    "row3 = [7 ,8, 9]\n",
    "matrix.append(row1)\n",
    "matrix.append(row2)\n",
    "matrix.append(row3)\n",
    "for i in matrix:\n",
    "    for j in i:\n",
    "        print(j,end = \" \")\n",
    "    print()"
   ]
  },
  {
   "cell_type": "code",
   "execution_count": 23,
   "id": "838f63ba-dede-4f79-98a2-20eb0debc9ab",
   "metadata": {},
   "outputs": [
    {
     "data": {
      "text/plain": [
       "[1, 2, 3, 4, 5, 6]"
      ]
     },
     "execution_count": 23,
     "metadata": {},
     "output_type": "execute_result"
    }
   ],
   "source": [
    "#Q.11\n",
    "list = [[1, 2], [3, 4], [5, 6]]\n",
    "new_list = []\n",
    "for item in list:\n",
    "    for i in item:\n",
    "        new_list.append(i)\n",
    "list = new_list\n",
    "list"
   ]
  },
  {
   "cell_type": "code",
   "execution_count": 25,
   "id": "a0e24a21-5da7-4791-bd5f-4cede2acc651",
   "metadata": {},
   "outputs": [
    {
     "name": "stdout",
     "output_type": "stream",
     "text": [
      "Rock Paper Scissor game\n",
      "Press 0 for Rock\n",
      "Press 1 for Paper\n",
      "Press 2 for Scissor\n"
     ]
    },
    {
     "name": "stdin",
     "output_type": "stream",
     "text": [
      " 0\n"
     ]
    },
    {
     "name": "stdout",
     "output_type": "stream",
     "text": [
      "Computer won\n",
      "You chose Rock, Computer chose Paper\n"
     ]
    }
   ],
   "source": [
    "#Q.12\n",
    "from random import choice\n",
    "\n",
    "game = [\"Rock\", \"Paper\", \"Scissor\"]\n",
    "print(\"Rock Scissor Paper game\")\n",
    "print(\"Press 0 for Rock\", \"Press 1 for Paper\", \"Press 2 for Scissor\", sep=\"\\n\")\n",
    "user = int(input())\n",
    "computer = choice([0, 1, 2])\n",
    "\n",
    "if computer == 0:\n",
    "    if user == 1:\n",
    "        print(\"User won\")\n",
    "    elif user == 2:\n",
    "        print(\"Computer won\")\n",
    "    elif user == 0:\n",
    "        print(\"Draw\")\n",
    "elif computer == 1:\n",
    "    if user == 0:\n",
    "        print(\"Computer won\")\n",
    "    elif user == 2:\n",
    "        print(\"User won\")\n",
    "    elif user == 1:\n",
    "        print(\"Draw\")\n",
    "else:\n",
    "    if user == 0:\n",
    "        print(\"Computer won\")\n",
    "    elif user == 1:\n",
    "        print(\"User won\")\n",
    "    elif user == 2:\n",
    "        print(\"Draw\")\n",
    "print(f\"You chose {game[user]}, Computer chose {game[computer]}\")"
   ]
  },
  {
   "cell_type": "code",
   "execution_count": 27,
   "id": "4e6d7f1e-26a1-4709-91c5-f0263334092f",
   "metadata": {},
   "outputs": [
    {
     "name": "stdout",
     "output_type": "stream",
     "text": [
      "The shortest string: abc\n"
     ]
    }
   ],
   "source": [
    "#PP1\n",
    "s_list = ['abc', 'bcd', 'bcdefg', 'abba', 'cddc', 'opq']\n",
    "min_element = s_list[0]\n",
    "for item in s_list:\n",
    "    if len(item) < len(min_element):\n",
    "        min_element = item\n",
    "print(f\"The shortest string: {min_element}\")"
   ]
  },
  {
   "cell_type": "code",
   "execution_count": 29,
   "id": "95fba908-cdde-415d-8bbe-d0300266c9c0",
   "metadata": {},
   "outputs": [
    {
     "name": "stdout",
     "output_type": "stream",
     "text": [
      "The longest string: bcdefg\n"
     ]
    }
   ],
   "source": [
    "#PP2\n",
    "s_list = ['abc', 'bcd', 'bcdefg', 'abba', 'cddc', 'opq']\n",
    "max_element = s_list[0]\n",
    "for item in s_list:\n",
    "    if len(item) > len(max_element):\n",
    "        max_element = item\n",
    "print(f\"The longest string: {max_element}\")"
   ]
  },
  {
   "cell_type": "code",
   "execution_count": 32,
   "id": "1cda2c59-77a9-4262-8744-36081b6374b6",
   "metadata": {},
   "outputs": [
    {
     "name": "stdout",
     "output_type": "stream",
     "text": [
      "The shortest strings :'abc','bcd','opq',"
     ]
    }
   ],
   "source": [
    "#PP3\n",
    "s_list = ['abc', 'bcd', 'bcdefg', 'abba', 'cddc', 'opq']\n",
    "s_list.sort(key = len)\n",
    "min_length = len(s_list[0])\n",
    "print(\"The shortest strings :\",end=\"\")\n",
    "for item in s_list:\n",
    "    if(len(item) == min_length):\n",
    "        print(f\"'{item}'\",end = \",\")"
   ]
  },
  {
   "cell_type": "code",
   "execution_count": null,
   "id": "dbb8fd72-6666-43a7-af91-179765d918dc",
   "metadata": {},
   "outputs": [],
   "source": []
  }
 ],
 "metadata": {
  "kernelspec": {
   "display_name": "Python 3 (ipykernel)",
   "language": "python",
   "name": "python3"
  },
  "language_info": {
   "codemirror_mode": {
    "name": "ipython",
    "version": 3
   },
   "file_extension": ".py",
   "mimetype": "text/x-python",
   "name": "python",
   "nbconvert_exporter": "python",
   "pygments_lexer": "ipython3",
   "version": "3.13.1"
  }
 },
 "nbformat": 4,
 "nbformat_minor": 5
}
