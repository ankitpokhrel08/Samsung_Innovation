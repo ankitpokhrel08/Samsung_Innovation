{
 "cells": [
  {
   "cell_type": "code",
   "execution_count": 3,
   "id": "ab2e5c94-0ac7-42bd-a116-7e63014df7e2",
   "metadata": {},
   "outputs": [
    {
     "data": {
      "text/plain": [
       "[0, 1, 2, 3, 4]"
      ]
     },
     "execution_count": 3,
     "metadata": {},
     "output_type": "execute_result"
    }
   ],
   "source": [
    "#Q.1\n",
    "new_list = [0,1,2,3,4]\n",
    "new_list"
   ]
  },
  {
   "cell_type": "code",
   "execution_count": 4,
   "id": "d8ba0096-21bc-43f9-9ca0-f15ae8994f74",
   "metadata": {},
   "outputs": [
    {
     "data": {
      "text/plain": [
       "['a', 'aa', 'aaa', 'aaaa', 'aaaaa']"
      ]
     },
     "execution_count": 4,
     "metadata": {},
     "output_type": "execute_result"
    }
   ],
   "source": [
    "#Q.2\n",
    "new_list = [\"a\", \"aa\", \"aaa\", \"aaaa\", \"aaaaa\"]\n",
    "new_list"
   ]
  },
  {
   "cell_type": "code",
   "execution_count": 9,
   "id": "8714679c-022d-461f-b5c6-ec1bf970db25",
   "metadata": {},
   "outputs": [
    {
     "name": "stdout",
     "output_type": "stream",
     "text": [
      "green\n",
      "['blue', 'green', 'yellow']\n",
      "['red', 'blue', 'green', 'yellow']\n",
      "['red', 'blue']\n"
     ]
    }
   ],
   "source": [
    "#Q.3\n",
    "colors = ['red', 'blue', 'green', 'yellow']\n",
    "print(colors[2])\n",
    "print(colors[1:4])\n",
    "print(colors[-10:])\n",
    "print(colors[-5:2])"
   ]
  },
  {
   "cell_type": "code",
   "execution_count": 11,
   "id": "53035a3e-657f-4267-8465-bf3cea3721f0",
   "metadata": {},
   "outputs": [
    {
     "data": {
      "text/plain": [
       "[1, 1.02, 'Ram', True]"
      ]
     },
     "execution_count": 11,
     "metadata": {},
     "output_type": "execute_result"
    }
   ],
   "source": [
    "#Q.4\n",
    "new_list = [1,1.02,\"Ram\",True]\n",
    "new_list"
   ]
  },
  {
   "cell_type": "code",
   "execution_count": null,
   "id": "1783ce75-a304-4414-9589-dd964f09ba2a",
   "metadata": {},
   "outputs": [],
   "source": [
    "#Q.5\n",
    "for i in range(5):\n",
    "    marks[i]=input(f\"Enter your marks in subect{i+1}\")\n",
    "for mark in marks:\n",
    "    if mark > marks[]:\n",
    "        max = mark;\n",
    "    if mark < marks[]:\n",
    "        min = mark\n",
    "    total = total + mark\n",
    "per = total/5\n",
    "if per > 90 print(\"Grade A\") elif per < 90 and per > 80 print(\"\")"
   ]
  }
 ],
 "metadata": {
  "kernelspec": {
   "display_name": "Python 3 (ipykernel)",
   "language": "python",
   "name": "python3"
  },
  "language_info": {
   "codemirror_mode": {
    "name": "ipython",
    "version": 3
   },
   "file_extension": ".py",
   "mimetype": "text/x-python",
   "name": "python",
   "nbconvert_exporter": "python",
   "pygments_lexer": "ipython3",
   "version": "3.13.1"
  }
 },
 "nbformat": 4,
 "nbformat_minor": 5
}
