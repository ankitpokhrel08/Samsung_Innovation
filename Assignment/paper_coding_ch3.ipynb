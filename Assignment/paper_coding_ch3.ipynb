{
 "cells": [
  {
   "cell_type": "code",
   "execution_count": 1,
   "metadata": {},
   "outputs": [
    {
     "name": "stdout",
     "output_type": "stream",
     "text": [
      "Welcome.\n",
      "Welcome.\n"
     ]
    }
   ],
   "source": [
    "def my_greet():\n",
    "    print(\"Welcome.\")\n",
    "my_greet()\n",
    "my_greet()"
   ]
  },
  {
   "cell_type": "code",
   "execution_count": 2,
   "metadata": {},
   "outputs": [
    {
     "name": "stdout",
     "output_type": "stream",
     "text": [
      "The greater  of 100 and 200 is: 200\n",
      "The smalller of  100 and 200 is: 100\n"
     ]
    }
   ],
   "source": [
    "def max2(m,n):\n",
    "    if m > n:\n",
    "        return m\n",
    "    return n\n",
    "\n",
    "def min2(m,n):\n",
    "    if m < n:\n",
    "        return m\n",
    "    return n\n",
    "print(f\"The greater  of 100 and 200 is: {max2(100,200)}\")\n",
    "print(f\"The smalller of  100 and 200 is: {min2(100,200)}\")"
   ]
  },
  {
   "cell_type": "code",
   "execution_count": 3,
   "metadata": {},
   "outputs": [
    {
     "name": "stdout",
     "output_type": "stream",
     "text": [
      "1 mile = 1.61 kilometers\n",
      "2 mile = 3.22 kilometers\n",
      "3 mile = 4.83 kilometers\n",
      "4 mile = 6.44 kilometers\n",
      "5 mile = 8.05 kilometers\n"
     ]
    }
   ],
   "source": [
    "def mile_to_km(mile):\n",
    "    conversion_factor = 1.61\n",
    "    return mile * conversion_factor\n",
    "\n",
    "for i in range(1,6):\n",
    "    print(f\"{i} mile = {mile_to_km(i)} kilometers\")"
   ]
  },
  {
   "cell_type": "code",
   "execution_count": 4,
   "metadata": {},
   "outputs": [
    {
     "name": "stdout",
     "output_type": "stream",
     "text": [
      "10 degrees Celcius = 50.0 degrees Fahrenheit\n",
      "20 degrees Celcius = 68.0 degrees Fahrenheit\n",
      "30 degrees Celcius = 86.0 degrees Fahrenheit\n",
      "40 degrees Celcius = 104.0 degrees Fahrenheit\n",
      "50 degrees Celcius = 122.0 degrees Fahrenheit\n"
     ]
    }
   ],
   "source": [
    "def celcius_to_fahrenheit(Celsius):\n",
    "    Fahrenheit = Celsius * 9/5 + 32\n",
    "    print(f\"{Celsius} degrees Celcius = {Fahrenheit} degrees Fahrenheit\")\n",
    "    \n",
    "for temperature in range(10,51,10):\n",
    "    celcius_to_fahrenheit(temperature)"
   ]
  },
  {
   "cell_type": "code",
   "execution_count": 2,
   "metadata": {},
   "outputs": [
    {
     "name": "stdin",
     "output_type": "stream",
     "text": [
      "Enter a number: 10\n"
     ]
    },
    {
     "data": {
      "text/plain": [
       "55"
      ]
     },
     "execution_count": 2,
     "metadata": {},
     "output_type": "execute_result"
    }
   ],
   "source": [
    "def sumToN(n):\n",
    "    if n == 1:\n",
    "        return 1\n",
    "    return n + sumToN(n-1)\n",
    "num = int(input(\"Enter a number:\"))\n",
    "sumToN(num)"
   ]
  },
  {
   "cell_type": "code",
   "execution_count": 7,
   "metadata": {},
   "outputs": [
    {
     "name": "stdin",
     "output_type": "stream",
     "text": [
      "Enter x 3\n",
      "Enter n 3\n"
     ]
    },
    {
     "data": {
      "text/plain": [
       "27"
      ]
     },
     "execution_count": 7,
     "metadata": {},
     "output_type": "execute_result"
    }
   ],
   "source": [
    "def x_to_nth_power(base,exp):\n",
    "    if exp == 1:\n",
    "        return base\n",
    "    elif exp == 0:\n",
    "        return 1\n",
    "    else:\n",
    "        return base * x_to_nth_power(base,exp - 1)\n",
    "\n",
    "x = int(input(\"Enter x\"))\n",
    "n = int(input(\"Enter n\"))\n",
    "\n",
    "x_to_nth_power(x,n)"
   ]
  },
  {
   "cell_type": "code",
   "execution_count": 29,
   "metadata": {},
   "outputs": [
    {
     "data": {
      "text/plain": [
       "[2, 4, 6, 8, 10]"
      ]
     },
     "execution_count": 29,
     "metadata": {},
     "output_type": "execute_result"
    }
   ],
   "source": [
    "n_list = [i for i in range(1,11)]\n",
    "even_list = []\n",
    "for num in filter(lambda x: x % 2 == 0, n_list):\n",
    "        even_list.append(num)\n",
    "even_list"
   ]
  },
  {
   "cell_type": "code",
   "execution_count": 30,
   "metadata": {},
   "outputs": [
    {
     "data": {
      "text/plain": [
       "[2, 4, 6, 8, 10]"
      ]
     },
     "execution_count": 30,
     "metadata": {},
     "output_type": "execute_result"
    }
   ],
   "source": [
    "n_list = [i for i in range(1,11)]\n",
    "even_list = []\n",
    "even_list = list(filter(lambda x: x % 2 == 0, n_list))\n",
    "even_list"
   ]
  },
  {
   "cell_type": "code",
   "execution_count": 58,
   "metadata": {},
   "outputs": [
    {
     "data": {
      "text/plain": [
       "['A', 'B', 'C', 'D']"
      ]
     },
     "execution_count": 58,
     "metadata": {},
     "output_type": "execute_result"
    }
   ],
   "source": [
    "def to_upper(lst):\n",
    "    new_list =list(map(lambda x : chr(ord(x) - 32),lst))\n",
    "    return new_list\n",
    "\n",
    "a_list = ['a', 'b', 'c', 'd']\n",
    "upper_a_list = to_upper(a_list)\n",
    "upper_a_list"
   ]
  },
  {
   "cell_type": "code",
   "execution_count": 8,
   "metadata": {},
   "outputs": [
    {
     "name": "stdout",
     "output_type": "stream",
     "text": [
      "Sum of 1 to 100: 5050\n"
     ]
    }
   ],
   "source": [
    "from functools import reduce\n",
    "num_list = [x for x in range(1,101)]\n",
    "sum = reduce(lambda x,y: x + y ,num_list)\n",
    "print(f\"Sum of 1 to 100: {sum}\")"
   ]
  },
  {
   "cell_type": "code",
   "execution_count": 9,
   "metadata": {},
   "outputs": [
    {
     "name": "stdout",
     "output_type": "stream",
     "text": [
      "hello\n"
     ]
    }
   ],
   "source": [
    "def greeting():\n",
    "    def say_hi():\n",
    "        print('hello')\n",
    "    return say_hi\n",
    "greet = greeting()\n",
    "greet()"
   ]
  },
  {
   "cell_type": "code",
   "execution_count": 10,
   "metadata": {},
   "outputs": [
    {
     "data": {
      "text/plain": [
       "14"
      ]
     },
     "execution_count": 10,
     "metadata": {},
     "output_type": "execute_result"
    }
   ],
   "source": [
    "def calc():\n",
    "    a = 3\n",
    "    b = 5\n",
    "    def mul_add(x):\n",
    "        return a * x + b\n",
    "    return mul_add\n",
    "\n",
    "num = calc()\n",
    "num(3)"
   ]
  },
  {
   "cell_type": "code",
   "execution_count": 11,
   "metadata": {},
   "outputs": [
    {
     "data": {
      "text/plain": [
       "14"
      ]
     },
     "execution_count": 11,
     "metadata": {},
     "output_type": "execute_result"
    }
   ],
   "source": [
    "def calc():\n",
    "    a = 3\n",
    "    b = 5\n",
    "    mul_add =lambda  x :a * x + b\n",
    "    return mul_add\n",
    "\n",
    "num = calc()\n",
    "num(3)"
   ]
  },
  {
   "cell_type": "code",
   "execution_count": 12,
   "metadata": {},
   "outputs": [
    {
     "name": "stdout",
     "output_type": "stream",
     "text": [
      "woof woof\n"
     ]
    }
   ],
   "source": [
    "class Dog:\n",
    "    def bark(self):\n",
    "        print(\"woof woof\")\n",
    "\n",
    "my_dog = Dog()\n",
    "my_dog.bark()"
   ]
  },
  {
   "cell_type": "code",
   "execution_count": 13,
   "metadata": {},
   "outputs": [
    {
     "name": "stdout",
     "output_type": "stream",
     "text": [
      "Bingo: woof woof\n"
     ]
    }
   ],
   "source": [
    "class Dog:\n",
    "    def __init__(self,name):\n",
    "        self.name = name\n",
    "    def bark(self):\n",
    "        print(\"woof woof\")\n",
    "\n",
    "my_dog =Dog(\"Bingo\")   \n",
    "print(f\"{my_dog.name}: \",end = \"\")\n",
    "my_dog.bark()"
   ]
  },
  {
   "cell_type": "code",
   "execution_count": null,
   "metadata": {},
   "outputs": [],
   "source": []
  },
  {
   "cell_type": "code",
   "execution_count": null,
   "metadata": {},
   "outputs": [],
   "source": []
  },
  {
   "cell_type": "code",
   "execution_count": null,
   "metadata": {},
   "outputs": [],
   "source": [
    " "
   ]
  }
 ],
 "metadata": {
  "kernelspec": {
   "display_name": "Python 3 (ipykernel)",
   "language": "python",
   "name": "python3"
  },
  "language_info": {
   "codemirror_mode": {
    "name": "ipython",
    "version": 3
   },
   "file_extension": ".py",
   "mimetype": "text/x-python",
   "name": "python",
   "nbconvert_exporter": "python",
   "pygments_lexer": "ipython3",
   "version": "3.13.1"
  }
 },
 "nbformat": 4,
 "nbformat_minor": 4
}
