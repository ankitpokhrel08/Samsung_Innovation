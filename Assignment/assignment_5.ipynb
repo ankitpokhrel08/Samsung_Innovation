{
 "cells": [
  {
   "cell_type": "code",
   "execution_count": 20,
   "id": "34ed3fd8-99f1-42d5-b140-0743fe6f4d33",
   "metadata": {},
   "outputs": [
    {
     "data": {
      "text/plain": [
       "[1, 4, 9, 16, 25]"
      ]
     },
     "execution_count": 20,
     "metadata": {},
     "output_type": "execute_result"
    }
   ],
   "source": [
    "#Q.1\n",
    "def square_list(num):\n",
    "    return [num ** 2 for num in num]\n",
    "square_list([1, 2, 3, 4, 5])"
   ]
  },
  {
   "cell_type": "code",
   "execution_count": 22,
   "id": "a5a5cc8d-e26a-456d-a802-ad6cd0c1e23b",
   "metadata": {},
   "outputs": [
    {
     "data": {
      "text/plain": [
       "'Rahul'"
      ]
     },
     "execution_count": 22,
     "metadata": {},
     "output_type": "execute_result"
    }
   ],
   "source": [
    "#Q.2\n",
    "def get_employee_name(employee_dict, employee_id):\n",
    "    if employee_id not in employee_dict.keys():\n",
    "        print(\"id not found\")\n",
    "        return \n",
    "    name = employee_dict[employee_id]\n",
    "    return name    \n",
    "get_employee_name({1: \"Rahul\", 2:\"Simran\"}, 1)"
   ]
  },
  {
   "cell_type": "code",
   "execution_count": 26,
   "id": "7c5892e9-d52c-4325-9df1-d262dfc773c9",
   "metadata": {},
   "outputs": [
    {
     "data": {
      "text/plain": [
       "{'Prithivi Narayan': 99, 'Chandra Samsher': 99}"
      ]
     },
     "execution_count": 26,
     "metadata": {},
     "output_type": "execute_result"
    }
   ],
   "source": [
    "#Q.3\n",
    "def filer_high_scores(scores):\n",
    "    return {name:score for name, score in scores.items() if score>80}\n",
    "filer_high_scores({'Prithivi Narayan': 99, 'Jhanga Bhadhur':40 ,'Chandra Samsher':99})\n"
   ]
  },
  {
   "cell_type": "code",
   "execution_count": 29,
   "id": "8d4613c9-5e67-4025-87d2-d5f2ccdaf6b3",
   "metadata": {},
   "outputs": [
    {
     "data": {
      "text/plain": [
       "{0, 1}"
      ]
     },
     "execution_count": 29,
     "metadata": {},
     "output_type": "execute_result"
    }
   ],
   "source": [
    "#Q.4\n",
    "def common_elements(set1, set2):\n",
    "    return set1.intersection(set2)\n",
    "common_elements({0,1,4,9,16}, {0,1, 8, 27, 64})\n"
   ]
  },
  {
   "cell_type": "code",
   "execution_count": 33,
   "id": "95b1463e-eff7-4188-a1ef-4c383fba08a9",
   "metadata": {},
   "outputs": [
    {
     "data": {
      "text/plain": [
       "24"
      ]
     },
     "execution_count": 33,
     "metadata": {},
     "output_type": "execute_result"
    }
   ],
   "source": [
    "#Q.5\n",
    "def lcm(num1, num2):\n",
    "    if num1 > num2:\n",
    "        great = num1\n",
    "    else:\n",
    "        great = num2\n",
    "    while True:\n",
    "        if great % num1 == 0 and great % num2 == 0:\n",
    "            return great\n",
    "        great += 1\n",
    "lcm(8, 12)"
   ]
  },
  {
   "cell_type": "code",
   "execution_count": 38,
   "id": "1a5e9b42-1b67-4973-b268-92b469d5c3cd",
   "metadata": {},
   "outputs": [
    {
     "name": "stdout",
     "output_type": "stream",
     "text": [
      "Prime Number\n"
     ]
    }
   ],
   "source": [
    "#Q.6\n",
    "def prime(num):\n",
    "    if num<=1:\n",
    "        return False\n",
    "    for i in range(2,round(num/2)+1):\n",
    "        if num%i==0:\n",
    "            return False\n",
    "    return True\n",
    "if prime(37):\n",
    "    print(\"Prime Number\")\n",
    "else:\n",
    "    print(\"Composite Number\")"
   ]
  },
  {
   "cell_type": "code",
   "execution_count": 39,
   "id": "52f9bb9a-34ee-4c13-ab01-e47109d7e92e",
   "metadata": {},
   "outputs": [
    {
     "name": "stdout",
     "output_type": "stream",
     "text": [
      "[2, 3, 5, 7, 11, 13, 17, 19, 23, 29, 31, 37, 41, 43, 47]\n"
     ]
    }
   ],
   "source": [
    "#Q.7 (Implementing Sieve of Eratosthenes algorithm.)\n",
    "def find_primes(limit):\n",
    "    is_prime = [True] * (limit + 1)\n",
    "    for number in range(2, limit + 1):\n",
    "        if is_prime[number]:\n",
    "            for multiple in range(number * 2, limit + 1, number):\n",
    "                is_prime[multiple] = False\n",
    "    return [num for num in range(2, limit + 1) if is_prime[num]]\n",
    "print(find_primes(50)) "
   ]
  },
  {
   "cell_type": "code",
   "execution_count": 41,
   "id": "5fd68d94-fcaa-43b9-a012-c9a06f1f96c7",
   "metadata": {},
   "outputs": [
    {
     "data": {
      "text/plain": [
       "21"
      ]
     },
     "execution_count": 41,
     "metadata": {},
     "output_type": "execute_result"
    }
   ],
   "source": [
    "#Q.8\n",
    "def my_sum(*args):\n",
    "    sum = 0\n",
    "    for i in args:\n",
    "        sum+=i\n",
    "    return sum\n",
    "my_sum(1, 2, 3, 4, 5, 6)"
   ]
  },
  {
   "cell_type": "code",
   "execution_count": 42,
   "id": "33757ec5-2f1b-4b3e-8fc1-1ad62367f053",
   "metadata": {},
   "outputs": [
    {
     "ename": "NameError",
     "evalue": "name 'requests' is not defined",
     "output_type": "error",
     "traceback": [
      "\u001b[0;31m---------------------------------------------------------------------------\u001b[0m",
      "\u001b[0;31mNameError\u001b[0m                                 Traceback (most recent call last)",
      "Cell \u001b[0;32mIn[42], line 1\u001b[0m\n\u001b[0;32m----> 1\u001b[0m response \u001b[38;5;241m=\u001b[39m \u001b[43mrequests\u001b[49m\u001b[38;5;241m.\u001b[39mget(\u001b[38;5;124m\"\u001b[39m\u001b[38;5;124mhttps://db5f-103-5-150-130.ngrok-free.app/weather\u001b[39m\u001b[38;5;124m\"\u001b[39m)\n\u001b[1;32m      2\u001b[0m data \u001b[38;5;241m=\u001b[39m response\u001b[38;5;241m.\u001b[39mjson()\n\u001b[1;32m      3\u001b[0m \u001b[38;5;28mprint\u001b[39m(\u001b[38;5;124m\"\u001b[39m\u001b[38;5;124mThe temperature of\u001b[39m\u001b[38;5;124m\"\u001b[39m , data[\u001b[38;5;124m\"\u001b[39m\u001b[38;5;124mname\u001b[39m\u001b[38;5;124m\"\u001b[39m],\u001b[38;5;124m\"\u001b[39m\u001b[38;5;124mis\u001b[39m\u001b[38;5;124m\"\u001b[39m,data[\u001b[38;5;124m'\u001b[39m\u001b[38;5;124mmain\u001b[39m\u001b[38;5;124m'\u001b[39m][\u001b[38;5;124m'\u001b[39m\u001b[38;5;124mtemp\u001b[39m\u001b[38;5;124m'\u001b[39m],\u001b[38;5;124m\"\u001b[39m\u001b[38;5;124m°C.\u001b[39m\u001b[38;5;124m\"\u001b[39m)\n",
      "\u001b[0;31mNameError\u001b[0m: name 'requests' is not defined"
     ]
    }
   ],
   "source": [
    "response = requests.get(\"https://db5f-103-5-150-130.ngrok-free.app/weather\")\n",
    "data = response.json()\n",
    "print(\"The temperature of\" , data[\"name\"],\"is\",data['main']['temp'],\"°C.\")"
   ]
  },
  {
   "cell_type": "raw",
   "id": "1818ccda-9f84-43b2-be1e-40f948ab1252",
   "metadata": {},
   "source": [
    "##The API is not working so this was output when I last ran this code. \n",
    "\n",
    "The temperature of Kathmandu is 6.12 °C."
   ]
  }
 ],
 "metadata": {
  "kernelspec": {
   "display_name": "Python 3 (ipykernel)",
   "language": "python",
   "name": "python3"
  },
  "language_info": {
   "codemirror_mode": {
    "name": "ipython",
    "version": 3
   },
   "file_extension": ".py",
   "mimetype": "text/x-python",
   "name": "python",
   "nbconvert_exporter": "python",
   "pygments_lexer": "ipython3",
   "version": "3.13.1"
  }
 },
 "nbformat": 4,
 "nbformat_minor": 5
}
