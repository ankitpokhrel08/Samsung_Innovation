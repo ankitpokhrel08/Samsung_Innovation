{
 "cells": [
  {
   "cell_type": "markdown",
   "id": "0426bc69-6c7a-4468-aa7c-f0130ada0130",
   "metadata": {},
   "source": [
    "# Quiz -- Chapter 3 "
   ]
  },
  {
   "cell_type": "code",
   "execution_count": 2,
   "id": "f7c4325e-298e-47e2-904a-aaf970d62463",
   "metadata": {},
   "outputs": [
    {
     "name": "stdin",
     "output_type": "stream",
     "text": [
      "Enter the x1 coordinate: 0\n",
      "Enter the y1 coordinate: 0\n",
      "Enter the x2 coordinate: 3\n",
      "Enter the y2 coordinate: 4\n"
     ]
    },
    {
     "name": "stdout",
     "output_type": "stream",
     "text": [
      "The distance between two points: 5.0\n"
     ]
    }
   ],
   "source": [
    "#Q. 17-01\n",
    "import math\n",
    "\n",
    "#defining function\n",
    "def distance(x1, y1, x2, y2):\n",
    "    return math.sqrt((x2 - x1)**2 + (y2 - y1)**2)\n",
    "\n",
    "x1 = int(input(\"Enter the x1 coordinate:\"))\n",
    "y1 = int(input(\"Enter the y1 coordinate:\"))\n",
    "x2 = int(input(\"Enter the x2 coordinate:\"))\n",
    "y2 = int(input(\"Enter the y2 coordinate:\"))\n",
    "\n",
    "print(f\"The distance between two points: {distance(x1,y1,x2,y2)}\")"
   ]
  },
  {
   "cell_type": "code",
   "execution_count": 7,
   "id": "5077ffb8-4ef6-4002-aaf1-bd4d9dd039eb",
   "metadata": {},
   "outputs": [
    {
     "name": "stdin",
     "output_type": "stream",
     "text": [
      "Enter a string:  racecar\n"
     ]
    },
    {
     "name": "stdout",
     "output_type": "stream",
     "text": [
      "The string is a palindrome.\n"
     ]
    }
   ],
   "source": [
    "#Q. 18-01\n",
    "def is_palindrome(s):\n",
    "    if len(s) <= 1:\n",
    "        return True\n",
    "        \n",
    "    if s[0] == s[-1]:\n",
    "        return is_palindrome(s[1:-1]) \n",
    "    return False\n",
    "\n",
    "user_input = input(\"Enter a string: \")\n",
    "\n",
    "if is_palindrome(user_input):\n",
    "    print(\"The string is a palindrome.\")\n",
    "else:\n",
    "    print(\"The string is not a palindrome.\")"
   ]
  },
  {
   "cell_type": "code",
   "execution_count": 14,
   "id": "6df2bc7e-ad37-4ab9-879a-fbde01e20853",
   "metadata": {},
   "outputs": [
    {
     "name": "stdout",
     "output_type": "stream",
     "text": [
      "Twice the input value:  [20, 40, 60]\n",
      "Three times the input value:  [30, 60, 90]\n"
     ]
    }
   ],
   "source": [
    "#Q. 19-01\n",
    "n_list = [10, 20, 30]\n",
    "print(\"Twice the input value: \", list(map(lambda n:2 * n,n_list)))\n",
    "print(\"Three times the input value: \", list(map(lambda n: 3 * n,n_list)))"
   ]
  },
  {
   "cell_type": "raw",
   "id": "7bcbc3c7-e50a-4a57-a248-3a6e0253ff31",
   "metadata": {},
   "source": [
    "#Q. 20-01\n",
    "The output of the avobe code will be:\n",
    "1\n",
    "4\n",
    "27\n",
    "256\n",
    "3125\n"
   ]
  },
  {
   "cell_type": "code",
   "execution_count": 28,
   "id": "97f72f27-1dc5-4e3f-b789-72d3fc06964d",
   "metadata": {},
   "outputs": [
    {
     "name": "stdout",
     "output_type": "stream",
     "text": [
      "v1 * v2 = (300, 800)\n",
      "v1 / v2 = (3.0, 2.0)\n"
     ]
    }
   ],
   "source": [
    "#Q. 21-01\n",
    "class Vector2D:\n",
    "    def __init__(self, x, y):\n",
    "        self.x = x\n",
    "        self.y = y\n",
    "\n",
    "    def __mul__(self, other):\n",
    "        return Vector2D(self.x * other.x, self.y * other.y)\n",
    "\n",
    "    def __truediv__(self, other):\n",
    "        return Vector2D(self.x / other.x, self.y / other.y)\n",
    "\n",
    "    def __str__(self):\n",
    "        return f\"({self.x}, {self.y})\"\n",
    "\n",
    "v1 = Vector2D(30, 40)\n",
    "v2 = Vector2D(10, 20)\n",
    "\n",
    "multiply = v1 * v2\n",
    "divide = v1 / v2\n",
    "\n",
    "print(f\"v1 * v2 = {multiply}\")\n",
    "print(f\"v1 / v2 = {divide}\")"
   ]
  }
 ],
 "metadata": {
  "kernelspec": {
   "display_name": "Python 3 (ipykernel)",
   "language": "python",
   "name": "python3"
  },
  "language_info": {
   "codemirror_mode": {
    "name": "ipython",
    "version": 3
   },
   "file_extension": ".py",
   "mimetype": "text/x-python",
   "name": "python",
   "nbconvert_exporter": "python",
   "pygments_lexer": "ipython3",
   "version": "3.13.1"
  }
 },
 "nbformat": 4,
 "nbformat_minor": 5
}
