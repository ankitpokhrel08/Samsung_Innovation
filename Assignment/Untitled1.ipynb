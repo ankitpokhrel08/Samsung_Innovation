{
 "cells": [
  {
   "cell_type": "code",
   "execution_count": null,
   "id": "f0820cf0-08dd-41d1-af43-dc68c8ba2203",
   "metadata": {},
   "outputs": [],
   "source": []
  }
 ],
 "metadata": {
  "kernelspec": {
   "display_name": "",
   "name": ""
  },
  "language_info": {
   "name": ""
  }
 },
 "nbformat": 4,
 "nbformat_minor": 5
}
