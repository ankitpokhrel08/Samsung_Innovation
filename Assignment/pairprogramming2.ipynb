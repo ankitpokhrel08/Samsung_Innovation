{
 "cells": [
  {
   "cell_type": "code",
   "execution_count": null,
   "id": "50b70fc2-8dbe-4e09-8951-541bb6613574",
   "metadata": {},
   "outputs": [],
   "source": [
    "##PAIR_PROGRAMMING (CHAPTER-2)"
   ]
  },
  {
   "cell_type": "code",
   "execution_count": 1,
   "id": "efde3f3f-311d-426d-89c5-0b2249164459",
   "metadata": {},
   "outputs": [
    {
     "name": "stdout",
     "output_type": "stream",
     "text": [
      "The shortest string: abc\n"
     ]
    }
   ],
   "source": [
    "#UNIT-10\n",
    "#PP1\n",
    "s_list = ['abc', 'bcd', 'bcdefg', 'abba', 'cddc', 'opq']\n",
    "min_element = s_list[0]\n",
    "for item in s_list:\n",
    "    if len(item) < len(min_element):\n",
    "        min_element = item\n",
    "print(f\"The shortest string: {min_element}\")"
   ]
  },
  {
   "cell_type": "code",
   "execution_count": 3,
   "id": "341770c1-d1c2-4263-a88d-fe3b32521c04",
   "metadata": {},
   "outputs": [
    {
     "name": "stdout",
     "output_type": "stream",
     "text": [
      "The longest string: bcdefg\n"
     ]
    }
   ],
   "source": [
    "#UNIT-10\n",
    "#PP2\n",
    "s_list = ['abc', 'bcd', 'bcdefg', 'abba', 'cddc', 'opq']\n",
    "max_element = s_list[0]\n",
    "for item in s_list:\n",
    "    if len(item) > len(max_element):\n",
    "        max_element = item\n",
    "print(f\"The longest string: {max_element}\")"
   ]
  },
  {
   "cell_type": "code",
   "execution_count": 16,
   "id": "7111fae0-542b-4a27-9575-b8961a2c922a",
   "metadata": {},
   "outputs": [
    {
     "name": "stdout",
     "output_type": "stream",
     "text": [
      "The shortest strings :'abc','bcd','opq',"
     ]
    }
   ],
   "source": [
    "#UNIT-10\n",
    "#PP3\n",
    "s_list = ['abc', 'bcd', 'bcdefg', 'abba', 'cddc', 'opq']\n",
    "s_list.sort(key = len)\n",
    "min_length = len(s_list[0])\n",
    "print(\"The shortest strings :\",end=\"\")\n",
    "for item in s_list:\n",
    "    if(len(item) == min_length):\n",
    "        print(f\"'{item}'\",end = \",\")"
   ]
  },
  {
   "cell_type": "code",
   "execution_count": 7,
   "id": "5e6cee62-84b7-465b-bdbb-d861b6f229b5",
   "metadata": {},
   "outputs": [
    {
     "name": "stdout",
     "output_type": "stream",
     "text": [
      "dict_keys(['apple', 'melon', 'banana', 'orange'])\n",
      "apple is in fruits_dic\n",
      "mango is not in fruits_dic\n"
     ]
    }
   ],
   "source": [
    "#UNIT-11\n",
    "#PP1\n",
    "fruits_dic = {\n",
    "    'apple': 6000,\n",
    "    'melon': 3000,\n",
    "    'banana': 5000,\n",
    "    'orange': 4000\n",
    "}\n",
    "print(fruits_dic.keys())\n",
    "item1 = \"apple\"\n",
    "item2 = \"mango\"\n",
    "if item1 in fruits_dic.keys():\n",
    "    print(f\"{item1} is in fruits_dic\")\n",
    "else:\n",
    "    print(f\"{item1} is not in fruits_dic\")\n",
    "    \n",
    "if item2 in fruits_dic.keys():\n",
    "    print(f\"{item2} is in fruits_dic\")\n",
    "else:\n",
    "    print(f\"{item2} is not in fruits_dic\")"
   ]
  },
  {
   "cell_type": "code",
   "execution_count": 8,
   "id": "54b77292-6f66-4870-b990-ab7d4c863788",
   "metadata": {},
   "outputs": [
    {
     "name": "stdout",
     "output_type": "stream",
     "text": [
      "The most frequent element: 9\n"
     ]
    }
   ],
   "source": [
    "#UNIT-12\n",
    "#PP1\n",
    "nums = (1, 2, 5, 4, 3, 2, 1, 4, 7, 8, 9, 9, 3, 7, 3, 9)\n",
    "def most_frequent(t):\n",
    "    freq = {}\n",
    "    for num in t:\n",
    "        freq[num] = freq.get(num, 0) + 1\n",
    "    max_count = max(freq.values())\n",
    "    most_frequent_num = max([num for num, count in freq.items() if count == max_count])\n",
    "    return most_frequent_num\n",
    "print(\"The most frequent element:\", most_frequent(nums))"
   ]
  },
  {
   "cell_type": "code",
   "execution_count": 9,
   "id": "edae51d5-ffc5-450a-bad5-c3d19237efd6",
   "metadata": {},
   "outputs": [
    {
     "name": "stdout",
     "output_type": "stream",
     "text": [
      "Filtered list: [(1,), 'abc', (1,), ('a',), ('a', 'b'), ((),)]\n"
     ]
    }
   ],
   "source": [
    "#PP2\n",
    "given_list = [(), (1,), [], 'abc', (), (), (1,), ('a',), ('a', 'b'), ((),), '']\n",
    "cleaned_list = [x for x in given_list if x]\n",
    "print(\"Filtered list:\", cleaned_list)\n"
   ]
  },
  {
   "cell_type": "code",
   "execution_count": 17,
   "id": "3ceb23e2-d07b-4c41-82b6-5b8b3b9cf663",
   "metadata": {},
   "outputs": [
    {
     "name": "stdin",
     "output_type": "stream",
     "text": [
      "Enter n:  5\n"
     ]
    },
    {
     "name": "stdout",
     "output_type": "stream",
     "text": [
      "[0, 1, 0, 1, 0]\n",
      "[1, 0, 1, 0, 1]\n",
      "[0, 1, 0, 1, 0]\n",
      "[1, 0, 1, 0, 1]\n",
      "[0, 1, 0, 1, 0]\n"
     ]
    }
   ],
   "source": [
    "#UNIT 13\n",
    "#PP1\n",
    "n = int(input(\"Enter n: \"))\n",
    "pattern = [[(i + j) % 2 for j in range(n)] for i in range(n)]\n",
    "for row in pattern:\n",
    "    print(row)"
   ]
  },
  {
   "cell_type": "code",
   "execution_count": 18,
   "id": "f1632823-6a84-4715-81d3-89041135a48f",
   "metadata": {},
   "outputs": [
    {
     "name": "stdout",
     "output_type": "stream",
     "text": [
      "\n",
      "Select menu 1)check stock 2)warehousing 3)release 4)exit : "
     ]
    },
    {
     "name": "stdin",
     "output_type": "stream",
     "text": [
      " 1\n"
     ]
    },
    {
     "name": "stdout",
     "output_type": "stream",
     "text": [
      "[check stock] Enter item: "
     ]
    },
    {
     "name": "stdin",
     "output_type": "stream",
     "text": [
      " milk\n"
     ]
    },
    {
     "name": "stdout",
     "output_type": "stream",
     "text": [
      "Stock: 1\n",
      "\n",
      "Select menu 1)check stock 2)warehousing 3)release 4)exit : "
     ]
    },
    {
     "name": "stdin",
     "output_type": "stream",
     "text": [
      " 3\n"
     ]
    },
    {
     "name": "stdout",
     "output_type": "stream",
     "text": [
      "[Release] Enter item and quantity: "
     ]
    },
    {
     "name": "stdin",
     "output_type": "stream",
     "text": [
      " coke 1\n"
     ]
    },
    {
     "name": "stdout",
     "output_type": "stream",
     "text": [
      "1 units of Coke released. Remaining stock: 3\n",
      "\n",
      "Select menu 1)check stock 2)warehousing 3)release 4)exit : "
     ]
    },
    {
     "name": "stdin",
     "output_type": "stream",
     "text": [
      " 1\n"
     ]
    },
    {
     "name": "stdout",
     "output_type": "stream",
     "text": [
      "[check stock] Enter item: "
     ]
    },
    {
     "name": "stdin",
     "output_type": "stream",
     "text": [
      " 3\n"
     ]
    },
    {
     "name": "stdout",
     "output_type": "stream",
     "text": [
      "3 is not in stock.\n",
      "\n",
      "Select menu 1)check stock 2)warehousing 3)release 4)exit : "
     ]
    },
    {
     "name": "stdin",
     "output_type": "stream",
     "text": [
      " 1\n"
     ]
    },
    {
     "name": "stdout",
     "output_type": "stream",
     "text": [
      "[check stock] Enter item: "
     ]
    },
    {
     "name": "stdin",
     "output_type": "stream",
     "text": [
      " coke\n"
     ]
    },
    {
     "name": "stdout",
     "output_type": "stream",
     "text": [
      "Stock: 3\n",
      "\n",
      "Select menu 1)check stock 2)warehousing 3)release 4)exit : "
     ]
    },
    {
     "name": "stdin",
     "output_type": "stream",
     "text": [
      " 4\n"
     ]
    },
    {
     "name": "stdout",
     "output_type": "stream",
     "text": [
      "Program exited.\n"
     ]
    }
   ],
   "source": [
    "#UNIT-14\n",
    "#PP1\n",
    "items = {\"Coffee\": 7, \"Pen\": 3, \"Paper cup\": 2, \"Milk\": 1, \"Coke\": 4, \"Book\": 5}\n",
    "\n",
    "def manage_inventory():\n",
    "    while True:\n",
    "        print(\"\\nSelect menu 1)check stock 2)warehousing 3)release 4)exit : \", end=\"\")\n",
    "        choice = input()\n",
    "        \n",
    "        if choice == '1':  \n",
    "            print(\"[check stock] Enter item: \", end=\"\")\n",
    "            item = input().capitalize()\n",
    "            if item in items:\n",
    "                print(f\"Stock: {items[item]}\")\n",
    "            else:\n",
    "                print(f\"{item} is not in stock.\")\n",
    "\n",
    "        elif choice == '2':  \n",
    "            print(\"[Warehousing] Enter item and quantity: \", end=\"\")\n",
    "            user_input = input().split()\n",
    "            if len(user_input) == 2:\n",
    "                item, qty = user_input[0].capitalize(), int(user_input[1])\n",
    "                if item in items:\n",
    "                    items[item] += qty\n",
    "                else:\n",
    "                    items[item] = qty  \n",
    "                print(f\"{qty} units of {item} added. New stock: {items[item]}\")\n",
    "            else:\n",
    "                print(\"Invalid input. Enter in 'item quantity' format.\")\n",
    "\n",
    "        elif choice == '3':  \n",
    "            print(\"[Release] Enter item and quantity: \", end=\"\")\n",
    "            user_input = input().split()\n",
    "            if len(user_input) == 2:\n",
    "                item, qty = user_input[0].capitalize(), int(user_input[1])\n",
    "                if item in items:\n",
    "                    if items[item] >= qty:\n",
    "                        items[item] -= qty\n",
    "                        print(f\"{qty} units of {item} released. Remaining stock: {items[item]}\")\n",
    "                    else:\n",
    "                        print(f\"Insufficient stock of {item}. Current stock: {items[item]}\")\n",
    "                else:\n",
    "                    print(f\"{item} is not in stock.\")\n",
    "            else:\n",
    "                print(\"Invalid input. Enter in 'item quantity' format.\")\n",
    "\n",
    "        elif choice == '4':  \n",
    "            print(\"Program exited.\")\n",
    "            break\n",
    "\n",
    "        else:\n",
    "            print(\"Invalid choice. Please select a valid option.\")\n",
    "manage_inventory()"
   ]
  },
  {
   "cell_type": "code",
   "execution_count": 14,
   "id": "cf12ccde-a4fd-4b31-86ff-6c92bd5767db",
   "metadata": {},
   "outputs": [
    {
     "name": "stdout",
     "output_type": "stream",
     "text": [
      "211101 : David Doe\n",
      "211102 : John Smith\n",
      "211103 : Jane Carter\n"
     ]
    },
    {
     "name": "stdin",
     "output_type": "stream",
     "text": [
      "\n",
      "Enter student ID number:  211101\n"
     ]
    },
    {
     "name": "stdout",
     "output_type": "stream",
     "text": [
      "211101 student is David Doe and phone number is 010-123-1111.\n"
     ]
    }
   ],
   "source": [
    "#UNIT-15\n",
    "#PP1\n",
    "student_tuple = [\n",
    "    ('211101', 'David Doe', '010-123-1111'),\n",
    "    ('211102', 'John Smith', '010-123-2222'),\n",
    "    ('211103', 'Jane Carter', '010-123-3333')\n",
    "]\n",
    "\n",
    "# Create a dictionary from the tuple\n",
    "student_dict = {student[0]: (student[1], student[2]) for student in student_tuple}\n",
    "\n",
    "# Print all students in the required format\n",
    "for student_id, (name, _) in student_dict.items():\n",
    "    print(f\"{student_id} : {name}\")\n",
    "\n",
    "# Input a student ID and display details\n",
    "student_id = input(\"\\nEnter student ID number: \")\n",
    "if student_id in student_dict:\n",
    "    name, phone = student_dict[student_id]\n",
    "    print(f\"{student_id} student is {name} and phone number is {phone}.\")\n",
    "else:\n",
    "    print(\"Student ID not found.\")"
   ]
  },
  {
   "cell_type": "code",
   "execution_count": 15,
   "id": "5b45aea2-84aa-4b04-ae7f-1519fc39ec35",
   "metadata": {},
   "outputs": [
    {
     "name": "stdin",
     "output_type": "stream",
     "text": [
      "Enter two integers:  7 8\n"
     ]
    },
    {
     "name": "stdout",
     "output_type": "stream",
     "text": [
      "There is no (7, 8) nor (8, 7).\n"
     ]
    }
   ],
   "source": [
    "\n",
    "#UNIT 16\n",
    "#PP1\n",
    "mylist = [(1, 2), (4, 5), (4, 2), (3, 1), (9, 4)]\n",
    "a, b = map(int, input(\"Enter two integers: \").split())\n",
    "if (a, b) in mylist:\n",
    "    print(f\"There is ({a}, {b}) at index {mylist.index((a, b)) + 1}.\")\n",
    "elif (b, a) in mylist:\n",
    "    print(f\"There is no ({a}, {b}) but ({b}, {a}) is there at index {mylist.index((b, a)) + 1}.\")\n",
    "else:\n",
    "    print(f\"There is no ({a}, {b}) nor ({b}, {a}).\")\n"
   ]
  }
 ],
 "metadata": {
  "kernelspec": {
   "display_name": "Python 3 (ipykernel)",
   "language": "python",
   "name": "python3"
  },
  "language_info": {
   "codemirror_mode": {
    "name": "ipython",
    "version": 3
   },
   "file_extension": ".py",
   "mimetype": "text/x-python",
   "name": "python",
   "nbconvert_exporter": "python",
   "pygments_lexer": "ipython3",
   "version": "3.13.1"
  }
 },
 "nbformat": 4,
 "nbformat_minor": 5
}
