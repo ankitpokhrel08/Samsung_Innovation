{
 "cells": [
  {
   "cell_type": "markdown",
   "id": "50be14be-d310-4f5e-87dc-2834aad70774",
   "metadata": {},
   "source": [
    "Name: Ankit Pokhrel <br>\n",
    "Roll No: 079bct016"
   ]
  },
  {
   "cell_type": "code",
   "execution_count": 3,
   "id": "c431bb47-e647-475f-a1a9-604dd2318c23",
   "metadata": {},
   "outputs": [
    {
     "name": "stdout",
     "output_type": "stream",
     "text": [
      "The sum of 1 to 5 is: 15\n"
     ]
    }
   ],
   "source": [
    "# Q. 01-01\n",
    "print(\"The sum of 1 to 5 is:\",1+2+3+4+5)"
   ]
  },
  {
   "cell_type": "raw",
   "id": "7bd3cb96-81c5-4c75-8527-12520c5b310a",
   "metadata": {},
   "source": [
    "#Q. 02-01 \n",
    "print(\"Enter an interger\") \n",
    "n = input()\n",
    "if n%2 == 0:\n",
    "    print \"n is even\"\n",
    "else:\n",
    "    print \"n is odd\"\n"
   ]
  },
  {
   "cell_type": "code",
   "execution_count": 11,
   "id": "4eeab591-a08d-44f2-9d31-897451592830",
   "metadata": {},
   "outputs": [
    {
     "name": "stdout",
     "output_type": "stream",
     "text": [
      "*****************************************\n",
      "# # # # # # # # # # # # # # # # # # # # # \n"
     ]
    }
   ],
   "source": [
    "#Q. 03-01\n",
    "\n",
    "print(\"*\" * 41)\n",
    "print(\"# \" * 21)"
   ]
  },
  {
   "cell_type": "code",
   "execution_count": 12,
   "id": "8bfb8cc6-49f0-4239-a0e4-fc92abc92aca",
   "metadata": {},
   "outputs": [
    {
     "name": "stdout",
     "output_type": "stream",
     "text": [
      "Ankit Pokhrel\n",
      "Kathmandu\n"
     ]
    }
   ],
   "source": [
    "#Q. 04-01\n",
    "name = \"Ankit Pokhrel\"\n",
    "address = \"Kathmandu\"\n",
    "print(name)\n",
    "print(address)"
   ]
  },
  {
   "cell_type": "raw",
   "id": "bb6aafc2-e88a-418c-89c0-70f235e29449",
   "metadata": {},
   "source": [
    "#Q. 05-01 (Output)\n",
    "\n",
    "0\n",
    "1\n",
    "False\n",
    "True"
   ]
  },
  {
   "cell_type": "code",
   "execution_count": 19,
   "id": "cf6b1c98-eb9c-45ba-abac-31fb57dc17fc",
   "metadata": {},
   "outputs": [
    {
     "name": "stdin",
     "output_type": "stream",
     "text": [
      "Enter first number 3\n",
      "Enter second number 2\n"
     ]
    },
    {
     "name": "stdout",
     "output_type": "stream",
     "text": [
      "2 3\n"
     ]
    }
   ],
   "source": [
    "#Q. 06-01\n",
    "num1 = int(input(\"Enter first number\"))\n",
    "num2 = int(input(\"Enter second number\"))\n",
    "if num1<num2:\n",
    "    print(num1,num2)\n",
    "elif num2<num1:\n",
    "    print(num2,num1)\n",
    "else:\n",
    "    print(\"Two integer cannot be the same number\")"
   ]
  },
  {
   "cell_type": "code",
   "execution_count": 26,
   "id": "240b766d-fc18-4b08-bf0e-d473db7a7371",
   "metadata": {},
   "outputs": [
    {
     "name": "stdin",
     "output_type": "stream",
     "text": [
      "Are you an adult? (if you are an adult,0 if you are minor) 1\n",
      "Are you married? (if you are married,0 if you are single) 0\n"
     ]
    },
    {
     "name": "stdout",
     "output_type": "stream",
     "text": [
      "You are an adult who is single.\n"
     ]
    }
   ],
   "source": [
    "#Q. 07-01\n",
    "adult = int(input(\"Are you an adult? (if you are an adult,0 if you are minor)\"))\n",
    "married = int(input(\"Are you married? (if you are married,0 if you are single)\"))\n",
    "if adult and married:\n",
    "    print(\"You are an adult who is married.\")\n",
    "elif adult and (not married):\n",
    "    print(\"You are an adult who is single.\")\n",
    "elif (not adult) and married:\n",
    "    print(\"You are a minor who is married.\")\n",
    "else:\n",
    "     print(\"You are a minor who is single.\")\n",
    "\n"
   ]
  },
  {
   "cell_type": "code",
   "execution_count": 39,
   "id": "32e5a2f3-72d7-477a-95d7-104a626b8401",
   "metadata": {},
   "outputs": [
    {
     "name": "stdout",
     "output_type": "stream",
     "text": [
      "2 : Prime Number\n",
      "3 : Prime Number\n",
      "4 : Composite Number\n",
      "5 : Prime Number\n",
      "6 : Composite Number\n",
      "7 : Prime Number\n",
      "8 : Composite Number\n",
      "9 : Composite Number\n",
      "10 : Composite Number\n",
      "11 : Prime Number\n",
      "12 : Composite Number\n"
     ]
    }
   ],
   "source": [
    "#Q. 08-01\n",
    "\n",
    "for num in range(2,13):\n",
    "    count = 0\n",
    "    for i in range(1,num+1):\n",
    "        if(num%i==0):\n",
    "            count = count+1\n",
    "    if (count==2):\n",
    "        print(num,\": Prime Number\")\n",
    "    else:\n",
    "        print(num,\": Composite Number\")    \n",
    "              \n",
    "    "
   ]
  },
  {
   "cell_type": "code",
   "execution_count": 46,
   "id": "49a2e4ca-7d6b-44e5-bd18-0ebaa5c22ce6",
   "metadata": {},
   "outputs": [
    {
     "name": "stdout",
     "output_type": "stream",
     "text": [
      "153 is an Armstrong number\n",
      "370 is an Armstrong number\n",
      "371 is an Armstrong number\n",
      "407 is an Armstrong number\n"
     ]
    }
   ],
   "source": [
    "#Q. 09-01\n",
    "\n",
    "for i in range(100, 1000):\n",
    "    ones = int(str(i)[2]) \n",
    "    tens = int(str(i)[1]) \n",
    "    hund = int(str(i)[0])  \n",
    "    if ones**3 + tens**3 + hund**3 == i: \n",
    "        print(i, \"is an Armstrong number\")"
   ]
  },
  {
   "cell_type": "code",
   "execution_count": null,
   "id": "727ee188-ddb8-4f05-be5d-f28de6ce09c5",
   "metadata": {},
   "outputs": [],
   "source": []
  }
 ],
 "metadata": {
  "kernelspec": {
   "display_name": "Python 3 (ipykernel)",
   "language": "python",
   "name": "python3"
  },
  "language_info": {
   "codemirror_mode": {
    "name": "ipython",
    "version": 3
   },
   "file_extension": ".py",
   "mimetype": "text/x-python",
   "name": "python",
   "nbconvert_exporter": "python",
   "pygments_lexer": "ipython3",
   "version": "3.13.1"
  }
 },
 "nbformat": 4,
 "nbformat_minor": 5
}
