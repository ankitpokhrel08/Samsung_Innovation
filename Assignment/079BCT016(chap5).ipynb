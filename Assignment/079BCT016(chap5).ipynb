{
 "cells": [
  {
   "cell_type": "code",
   "execution_count": 2,
   "id": "8bd575b3-e00c-4988-b807-1f22888b946e",
   "metadata": {},
   "outputs": [],
   "source": [
    "#Q. 27-01\n",
    "#How many swaps were ecxecuted in the bubble sort process below? \n",
    "# Output: 8 swaps were executed in the above bubble sort process"
   ]
  },
  {
   "cell_type": "code",
   "execution_count": 3,
   "id": "aa1fb07a-d181-44c9-a6d1-bb04c93ec967",
   "metadata": {},
   "outputs": [],
   "source": [
    "#Q. 27-02\n",
    "#Output: 10 comparisons were excuted in the above insertion sort process"
   ]
  },
  {
   "cell_type": "code",
   "execution_count": 5,
   "id": "d8596a96-3a33-4f9b-858f-4351350695a5",
   "metadata": {},
   "outputs": [],
   "source": [
    "#Q. 28-01\n",
    "#Output: the merge2() function was executed 9 times"
   ]
  },
  {
   "cell_type": "code",
   "execution_count": 8,
   "id": "6cbc839e-b71c-42d9-814d-62123d0bfd17",
   "metadata": {},
   "outputs": [],
   "source": [
    "#Given the list below, write the output after executing the partition1() function\n",
    "\n",
    "# Output: \n",
    "# [13, 10, 12, 15, 25, 20, 22]"
   ]
  }
 ],
 "metadata": {
  "kernelspec": {
   "display_name": "Python 3 (ipykernel)",
   "language": "python",
   "name": "python3"
  },
  "language_info": {
   "codemirror_mode": {
    "name": "ipython",
    "version": 3
   },
   "file_extension": ".py",
   "mimetype": "text/x-python",
   "name": "python",
   "nbconvert_exporter": "python",
   "pygments_lexer": "ipython3",
   "version": "3.13.1"
  }
 },
 "nbformat": 4,
 "nbformat_minor": 5
}
