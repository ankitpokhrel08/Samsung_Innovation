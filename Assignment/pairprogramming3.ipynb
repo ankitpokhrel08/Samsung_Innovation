{
 "cells": [
  {
   "cell_type": "markdown",
   "metadata": {},
   "source": [
    "# UNIT-17, Function\n",
    "## Pair Programming"
   ]
  },
  {
   "cell_type": "code",
   "execution_count": 2,
   "metadata": {},
   "outputs": [
    {
     "name": "stdout",
     "output_type": "stream",
     "text": [
      "Enter three numbers:\n"
     ]
    },
    {
     "name": "stdout",
     "output_type": "stream",
     "text": [
      " 9\n",
      " 2\n",
      " 6\n"
     ]
    },
    {
     "name": "stdout",
     "output_type": "stream",
     "text": [
      "The average value of 9,2,6 is 5.666666666666667\n",
      "The maximum value of 9,2,6 is 9\n",
      "The minimum value of 9,2,6 is 2\n"
     ]
    }
   ],
   "source": [
    "#Q.1\n",
    "def mean3(a,b,c):\n",
    "    return (a+b+c) / 3\n",
    "\n",
    "def max3(a,b,c):\n",
    "    if a > b and a > c :\n",
    "        max = a\n",
    "    elif b > a and b > c:\n",
    "        max = b\n",
    "    else:\n",
    "        max = c\n",
    "    return max\n",
    "\n",
    "def min3(a,b,c):\n",
    "    if a < b and a < c :\n",
    "        min = a\n",
    "    elif b < a and b < c:\n",
    "        min = b\n",
    "    else:\n",
    "        min = c\n",
    "    return min\n",
    "\n",
    "print(\"Enter three numbers:\")\n",
    "num =[int(input()) for i in  range(3)]\n",
    "print(f\"The average value of {num[0]},{num[1]},{num[2]} is {mean3(num[0],num[1],num[2])}\")\n",
    "print(f\"The maximum value of {num[0]},{num[1]},{num[2]} is {max3(num[0],num[1],num[2])}\")\n",
    "print(f\"The minimum value of {num[0]},{num[1]},{num[2]} is {min3(num[0],num[1],num[2])}\")\n",
    "\n"
   ]
  },
  {
   "cell_type": "markdown",
   "metadata": {},
   "source": [
    "## UNIT-18,Recursion Function Call"
   ]
  },
  {
   "cell_type": "code",
   "execution_count": 7,
   "metadata": {},
   "outputs": [
    {
     "name": "stdout",
     "output_type": "stream",
     "text": [
      "euler(20) =  2.71828\n"
     ]
    }
   ],
   "source": [
    "\n",
    "#Q.1\n",
    "def factorial(k):\n",
    "    if k == 0 or k == 1:\n",
    "        return 1\n",
    "    return k * factorial(k-1)\n",
    "\n",
    "def euler(n):\n",
    "    sum = 0 \n",
    "    for i in range(n):\n",
    "        sum += 1/factorial(i)\n",
    "    return sum.__round__(5)\n",
    "\n",
    "print(f\"euler(20) =  {euler(20)}\")"
   ]
  },
  {
   "cell_type": "markdown",
   "metadata": {},
   "source": [
    "## UNIT-19,Lambda"
   ]
  },
  {
   "cell_type": "code",
   "execution_count": 12,
   "metadata": {},
   "outputs": [
    {
     "name": "stdout",
     "output_type": "stream",
     "text": [
      "scores = [100, 90, 95, 90, 80, 70, 0, 80, 90, 90, 0, 90, 100, 75, 20, 30, 50, 90]\n",
      "The number of total students is 6.0\n",
      "The number of students with valid score is 4\n",
      "[[100, 90, 95], [90, 80, 70], [100, 75, 20], [30, 50, 90]]\n"
     ]
    }
   ],
   "source": [
    "\n",
    "#Q.1\n",
    "scores = [100, 90, 95, 90, 80, 70, 0, 80, 90, 90, 0, 90, 100, 75, 20, 30, 50, 90]\n",
    "new_scores = [scores[i:i+3] for i in range(0,len(scores),3) ]\n",
    "\n",
    "valid_students = list(filter(lambda x: 0 not in x,new_scores))\n",
    "print(f\"scores = {scores}\")\n",
    "print(f\"The number of total students is {len(scores) / 3}\")\n",
    "print(f\"The number of students with valid score is {len(valid_students)}\")\n",
    "print(valid_students)"
   ]
  },
  {
   "cell_type": "markdown",
   "metadata": {},
   "source": [
    "## UNIT-20,Closure"
   ]
  },
  {
   "cell_type": "code",
   "execution_count": 21,
   "metadata": {},
   "outputs": [
    {
     "name": "stdout",
     "output_type": "stream",
     "text": [
      "lst = [1, 2, 3, 4, 5, 6, 7, 8, 9, 10, 11, 12, 13, 14, 15, 16, 17, 18, 19, 20, 21, 22, 23, 24, 25, 26, 27, 28, 29, 30, 31, 32, 33, 34, 35, 36, 37, 38, 39, 40, 41, 42, 43, 44, 45, 46, 47, 48, 49, 50, 51, 52, 53, 54, 55, 56, 57, 58, 59, 60, 61, 62, 63, 64, 65, 66, 67, 68, 69, 70, 71, 72, 73, 74, 75, 76, 77, 78, 79, 80, 81, 82, 83, 84, 85, 86, 87, 88, 89, 90, 91, 92, 93, 94, 95, 96, 97, 98, 99, 100]\n",
      "\n",
      "result =  [5, 7, 10, 14, 15, 20, 21, 25, 28, 30, 35, 35, 40, 42, 45, 49, 50, 55, 56, 60, 63, 65, 70, 70, 75, 77, 80, 84, 85, 90, 91, 95, 98, 100]\n"
     ]
    }
   ],
   "source": [
    "#Q.1\n",
    "def func1():\n",
    "    def func2(lst):\n",
    "        result1 = []\n",
    "        for i in lst:\n",
    "            if i % 5  == 0:\n",
    "                result1.append(i)\n",
    "        return result1\n",
    "    \n",
    "    def func3(lst):\n",
    "        result2 = []\n",
    "        for i in lst:\n",
    "            if i % 7  == 0:\n",
    "                result2.append(i)\n",
    "        return result2\n",
    "    \n",
    "    def divisible_by_5_or_7(lst):\n",
    "        div_5_or_7 = func2(lst)\n",
    "        div_7 = func3(lst)\n",
    "        div_5_or_7.extend(div_7)\n",
    "        return sorted(div_5_or_7)\n",
    "    return divisible_by_5_or_7\n",
    "\n",
    "lst = [i for i in range(1,101)]\n",
    "func = func1()\n",
    "print(f\"lst = {lst}\\n\")\n",
    "print(\"result = \",func(lst),sep =\" \")"
   ]
  },
  {
   "cell_type": "markdown",
   "metadata": {},
   "source": [
    "## UNIT-21,Class"
   ]
  },
  {
   "cell_type": "code",
   "execution_count": 19,
   "metadata": {},
   "outputs": [
    {
     "name": "stdout",
     "output_type": "stream",
     "text": [
      "Name: Ankit, ID: fhjs\n",
      "English quiz score: 43434,  Mathematics quiz score: {self.math_score}\n",
      "Science quiz score: 343\n",
      "Total: 43811, Average: 14603.667\n"
     ]
    }
   ],
   "source": [
    "\n",
    "#Q.1\n",
    "class Student:\n",
    "    def __init__(self,name,id,english,math,science):\n",
    "        self.name = name\n",
    "        self.id = id\n",
    "        self.english_score = english\n",
    "        self.math_score = math\n",
    "        self.science_score = science\n",
    "        \n",
    "    def total_score(self):\n",
    "        return self.english_score + self.math_score + self.science_score\n",
    "    \n",
    "    def average_score(self):\n",
    "        return round(self.total_score() / 3,3)\n",
    "    \n",
    "    def display(self):\n",
    "        print(f\"Name: {self.name}, ID: {self.id}\")\n",
    "        print(f\"English quiz score: {self.english_score},\",end=\" \")\n",
    "        print(\" Mathematics quiz score: {self.math_score}\", f\"Science quiz score: {self.science_score}\",sep = \"\\n\")\n",
    "        print(f\"Total: {self.total_score()}, Average: {self.average_score()}\")\n",
    "        \n",
    "        \n",
    "name = input(\"Enter the student's name:\")\n",
    "id = input(\"Enter the student's id:\")\n",
    "english = int(input(\"Enter English  quiz score:\")) \n",
    "math = int(input(\"Enter Math  quiz score:\")) \n",
    "science = int(input(\"Enter Science  quiz score:\"))\n",
    "    \n",
    "student1 = Student(name,id,english,math,science)\n",
    "student1.display()\n",
    "    "
   ]
  },
  {
   "cell_type": "code",
   "execution_count": null,
   "metadata": {},
   "outputs": [],
   "source": []
  }
 ],
 "metadata": {
  "kernelspec": {
   "display_name": "Python 3",
   "language": "python",
   "name": "python3"
  },
  "language_info": {
   "codemirror_mode": {
    "name": "ipython",
    "version": 3
   },
   "file_extension": ".py",
   "mimetype": "text/x-python",
   "name": "python",
   "nbconvert_exporter": "python",
   "pygments_lexer": "ipython3",
   "version": "3.13.1"
  }
 },
 "nbformat": 4,
 "nbformat_minor": 4
}
