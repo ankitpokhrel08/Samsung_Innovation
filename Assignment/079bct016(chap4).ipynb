{
 "cells": [
  {
   "cell_type": "code",
   "execution_count": 30,
   "id": "90a18150-a402-474d-9702-02f46d065ced",
   "metadata": {},
   "outputs": [
    {
     "data": {
      "text/plain": [
       "['Banana', 'Apple', 'Strawberry']"
      ]
     },
     "execution_count": 30,
     "metadata": {},
     "output_type": "execute_result"
    }
   ],
   "source": [
    "#Q22-01 Output\n",
    "[\"Banana\",\"Apple\",\"Strawberry\"]"
   ]
  },
  {
   "cell_type": "code",
   "execution_count": 31,
   "id": "e4fd8e4e-af37-4981-aa9b-60831c119fab",
   "metadata": {},
   "outputs": [
    {
     "data": {
      "text/plain": [
       "[10, 30, 50, 70, 90]"
      ]
     },
     "execution_count": 31,
     "metadata": {},
     "output_type": "execute_result"
    }
   ],
   "source": [
    "#Q22-02 Output\n",
    "[10, 30, 50, 70, 90]"
   ]
  },
  {
   "cell_type": "code",
   "execution_count": 32,
   "id": "be6fcad3-e4fd-40de-a99d-aba6dc8142dc",
   "metadata": {},
   "outputs": [
    {
     "data": {
      "text/plain": [
       "[60, 70, 80, 90, 100]"
      ]
     },
     "execution_count": 32,
     "metadata": {},
     "output_type": "execute_result"
    }
   ],
   "source": [
    "#Q23-02 Output\n",
    "[60, 70, 80, 90, 100]"
   ]
  },
  {
   "cell_type": "code",
   "execution_count": 33,
   "id": "04fa1184-48f8-4f94-a1e8-9b48b58c8497",
   "metadata": {},
   "outputs": [],
   "source": [
    "#Q24-01 What is the algorithm of the find_two() function below do? Give me output also\n",
    "\n",
    "#The function find_two(nums) is designed to find:\n",
    "#    The index of the maximum value in nums, stored in x\n",
    "#    The index of the minimum value in nums, stored in y\n",
    "\n",
    "# Output\n",
    "# 59 11"
   ]
  },
  {
   "cell_type": "code",
   "execution_count": 34,
   "id": "0ab2d4af-092d-4d60-a837-d8f2be03cbfd",
   "metadata": {},
   "outputs": [],
   "source": [
    "#Q24-02 How many comparisons should the find_two() function implemented in the previous question.\n",
    "#Ans: In the previous question, the find_two() function implemented 14 comparisons. "
   ]
  },
  {
   "cell_type": "code",
   "execution_count": 35,
   "id": "c014b89d-f87e-40fd-be1f-e73a876ade18",
   "metadata": {},
   "outputs": [],
   "source": [
    "#Q25-01 Output when maximum is 100 and guessing number is 51.\n",
    "# Enter the number of maximum: 100\n",
    "# Enter you guessing number:  51\n",
    "# Your number is 51.\n",
    "# Total 6 times are searched."
   ]
  },
  {
   "cell_type": "code",
   "execution_count": 36,
   "id": "cde56ac8-b9df-4c6b-87e9-25c26524f1d4",
   "metadata": {},
   "outputs": [],
   "source": [
    "# #Q25-02 Output when maximum is 100 and guessing number is 25.\n",
    "# Enter the number of maximum:  100\n",
    "# Enter you guessing number:  25\n",
    "# Your number is 25.\n",
    "# Total 2 times are searched."
   ]
  },
  {
   "cell_type": "code",
   "execution_count": 37,
   "id": "342663db-f8a9-4e73-a201-66d6177d38b8",
   "metadata": {},
   "outputs": [],
   "source": [
    "# Q26-01 Using the hash function of the Hashtable class, calculate the key and hashkey of \"Alice in Worderland\" as follows. \n",
    "#(The key value is 1763.)\n",
    "\n",
    "# Output\n",
    "# 1763 3"
   ]
  },
  {
   "cell_type": "code",
   "execution_count": 38,
   "id": "eee91107-d27c-4bad-a571-9b44dc1082f0",
   "metadata": {},
   "outputs": [],
   "source": [
    "#Q26-02\n",
    "#If the new bookshelf has 10 compartments. use the following code to find out which book is in each compartment\n",
    "\n",
    "#Output\n",
    "# 4 The Little Prince\n",
    "# 9 The Old Man and the Sea\n",
    "# 8 The Little Mermaid\n",
    "# 7 Beauty and the Beast\n",
    "# 3 The Last Leaf\n",
    "# 5 Alice in Wonderland"
   ]
  },
  {
   "cell_type": "code",
   "execution_count": 42,
   "id": "a75bbbb7-c6b6-4442-b2df-0a17c36de35e",
   "metadata": {},
   "outputs": [],
   "source": [
    "# #Q26-02\n",
    "\n",
    "#Output\n",
    "# 0 []\n",
    "# 1 []\n",
    "# 2 []\n",
    "# 3 [\"The Last Leaf\", \"Alice in Wonderland\"]\n",
    "# 4 [\"The Little Prince\"]\n",
    "# 5 [] \n",
    "# 6 [] \n",
    "# 7 [\"Beauty and the Beast\"] \n",
    "# 8 [\"The Little Mermaid\"]\n",
    "# 9 [\"The Old Man and the Sea\"] "
   ]
  },
  {
   "cell_type": "code",
   "execution_count": null,
   "id": "5eeeb0fc-458f-4112-a84b-5b770749094f",
   "metadata": {},
   "outputs": [],
   "source": []
  },
  {
   "cell_type": "code",
   "execution_count": null,
   "id": "1cd56fe2-ae6d-419a-bd40-4db97df4ffa3",
   "metadata": {},
   "outputs": [],
   "source": []
  }
 ],
 "metadata": {
  "kernelspec": {
   "display_name": "Python 3 (ipykernel)",
   "language": "python",
   "name": "python3"
  },
  "language_info": {
   "codemirror_mode": {
    "name": "ipython",
    "version": 3
   },
   "file_extension": ".py",
   "mimetype": "text/x-python",
   "name": "python",
   "nbconvert_exporter": "python",
   "pygments_lexer": "ipython3",
   "version": "3.13.1"
  }
 },
 "nbformat": 4,
 "nbformat_minor": 5
}
