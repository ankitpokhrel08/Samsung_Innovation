{
 "cells": [
  {
   "cell_type": "code",
   "execution_count": 10,
   "id": "29b4117b-a115-4773-aa3b-5607950a9a86",
   "metadata": {},
   "outputs": [],
   "source": [
    "#Exercise_4"
   ]
  },
  {
   "cell_type": "code",
   "execution_count": 11,
   "id": "f17a593a-7fcb-465c-9366-f4cf2b2ea146",
   "metadata": {},
   "outputs": [],
   "source": [
    "#Q1\n",
    "emp_list = list()\n",
    "emp_tuple = tuple()\n",
    "emp_dict = dict()\n",
    "emp_set = set()\n",
    "sing_tuple = (1,)\n",
    "#sing_tuple = 1,"
   ]
  },
  {
   "cell_type": "code",
   "execution_count": 12,
   "id": "6682f252-9967-4a14-ace9-edaa55eede46",
   "metadata": {},
   "outputs": [
    {
     "name": "stdout",
     "output_type": "stream",
     "text": [
      "<class 'dict'>\n",
      "<class 'tuple'>\n",
      "<class 'set'>\n",
      "<class 'list'>\n"
     ]
    }
   ],
   "source": [
    "print(type(emp_dict))\n",
    "print(type(emp_tuple))\n",
    "print(type(emp_set))\n",
    "print(type(emp_list))"
   ]
  },
  {
   "cell_type": "code",
   "execution_count": 13,
   "id": "7e2c74ca-d3d6-46a7-a552-c279cc5ad2f0",
   "metadata": {},
   "outputs": [
    {
     "data": {
      "text/plain": [
       "tuple"
      ]
     },
     "execution_count": 13,
     "metadata": {},
     "output_type": "execute_result"
    }
   ],
   "source": [
    "type(sing_tuple)"
   ]
  },
  {
   "cell_type": "code",
   "execution_count": 14,
   "id": "22dc52c3-f6d5-447e-bdf2-f1a35f8c137e",
   "metadata": {},
   "outputs": [],
   "source": [
    "#Q2\n",
    "my_list = [1,2,3,4,5]\n",
    "my_set ={4,5,6,7}\n",
    "my_tuple =(8,9,10,11)\n",
    "list2tup = tuple(my_list)\n",
    "list2set = set(my_list)\n",
    "tup2list = list(my_tuple)\n",
    "tup2set= set(my_tuple)\n",
    "set2list = list(my_set)\n",
    "set2tuple = tuple(my_set)"
   ]
  },
  {
   "cell_type": "code",
   "execution_count": 15,
   "id": "e647d32a-9d03-45fd-8be0-a549d752007d",
   "metadata": {},
   "outputs": [
    {
     "data": {
      "text/plain": [
       "(tuple, set, list, set, list, tuple)"
      ]
     },
     "execution_count": 15,
     "metadata": {},
     "output_type": "execute_result"
    }
   ],
   "source": [
    "type(list2tup),type(list2set),type(tup2list),type(tup2set),type(set2list),type(set2tuple)"
   ]
  },
  {
   "cell_type": "code",
   "execution_count": 16,
   "id": "b9b806c7-c714-4555-9f35-4800935ea9ef",
   "metadata": {},
   "outputs": [
    {
     "name": "stdout",
     "output_type": "stream",
     "text": [
      "{1: 2, 2: 3, 3: 4}\n"
     ]
    },
    {
     "data": {
      "text/plain": [
       "dict"
      ]
     },
     "execution_count": 16,
     "metadata": {},
     "output_type": "execute_result"
    }
   ],
   "source": [
    "#Q3\n",
    "test_data = [(1,2), (2,3), (3,4)]\n",
    "converted_data = dict(test_data)\n",
    "print(converted_data)\n",
    "type(converted_data)\n",
    "#dict([\"ab\",\"bc\",\"cd\"])"
   ]
  },
  {
   "cell_type": "code",
   "execution_count": 17,
   "id": "a9d4068a-5ce7-485f-b3be-e9ee08bb2176",
   "metadata": {},
   "outputs": [
    {
     "name": "stdout",
     "output_type": "stream",
     "text": [
      "1\n"
     ]
    }
   ],
   "source": [
    "#Q4\n",
    "my_list = [1, 2, 3, 1, 5]\n",
    "seen = set() \n",
    "for item in my_list:\n",
    "    if item in seen:\n",
    "        print(item)\n",
    "        break\n",
    "    seen.add(item)"
   ]
  },
  {
   "cell_type": "code",
   "execution_count": 20,
   "id": "8a4b6e69-5a90-48f8-bfa7-8eaff647da50",
   "metadata": {},
   "outputs": [
    {
     "name": "stdout",
     "output_type": "stream",
     "text": [
      "{1: 4, 2: 3, 3: 2}\n"
     ]
    }
   ],
   "source": [
    "#Q5\n",
    "my_list = [1, 2, 3, 1, 2, 3, 1, 2, 1]\n",
    "count = {}\n",
    "for element in my_list:\n",
    "    if element in count:\n",
    "        count[element] += 1\n",
    "    else:\n",
    "        count[element] = 1\n",
    "print(count)"
   ]
  },
  {
   "cell_type": "code",
   "execution_count": 21,
   "id": "07494949-c053-4183-8d2e-159ced009b5b",
   "metadata": {},
   "outputs": [
    {
     "name": "stdout",
     "output_type": "stream",
     "text": [
      "[1, 2, 3, 4, 5, 6]\n"
     ]
    }
   ],
   "source": [
    "#Q6\n",
    "def no_duplicate(new_list):\n",
    "    new_set = set(new_list)\n",
    "    return list(new_set)\n",
    "    \n",
    "datalist = [1,1,1,2,2,3,4,5,6,4,4,3,2]\n",
    "\n",
    "print(no_duplicate(datalist))"
   ]
  },
  {
   "cell_type": "code",
   "execution_count": 25,
   "id": "d2d2a81e-9d5b-463b-a71c-a162bef20d4f",
   "metadata": {},
   "outputs": [
    {
     "data": {
      "text/plain": [
       "['__and__',\n",
       " '__class__',\n",
       " '__class_getitem__',\n",
       " '__contains__',\n",
       " '__delattr__',\n",
       " '__dir__',\n",
       " '__doc__',\n",
       " '__eq__',\n",
       " '__format__',\n",
       " '__ge__',\n",
       " '__getattribute__',\n",
       " '__getstate__',\n",
       " '__gt__',\n",
       " '__hash__',\n",
       " '__iand__',\n",
       " '__init__',\n",
       " '__init_subclass__',\n",
       " '__ior__',\n",
       " '__isub__',\n",
       " '__iter__',\n",
       " '__ixor__',\n",
       " '__le__',\n",
       " '__len__',\n",
       " '__lt__',\n",
       " '__ne__',\n",
       " '__new__',\n",
       " '__or__',\n",
       " '__rand__',\n",
       " '__reduce__',\n",
       " '__reduce_ex__',\n",
       " '__repr__',\n",
       " '__ror__',\n",
       " '__rsub__',\n",
       " '__rxor__',\n",
       " '__setattr__',\n",
       " '__sizeof__',\n",
       " '__str__',\n",
       " '__sub__',\n",
       " '__subclasshook__',\n",
       " '__xor__',\n",
       " 'add',\n",
       " 'clear',\n",
       " 'copy',\n",
       " 'difference',\n",
       " 'difference_update',\n",
       " 'discard',\n",
       " 'intersection',\n",
       " 'intersection_update',\n",
       " 'isdisjoint',\n",
       " 'issubset',\n",
       " 'issuperset',\n",
       " 'pop',\n",
       " 'remove',\n",
       " 'symmetric_difference',\n",
       " 'symmetric_difference_update',\n",
       " 'union',\n",
       " 'update']"
      ]
     },
     "execution_count": 25,
     "metadata": {},
     "output_type": "execute_result"
    }
   ],
   "source": [
    "dir(set)"
   ]
  },
  {
   "cell_type": "code",
   "execution_count": 31,
   "id": "2c85741f-c3ec-44b4-833f-65bbbc5b4734",
   "metadata": {},
   "outputs": [
    {
     "name": "stdout",
     "output_type": "stream",
     "text": [
      "banana is in the set\n",
      "berry is not in the set\n"
     ]
    },
    {
     "data": {
      "text/plain": [
       "{'apple', 'cherry', 'orange'}"
      ]
     },
     "execution_count": 31,
     "metadata": {},
     "output_type": "execute_result"
    }
   ],
   "source": [
    "#Q7\n",
    "new_set = {\"apple\",\"banana\",\"cherry\"}\n",
    "\n",
    "#how can you check if 'banana' is in the set?\n",
    "if \"banana\" in new_set:\n",
    "    print(\"banana is in the set\")\n",
    "else:\n",
    "    print(\"banana is not in the set\")\n",
    "    \n",
    "#What about \"berry\"?\n",
    "if \"berry\" in new_set:\n",
    "    print(\"berry is in the set\")\n",
    "else:\n",
    "    print(\"berry is not in the set\")\n",
    "    \n",
    "#add the element 'orange' to the set\n",
    "new_set.add(\"orange\")\n",
    "\n",
    "#remove 'banana' from the set.\n",
    "new_set.remove(\"banana\")\n",
    "new_set"
   ]
  },
  {
   "cell_type": "code",
   "execution_count": 44,
   "id": "afce1564-28f5-4ed1-ab85-0a2d805e79fc",
   "metadata": {},
   "outputs": [
    {
     "name": "stdout",
     "output_type": "stream",
     "text": [
      "{1, 2, 3, 4, 5}\n",
      "{2, 3}\n",
      "{1, 4}\n",
      "Is subset? False\n",
      "Is superset? False\n"
     ]
    }
   ],
   "source": [
    "#Q8\n",
    "set1 = {1, 2, 3, 4}\n",
    "set2 = {2, 3, 5}\n",
    "print(set1.union(set2))\n",
    "print(set1.intersection(set2))\n",
    "print(set1 - set2)\n",
    "print(\"Is subset?\",set1.issubset(set2))\n",
    "print(\"Is superset?\",set2.issuperset(set1))"
   ]
  },
  {
   "cell_type": "code",
   "execution_count": 45,
   "id": "d16a6f6c-bb79-4a9e-9140-2270fb6d492d",
   "metadata": {},
   "outputs": [
    {
     "name": "stdout",
     "output_type": "stream",
     "text": [
      "Is subset? True\n",
      "Is superset? True\n"
     ]
    }
   ],
   "source": [
    "#Q9\n",
    "set1 = {1, 2} \n",
    "set2 = {1, 2, 3, 4}\n",
    "print(\"Is subset?\",set1.issubset(set2))\n",
    "print(\"Is superset?\",set2.issuperset(set1))"
   ]
  },
  {
   "cell_type": "code",
   "execution_count": 17,
   "id": "bd1933bf-6736-48dd-91b2-680ecf8cfc5a",
   "metadata": {},
   "outputs": [],
   "source": [
    "import json"
   ]
  },
  {
   "cell_type": "code",
   "execution_count": 18,
   "id": "02d95bd9-35b7-41e2-94d8-06b266b4911c",
   "metadata": {},
   "outputs": [],
   "source": [
    "#Q10\n",
    "data = {\n",
    " \"company\": {\n",
    " \"name\": \"TechCorp\",\n",
    " \"employees\": [\n",
    " {\n",
    " \"id\": 1,\n",
    " \"name\": \"Alice\",\n",
    " \"department\": \"Development\",\n",
    " \"skills\": [\"Python\", \"Django\", \"React\"],\n",
    " \"salary\": 75000\n",
    " },\n",
    " {\n",
    " \"id\": 2,\n",
    " \"name\": \"Bob\",\n",
    " \"department\": \"Development\",\n",
    " \"skills\": [\"Java\", \"Spring\", \"Angular\"],\n",
    " \"salary\": 70000\n",
    " },\n",
    " {\n",
    " \"id\": 3,\n",
    " \"name\": \"Charlie\",\n",
    " \"department\": \"Marketing\",\n",
    " \"skills\": [\"SEO\", \"Content Writing\"],\n",
    " \"salary\": 60000\n",
    " }\n",
    " ],\n",
    " \"location\": {\n",
    " \"city\": \"New York\",\n",
    " \"country\": \"USA\"\n",
    " },\n",
    " \"products\": [\n",
    " {\"id\": \"P1\", \"name\": \"ProductA\", \"price\": 120.50},\n",
    " {\"id\": \"P2\", \"name\": \"ProductB\", \"price\": 80.75}\n",
    " ]\n",
    " }\n",
    " }\n",
    "file = open(\"data.json\",\"w\")\n",
    "json.dump(data,file)\n",
    "file.close()"
   ]
  },
  {
   "cell_type": "code",
   "execution_count": 26,
   "id": "6278c822-6180-4ef1-915c-f6343b70e6f2",
   "metadata": {},
   "outputs": [
    {
     "name": "stdout",
     "output_type": "stream",
     "text": [
      "{'company': {'name': 'TechCorp', 'employees': [{'id': 1, 'name': 'Alice', 'department': 'Development', 'skills': ['Python', 'Django', 'React'], 'salary': 75000}, {'id': 2, 'name': 'Bob', 'department': 'Development', 'skills': ['Java', 'Spring', 'Angular'], 'salary': 70000}, {'id': 3, 'name': 'Charlie', 'department': 'Marketing', 'skills': ['SEO', 'Content Writing'], 'salary': 60000}], 'location': {'city': 'New York', 'country': 'USA'}, 'products': [{'id': 'P1', 'name': 'ProductA', 'price': 120.5}, {'id': 'P2', 'name': 'ProductB', 'price': 80.75}]}, 'last_updated': '2025-01-09 07:50:40'}\n"
     ]
    }
   ],
   "source": [
    "import datetime\n",
    "import json \n",
    "dt = datetime.datetime.now()\n",
    "file = open(\"data.json\", \"r\")\n",
    "datajson = json.load(file) \n",
    "# file.close()\n",
    "datajson['last_updated'] = dt.strftime(\"%Y-%m-%d %H:%M:%S\") \n",
    "file = open(\"data.json\", \"w\")\n",
    "json.dump(datajson, file)  \n",
    "file.close()  \n",
    "print(datajson)"
   ]
  },
  {
   "cell_type": "code",
   "execution_count": 96,
   "id": "50f752d0-4c15-4624-aedf-883abd0c7485",
   "metadata": {},
   "outputs": [],
   "source": [
    "# dir(dt)\n",
    "# dt.strftime(\"%Y-%m-%d %H:%M:%S\") "
   ]
  },
  {
   "cell_type": "code",
   "execution_count": 83,
   "id": "3be93c03-b8ef-45e0-977c-50f878ba3757",
   "metadata": {},
   "outputs": [
    {
     "data": {
      "text/plain": [
       "['__and__',\n",
       " '__class__',\n",
       " '__class_getitem__',\n",
       " '__contains__',\n",
       " '__delattr__',\n",
       " '__dir__',\n",
       " '__doc__',\n",
       " '__eq__',\n",
       " '__format__',\n",
       " '__ge__',\n",
       " '__getattribute__',\n",
       " '__getstate__',\n",
       " '__gt__',\n",
       " '__hash__',\n",
       " '__iand__',\n",
       " '__init__',\n",
       " '__init_subclass__',\n",
       " '__ior__',\n",
       " '__isub__',\n",
       " '__iter__',\n",
       " '__ixor__',\n",
       " '__le__',\n",
       " '__len__',\n",
       " '__lt__',\n",
       " '__ne__',\n",
       " '__new__',\n",
       " '__or__',\n",
       " '__rand__',\n",
       " '__reduce__',\n",
       " '__reduce_ex__',\n",
       " '__repr__',\n",
       " '__ror__',\n",
       " '__rsub__',\n",
       " '__rxor__',\n",
       " '__setattr__',\n",
       " '__sizeof__',\n",
       " '__str__',\n",
       " '__sub__',\n",
       " '__subclasshook__',\n",
       " '__xor__',\n",
       " 'add',\n",
       " 'clear',\n",
       " 'copy',\n",
       " 'difference',\n",
       " 'difference_update',\n",
       " 'discard',\n",
       " 'intersection',\n",
       " 'intersection_update',\n",
       " 'isdisjoint',\n",
       " 'issubset',\n",
       " 'issuperset',\n",
       " 'pop',\n",
       " 'remove',\n",
       " 'symmetric_difference',\n",
       " 'symmetric_difference_update',\n",
       " 'union',\n",
       " 'update']"
      ]
     },
     "execution_count": 83,
     "metadata": {},
     "output_type": "execute_result"
    }
   ],
   "source": [
    "dir(set)"
   ]
  },
  {
   "cell_type": "code",
   "execution_count": 97,
   "id": "7e530582-0696-4634-9159-598b29ea9e19",
   "metadata": {},
   "outputs": [
    {
     "data": {
      "text/plain": [
       "{'a', 'e', 'i', 'o', 'u'}"
      ]
     },
     "execution_count": 97,
     "metadata": {},
     "output_type": "execute_result"
    }
   ],
   "source": [
    "# #Q15\n",
    "# # Use a set comprehension to create a set of unique vowels from the string sentence =\n",
    "# # \"comprehensions are powerful\".\n",
    "# set1 = set()\n",
    "# string1 = \"comprehensions are powerful\"\n",
    "# for characters in string1:\n",
    "#     if (\"a\" or \"e\" or \"i\" or \"o\" or \"u\" == characters):\n",
    "#         set1.add(characters)   \n",
    "# set1\n",
    "\n",
    "string1 = \"comprehensions are powerful\"\n",
    "vowels = {\"a\", \"e\", \"i\", \"o\", \"u\"}\n",
    "set1 = {char for char in string1 if char in vowels} \n",
    "set1\n",
    "    "
   ]
  },
  {
   "cell_type": "code",
   "execution_count": 98,
   "id": "92403076-4d07-4e1c-a0a5-151f321003e8",
   "metadata": {},
   "outputs": [
    {
     "data": {
      "text/plain": [
       "[(1, 4), (2, 5), (3, 6)]"
      ]
     },
     "execution_count": 98,
     "metadata": {},
     "output_type": "execute_result"
    }
   ],
   "source": [
    "#Q17\n",
    "list1 = [1, 2, 3]\n",
    "list2 = [4, 5, 6]\n",
    "[(list1[i],list2[i]) for i in range(len(list1))]"
   ]
  },
  {
   "cell_type": "code",
   "execution_count": null,
   "id": "7ea82837-d7e9-4e85-a71c-cd438fecbb99",
   "metadata": {},
   "outputs": [],
   "source": []
  },
  {
   "cell_type": "code",
   "execution_count": null,
   "id": "4cac0655-e27a-4cb5-bdbd-75268686b9d7",
   "metadata": {},
   "outputs": [],
   "source": []
  },
  {
   "cell_type": "code",
   "execution_count": null,
   "id": "4fb02735-e1e8-47ef-a8c2-0cdb0990fcb1",
   "metadata": {},
   "outputs": [],
   "source": []
  },
  {
   "cell_type": "code",
   "execution_count": null,
   "id": "23a9dbf6-074e-47c4-9e30-86571eb199b0",
   "metadata": {},
   "outputs": [],
   "source": []
  },
  {
   "cell_type": "code",
   "execution_count": 80,
   "id": "18be8549-0360-48c4-a82c-8dc9021dbad0",
   "metadata": {},
   "outputs": [
    {
     "name": "stdout",
     "output_type": "stream",
     "text": [
      "Help on class enumerate in module builtins:\n",
      "\n",
      "class enumerate(object)\n",
      " |  enumerate(iterable, start=0)\n",
      " |\n",
      " |  Return an enumerate object.\n",
      " |\n",
      " |    iterable\n",
      " |      an object supporting iteration\n",
      " |\n",
      " |  The enumerate object yields pairs containing a count (from start, which\n",
      " |  defaults to zero) and a value yielded by the iterable argument.\n",
      " |\n",
      " |  enumerate is useful for obtaining an indexed list:\n",
      " |      (0, seq[0]), (1, seq[1]), (2, seq[2]), ...\n",
      " |\n",
      " |  Methods defined here:\n",
      " |\n",
      " |  __getattribute__(self, name, /)\n",
      " |      Return getattr(self, name).\n",
      " |\n",
      " |  __iter__(self, /)\n",
      " |      Implement iter(self).\n",
      " |\n",
      " |  __next__(self, /)\n",
      " |      Implement next(self).\n",
      " |\n",
      " |  __reduce__(self, /)\n",
      " |      Return state information for pickling.\n",
      " |\n",
      " |  ----------------------------------------------------------------------\n",
      " |  Class methods defined here:\n",
      " |\n",
      " |  __class_getitem__(object, /)\n",
      " |      See PEP 585\n",
      " |\n",
      " |  ----------------------------------------------------------------------\n",
      " |  Static methods defined here:\n",
      " |\n",
      " |  __new__(*args, **kwargs)\n",
      " |      Create and return a new object.  See help(type) for accurate signature.\n",
      "\n"
     ]
    }
   ],
   "source": [
    "help(enumerate)\n",
    "# dir(enumerate)\n",
    "# dir(zip)"
   ]
  },
  {
   "cell_type": "code",
   "execution_count": null,
   "id": "e00e1892-d3cc-47ec-a010-63cbbaa86a60",
   "metadata": {},
   "outputs": [],
   "source": []
  }
 ],
 "metadata": {
  "kernelspec": {
   "display_name": "Python 3 (ipykernel)",
   "language": "python",
   "name": "python3"
  },
  "language_info": {
   "codemirror_mode": {
    "name": "ipython",
    "version": 3
   },
   "file_extension": ".py",
   "mimetype": "text/x-python",
   "name": "python",
   "nbconvert_exporter": "python",
   "pygments_lexer": "ipython3",
   "version": "3.13.1"
  }
 },
 "nbformat": 4,
 "nbformat_minor": 5
}
