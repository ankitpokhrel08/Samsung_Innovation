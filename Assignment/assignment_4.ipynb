{
 "cells": [
  {
   "cell_type": "code",
   "execution_count": null,
   "id": "29b4117b-a115-4773-aa3b-5607950a9a86",
   "metadata": {},
   "outputs": [],
   "source": [
    "#Exercise_4"
   ]
  },
  {
   "cell_type": "code",
   "execution_count": 12,
   "id": "f17a593a-7fcb-465c-9366-f4cf2b2ea146",
   "metadata": {},
   "outputs": [],
   "source": [
    "#Q1\n",
    "emp_list = list()\n",
    "emp_tuple = tuple()\n",
    "emp_dict = dict()\n",
    "emp_set = set()\n",
    "sing_tuple = (1,)\n",
    "#sing_tuple = 1,"
   ]
  },
  {
   "cell_type": "code",
   "execution_count": 13,
   "id": "6682f252-9967-4a14-ace9-edaa55eede46",
   "metadata": {},
   "outputs": [
    {
     "name": "stdout",
     "output_type": "stream",
     "text": [
      "<class 'dict'>\n",
      "<class 'tuple'>\n",
      "<class 'set'>\n",
      "<class 'list'>\n"
     ]
    }
   ],
   "source": [
    "print(type(emp_dict))\n",
    "print(type(emp_tuple))\n",
    "print(type(emp_set))\n",
    "print(type(emp_list))"
   ]
  },
  {
   "cell_type": "code",
   "execution_count": 14,
   "id": "7e2c74ca-d3d6-46a7-a552-c279cc5ad2f0",
   "metadata": {},
   "outputs": [
    {
     "data": {
      "text/plain": [
       "tuple"
      ]
     },
     "execution_count": 14,
     "metadata": {},
     "output_type": "execute_result"
    }
   ],
   "source": [
    "type(sing_tuple)"
   ]
  },
  {
   "cell_type": "code",
   "execution_count": 19,
   "id": "22dc52c3-f6d5-447e-bdf2-f1a35f8c137e",
   "metadata": {},
   "outputs": [],
   "source": [
    "#Q2\n",
    "my_list = [1,2,3,4,5]\n",
    "my_set ={4,5,6,7}\n",
    "my_tuple =(8,9,10,11)\n",
    "list2tup = tuple(my_list)\n",
    "list2set = set(my_list)\n",
    "tup2list = list(my_tuple)\n",
    "tup2set= set(my_tuple)\n",
    "set2list = list(my_set)\n",
    "set2tuple = tuple(my_set)"
   ]
  },
  {
   "cell_type": "code",
   "execution_count": 21,
   "id": "e647d32a-9d03-45fd-8be0-a549d752007d",
   "metadata": {},
   "outputs": [
    {
     "data": {
      "text/plain": [
       "(tuple, set, list, set, list, tuple)"
      ]
     },
     "execution_count": 21,
     "metadata": {},
     "output_type": "execute_result"
    }
   ],
   "source": [
    "type(list2tup),type(list2set),type(tup2list),type(tup2set),type(set2list),type(set2tuple)"
   ]
  },
  {
   "cell_type": "code",
   "execution_count": 32,
   "id": "b9b806c7-c714-4555-9f35-4800935ea9ef",
   "metadata": {},
   "outputs": [
    {
     "name": "stdout",
     "output_type": "stream",
     "text": [
      "{1: 2, 2: 3, 3: 4}\n"
     ]
    },
    {
     "data": {
      "text/plain": [
       "dict"
      ]
     },
     "execution_count": 32,
     "metadata": {},
     "output_type": "execute_result"
    }
   ],
   "source": [
    "#Q3\n",
    "test_data = [(1,2), (2,3), (3,4)]\n",
    "converted_data = dict(test_data)\n",
    "print(converted_data)\n",
    "type(converted_data)\n",
    "#dict([\"ab\",\"bc\",\"cd\"])"
   ]
  },
  {
   "cell_type": "code",
   "execution_count": 46,
   "id": "a9d4068a-5ce7-485f-b3be-e9ee08bb2176",
   "metadata": {},
   "outputs": [
    {
     "name": "stdout",
     "output_type": "stream",
     "text": [
      "2\n"
     ]
    }
   ],
   "source": [
    "#Q4\n",
    "my_list = [1, 2, 3, 1, 5]\n",
    "seen = set() \n",
    "for item in my_list:\n",
    "    if item in seen:\n",
    "        print(first_reoccurring_element(my_list))  \n",
    "        break\n",
    "    seen.add(item)"
   ]
  },
  {
   "cell_type": "code",
   "execution_count": 57,
   "id": "1461a0d3-898c-4d65-ac22-610884d8ba17",
   "metadata": {},
   "outputs": [
    {
     "data": {
      "text/plain": [
       "6"
      ]
     },
     "execution_count": 57,
     "metadata": {},
     "output_type": "execute_result"
    }
   ],
   "source": [
    "file = open(\"my_file.txt\", \"w\")\n",
    "file.write(\"Batman\")\n"
   ]
  },
  {
   "cell_type": "code",
   "execution_count": 58,
   "id": "9976fc7d-1432-4210-b550-bb6d9292ca76",
   "metadata": {},
   "outputs": [
    {
     "data": {
      "text/plain": [
       "'Batman'"
      ]
     },
     "execution_count": 58,
     "metadata": {},
     "output_type": "execute_result"
    }
   ],
   "source": [
    "file=open(\"my_file.txt\")\n",
    "file.read()"
   ]
  },
  {
   "cell_type": "code",
   "execution_count": 63,
   "id": "8ad1563f-5c98-48aa-a003-1e87d8744729",
   "metadata": {},
   "outputs": [],
   "source": [
    "import json"
   ]
  },
  {
   "cell_type": "code",
   "execution_count": 72,
   "id": "27b3d6fc-e5d7-47bf-8568-7d4cf6e50bf1",
   "metadata": {},
   "outputs": [],
   "source": [
    "#This will open file and input the json data\n",
    "file = open(\"data.json\",\"w\")\n",
    "json.dump({\"a\":1,\"b\":2},file)\n",
    "file.close()"
   ]
  },
  {
   "cell_type": "code",
   "execution_count": 73,
   "id": "724999c9-cab5-47d5-800b-b24596f6853f",
   "metadata": {},
   "outputs": [],
   "source": [
    "#This will convert data from file into python datatype\n",
    "file = open(\"data.json\",\"r\")\n",
    "datajson = json.load(file)\n",
    "file.close()"
   ]
  },
  {
   "cell_type": "code",
   "execution_count": 74,
   "id": "823e0c40-839c-4fb2-ae40-d675a20c28f4",
   "metadata": {},
   "outputs": [
    {
     "data": {
      "text/plain": [
       "{'a': 1, 'b': 2}"
      ]
     },
     "execution_count": 74,
     "metadata": {},
     "output_type": "execute_result"
    }
   ],
   "source": [
    "datajson"
   ]
  },
  {
   "cell_type": "code",
   "execution_count": 75,
   "id": "eb34a768-e8aa-4c81-8e7b-01bfeb17add3",
   "metadata": {},
   "outputs": [],
   "source": [
    "#importing and using datetime\n",
    "import datetime"
   ]
  },
  {
   "cell_type": "code",
   "execution_count": 77,
   "id": "a4b98559-c880-47bc-ad49-8c05ada3ba4d",
   "metadata": {},
   "outputs": [],
   "source": [
    "dt = datetime.datetime.now()"
   ]
  },
  {
   "cell_type": "code",
   "execution_count": 81,
   "id": "09079e0c-48ba-46d1-a84c-0388e1508923",
   "metadata": {},
   "outputs": [
    {
     "name": "stdout",
     "output_type": "stream",
     "text": [
      "2025-01-08 08:29:03.259713\n"
     ]
    }
   ],
   "source": [
    "print(dt)"
   ]
  },
  {
   "cell_type": "code",
   "execution_count": 84,
   "id": "f1aa20f8-c9d3-40e8-a9b0-df73a3c3abc4",
   "metadata": {},
   "outputs": [
    {
     "data": {
      "text/plain": [
       "[0, 1, 2, 3, 4, 5, 6, 7, 8, 9]"
      ]
     },
     "execution_count": 84,
     "metadata": {},
     "output_type": "execute_result"
    }
   ],
   "source": [
    "#quick way to append in list\n",
    "my_list = [i for i in range(10)]\n",
    "my_list"
   ]
  },
  {
   "cell_type": "code",
   "execution_count": 87,
   "id": "2702863c-60fc-4651-b30a-0525c7e7417c",
   "metadata": {},
   "outputs": [
    {
     "data": {
      "text/plain": [
       "[0, 2, 4, 6, 8]"
      ]
     },
     "execution_count": 87,
     "metadata": {},
     "output_type": "execute_result"
    }
   ],
   "source": [
    "[i for i in range(10) if i%2 == 0]"
   ]
  },
  {
   "cell_type": "code",
   "execution_count": 91,
   "id": "3c512c27-6e9f-430c-a6d2-0cab7b6110ff",
   "metadata": {},
   "outputs": [
    {
     "data": {
      "text/plain": [
       "[(0, 0), (0, 1), (0, 2), (1, 0), (1, 1), (1, 2)]"
      ]
     },
     "execution_count": 91,
     "metadata": {},
     "output_type": "execute_result"
    }
   ],
   "source": [
    "# for i in range(2):\n",
    "#     for j in range(3):\n",
    "#         my_list.append((i,j))\n",
    "\n",
    "#The quick way to append in list\n",
    "my_list = [(i, j) for i in range(2) for j in range(3)]\n",
    "my_list"
   ]
  },
  {
   "cell_type": "code",
   "execution_count": 98,
   "id": "7a245332-157f-44ef-92ea-e23da915a84f",
   "metadata": {},
   "outputs": [
    {
     "data": {
      "text/plain": [
       "[[], [0], [0, 1], [0, 1, 2]]"
      ]
     },
     "execution_count": 98,
     "metadata": {},
     "output_type": "execute_result"
    }
   ],
   "source": [
    "new_list = [[j for j in range(i)] for i in range(4)]\n",
    "new_list"
   ]
  },
  {
   "cell_type": "code",
   "execution_count": null,
   "id": "d9183d94-da08-4ffc-8b0a-8a50617fe139",
   "metadata": {},
   "outputs": [],
   "source": []
  }
 ],
 "metadata": {
  "kernelspec": {
   "display_name": "Python 3 (ipykernel)",
   "language": "python",
   "name": "python3"
  },
  "language_info": {
   "codemirror_mode": {
    "name": "ipython",
    "version": 3
   },
   "file_extension": ".py",
   "mimetype": "text/x-python",
   "name": "python",
   "nbconvert_exporter": "python",
   "pygments_lexer": "ipython3",
   "version": "3.13.1"
  }
 },
 "nbformat": 4,
 "nbformat_minor": 5
}
