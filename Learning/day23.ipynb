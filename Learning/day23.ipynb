{
 "cells": [
  {
   "cell_type": "code",
   "execution_count": 11,
   "id": "becd00f0-84a4-4442-a8b1-ef0d02d48884",
   "metadata": {},
   "outputs": [],
   "source": [
    "#This will check every possible combn and then only returns the best combn if it find one\n",
    "def how_sum(target,numbers,memo=None):\n",
    "    if memo is None:\n",
    "        memo = {}\n",
    "    if target in memo:\n",
    "        return memo[target]\n",
    "    if target == 0:\n",
    "        return []\n",
    "    if target < 0:\n",
    "        return None\n",
    "    res = None\n",
    "    for n in numbers:\n",
    "        val = how_sum(target-n,numbers,memo=memo)\n",
    "        if val is not None:\n",
    "            val.append(n)\n",
    "            res=val\n",
    "            break\n",
    "    memo[target] = res\n",
    "    return res"
   ]
  },
  {
   "cell_type": "code",
   "execution_count": 15,
   "id": "a436abd9-081a-4077-90e6-fdbc5d5542b6",
   "metadata": {},
   "outputs": [
    {
     "name": "stdout",
     "output_type": "stream",
     "text": [
      "[10, 3]\n",
      "[2, 2, 2, 2]\n"
     ]
    }
   ],
   "source": [
    "print(how_sum(13,[9,6,3,10]))\n",
    "print(how_sum(8, [2, 3, 5]))"
   ]
  },
  {
   "cell_type": "code",
   "execution_count": 6,
   "id": "9e2258ee-7090-4cef-b230-3b6f41203070",
   "metadata": {},
   "outputs": [],
   "source": [
    "#But above code fails to generate best solution as it is just greedy approach \n",
    "#and if it finds any solution it will return that instead of checking others\n",
    "\n",
    "#To solve it we need to adjust the code \n",
    "def how_sum(target, numbers, memo=None):\n",
    "    if memo is None:\n",
    "        memo = {}  # Initialize memoization dictionary\n",
    "\n",
    "    if target in memo:\n",
    "        return memo[target]  # Return precomputed result if available\n",
    "\n",
    "    if target == 0:\n",
    "        return []  # Return an empty list as a valid solution\n",
    "\n",
    "    if target < 0:\n",
    "        return None  # No valid solution\n",
    "\n",
    "    total_solutions = []  # To store all valid combinations\n",
    "\n",
    "    for n in numbers:\n",
    "        val = how_sum(target - n, numbers, memo)  # Recursive call\n",
    "        if val is not None:\n",
    "            total_solutions.append(val + [n])  # Append the current number\n",
    "    if total_solutions:\n",
    "        shortest_solution = min(total_solutions, key=len)  # Find the shortest combination\n",
    "        memo[target] = shortest_solution  # Memoize the result\n",
    "        return shortest_solution  # Return the shortest valid solution\n",
    "\n",
    "    memo[target] = None  # No solution found\n",
    "    return None"
   ]
  },
  {
   "cell_type": "code",
   "execution_count": 7,
   "id": "83a4cb9d-49c8-4061-8e1d-b0caaed5c6a7",
   "metadata": {},
   "outputs": [
    {
     "name": "stdout",
     "output_type": "stream",
     "text": [
      "[[5]]\n",
      "[[10], [5, 5]]\n",
      "[[5, 10], [10, 5]]\n",
      "[[20], [10, 10], [5, 10, 5]]\n",
      "[[25], [5, 20], [5, 10, 10], [20, 5]]\n",
      "[[5, 25], [10, 20], [20, 10], [25, 5]]\n",
      "[[10, 25], [5, 10, 20], [25, 10], [5, 25, 5]]\n",
      "[[5, 10, 25], [20, 20], [5, 25, 10], [10, 25, 5]]\n",
      "[20, 20]\n"
     ]
    }
   ],
   "source": [
    "print(how_sum(40, [25, 20, 10,5]))"
   ]
  },
  {
   "cell_type": "code",
   "execution_count": null,
   "id": "0f152922-f272-496c-87c8-56f1573a0898",
   "metadata": {},
   "outputs": [],
   "source": []
  }
 ],
 "metadata": {
  "kernelspec": {
   "display_name": "Python 3 (ipykernel)",
   "language": "python",
   "name": "python3"
  },
  "language_info": {
   "codemirror_mode": {
    "name": "ipython",
    "version": 3
   },
   "file_extension": ".py",
   "mimetype": "text/x-python",
   "name": "python",
   "nbconvert_exporter": "python",
   "pygments_lexer": "ipython3",
   "version": "3.13.1"
  }
 },
 "nbformat": 4,
 "nbformat_minor": 5
}
