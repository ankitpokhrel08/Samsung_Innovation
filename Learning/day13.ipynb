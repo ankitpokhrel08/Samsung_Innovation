{
 "cells": [
  {
   "cell_type": "code",
   "execution_count": 6,
   "id": "c403ed14-e26f-42fa-9257-0046451b4ac1",
   "metadata": {},
   "outputs": [
    {
     "data": {
      "text/plain": [
       "[2, 3, 4, 5, 6, 7]"
      ]
     },
     "execution_count": 6,
     "metadata": {},
     "output_type": "execute_result"
    }
   ],
   "source": [
    "list(map(lambda x : x + 1,[1,2,3,4,5,6]))"
   ]
  },
  {
   "cell_type": "code",
   "execution_count": 7,
   "id": "8b25457a-d01d-46ad-8377-4400f41006c7",
   "metadata": {},
   "outputs": [
    {
     "data": {
      "text/plain": [
       "['aa', 'ba', 'ca', 'da', 'ea', 'fa', 'ga']"
      ]
     },
     "execution_count": 7,
     "metadata": {},
     "output_type": "execute_result"
    }
   ],
   "source": [
    "list(map(lambda x : x + \"a\",\"abcdefg\"))"
   ]
  },
  {
   "cell_type": "code",
   "execution_count": 12,
   "id": "ab3f1aa1-bcd6-45cb-9655-486ddaf89cd2",
   "metadata": {},
   "outputs": [
    {
     "data": {
      "text/plain": [
       "31"
      ]
     },
     "execution_count": 12,
     "metadata": {},
     "output_type": "execute_result"
    }
   ],
   "source": [
    "from functools import reduce\n",
    "reduce(lambda x , y: x+y,[1,2,3,4,5,6],10)"
   ]
  },
  {
   "cell_type": "code",
   "execution_count": 24,
   "id": "c677a4a4-3cbe-4196-9b4f-1960dc00bbf9",
   "metadata": {},
   "outputs": [
    {
     "data": {
      "text/plain": [
       "['dcba', 'fed', 'gfe']"
      ]
     },
     "execution_count": 24,
     "metadata": {},
     "output_type": "execute_result"
    }
   ],
   "source": [
    "#[\"abcd\",\"def\",\"efg]} -> [\"dcba\",\"fed\",\"gfe\"]]\n",
    "# for i in [\"abcd\",\"def\",\"efg\"]:\n",
    "#     print(i[::-1])\n",
    "list(map(lambda x:x[::-1],[\"abcd\",\"def\",\"efg\"]))"
   ]
  },
  {
   "cell_type": "code",
   "execution_count": 31,
   "id": "244be15a-b145-45fc-9d01-4326b78660ea",
   "metadata": {},
   "outputs": [
    {
     "name": "stdout",
     "output_type": "stream",
     "text": [
      "1\n",
      "1\n",
      "3\n",
      "3\n"
     ]
    }
   ],
   "source": [
    "a = 1 \n",
    "def func():\n",
    "    global a\n",
    "    print(a)\n",
    "    a = 3\n",
    "    print(a)\n",
    "    \n",
    "print(a)\n",
    "func()\n",
    "print(a)"
   ]
  },
  {
   "cell_type": "code",
   "execution_count": 32,
   "id": "7ea51970-0f6f-4668-9037-56ee8c01894d",
   "metadata": {},
   "outputs": [
    {
     "name": "stdout",
     "output_type": "stream",
     "text": [
      "10\n"
     ]
    }
   ],
   "source": [
    "#we can access the variable defined outside the function but cannot change\n",
    "a= 10\n",
    "def func():\n",
    "    print(a)\n",
    "func()"
   ]
  },
  {
   "cell_type": "code",
   "execution_count": 79,
   "id": "48051b2f-81f1-4e3b-afb5-388750e6f98c",
   "metadata": {},
   "outputs": [],
   "source": [
    "a=20\n",
    "def func1():\n",
    "    a=10\n",
    "    def fun2():\n",
    "        a=22\n",
    "        print(a)\n",
    "    fun2()\n",
    "    return 1"
   ]
  },
  {
   "cell_type": "code",
   "execution_count": 80,
   "id": "cc0a9285-b4a0-4710-a9ee-32b20aa836aa",
   "metadata": {},
   "outputs": [
    {
     "name": "stdout",
     "output_type": "stream",
     "text": [
      "22\n"
     ]
    },
    {
     "data": {
      "text/plain": [
       "1"
      ]
     },
     "execution_count": 80,
     "metadata": {},
     "output_type": "execute_result"
    }
   ],
   "source": [
    "func1()"
   ]
  },
  {
   "cell_type": "code",
   "execution_count": 86,
   "id": "fafb444d-cb7a-467a-bc93-a3e54433ad91",
   "metadata": {},
   "outputs": [
    {
     "ename": "SyntaxError",
     "evalue": "name 'a' is parameter and nonlocal (3035797073.py, line 3)",
     "output_type": "error",
     "traceback": [
      "\u001b[0;36m  Cell \u001b[0;32mIn[86], line 3\u001b[0;36m\u001b[0m\n\u001b[0;31m    nonlocal a\u001b[0m\n\u001b[0m    ^\u001b[0m\n\u001b[0;31mSyntaxError\u001b[0m\u001b[0;31m:\u001b[0m name 'a' is parameter and nonlocal\n"
     ]
    }
   ],
   "source": [
    "# a = 1\n",
    "# def function(a):\n",
    "#     nonlocal a\n",
    "#     return a\n",
    "# function(10)"
   ]
  },
  {
   "cell_type": "code",
   "execution_count": 92,
   "id": "2e20cf86-2529-4122-9193-16ed5b6cbe57",
   "metadata": {},
   "outputs": [],
   "source": [
    "def print_thing(characters):\n",
    "    def inner():\n",
    "        print(characters * 10)\n",
    "    return inner"
   ]
  },
  {
   "cell_type": "code",
   "execution_count": 93,
   "id": "f68430b6-0871-456d-9b11-b295955df80c",
   "metadata": {},
   "outputs": [
    {
     "name": "stdout",
     "output_type": "stream",
     "text": [
      "@@@@@@@@@@\n"
     ]
    }
   ],
   "source": [
    "print_at = print_thing(\"@\")\n",
    "print_at()"
   ]
  },
  {
   "cell_type": "code",
   "execution_count": null,
   "id": "0c623951-4737-4736-8d68-7783b8adb107",
   "metadata": {},
   "outputs": [],
   "source": []
  }
 ],
 "metadata": {
  "kernelspec": {
   "display_name": "Python 3 (ipykernel)",
   "language": "python",
   "name": "python3"
  },
  "language_info": {
   "codemirror_mode": {
    "name": "ipython",
    "version": 3
   },
   "file_extension": ".py",
   "mimetype": "text/x-python",
   "name": "python",
   "nbconvert_exporter": "python",
   "pygments_lexer": "ipython3",
   "version": "3.13.1"
  }
 },
 "nbformat": 4,
 "nbformat_minor": 5
}
