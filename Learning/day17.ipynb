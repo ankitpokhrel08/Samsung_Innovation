{
 "cells": [
  {
   "cell_type": "code",
   "execution_count": 1,
   "id": "da03efa0-cc67-41b7-b384-682684d1e04e",
   "metadata": {},
   "outputs": [
    {
     "name": "stdout",
     "output_type": "stream",
     "text": [
      "5\n",
      "4\n",
      "3\n",
      "2\n",
      "1\n"
     ]
    }
   ],
   "source": [
    "#testsorting\n",
    "mylist = [3,2,5,1,4]\n",
    "length = len(mylist)\n",
    "for i in range(length):\n",
    "    temp = 0\n",
    "    for item in mylist:\n",
    "        if item > temp:\n",
    "            temp = item\n",
    "    mylist.remove(temp)\n",
    "    print(temp)"
   ]
  },
  {
   "cell_type": "code",
   "execution_count": 2,
   "id": "03f4ffbf-d1de-4789-8a57-90f4d47d7fe7",
   "metadata": {},
   "outputs": [
    {
     "name": "stdout",
     "output_type": "stream",
     "text": [
      "[1, 2, 3, 4, 5]\n"
     ]
    }
   ],
   "source": [
    "#Bubble sort\n",
    "mylist = [3,2,5,1,4]\n",
    "for i in range(len(mylist)):\n",
    "    for j in range(len(mylist) - 1):\n",
    "        if mylist[j] > mylist[j+1]:\n",
    "            mylist[j],mylist[j+1] = mylist[j+1], mylist[j]\n",
    "print(mylist)"
   ]
  },
  {
   "cell_type": "code",
   "execution_count": 3,
   "id": "2e4cdad3-a647-44cd-8ad0-eac4308f64ef",
   "metadata": {},
   "outputs": [
    {
     "name": "stdout",
     "output_type": "stream",
     "text": [
      "[1, 3, 5, 2, 4]\n",
      "[1, 2, 5, 3, 4]\n",
      "[1, 2, 3, 5, 4]\n",
      "[1, 2, 3, 4, 5]\n",
      "[1, 2, 3, 4, 5]\n",
      "Final Result:  [1, 2, 3, 4, 5]\n"
     ]
    }
   ],
   "source": [
    "#Selection sort\n",
    "mylist = [3,2,5,1,4]\n",
    "for i in range(len(mylist)):\n",
    "    for j in range(i,len(mylist)):\n",
    "        if mylist[i] > mylist[j]: \n",
    "            mylist[j],mylist[i] = mylist[i], mylist[j]\n",
    "    print(mylist)\n",
    "print(\"Final Result: \", mylist)"
   ]
  },
  {
   "cell_type": "code",
   "execution_count": 4,
   "id": "113697c1-b839-4afd-a820-f0e590db0db4",
   "metadata": {},
   "outputs": [
    {
     "name": "stdout",
     "output_type": "stream",
     "text": [
      "[2, 3, 5, 1, 4]\n",
      "[2, 3, 1, 5, 4]\n",
      "[2, 1, 3, 5, 4]\n",
      "[1, 2, 3, 5, 4]\n",
      "[1, 2, 3, 4, 5]\n",
      "Final Output: [1, 2, 3, 4, 5]\n"
     ]
    }
   ],
   "source": [
    "#Insertion sort\n",
    "mylist = [3, 2, 5, 1, 4]\n",
    "for i in range(1, len(mylist)):\n",
    "    for j in range(i, 0, -1):  \n",
    "        if mylist[j] < mylist[j - 1]:  \n",
    "            mylist[j], mylist[j - 1] = mylist[j - 1], mylist[j]\n",
    "        else:\n",
    "            break \n",
    "        print(mylist)\n",
    "print(\"Final Output:\",mylist)"
   ]
  },
  {
   "cell_type": "code",
   "execution_count": null,
   "id": "5663277f-f49c-4d9e-93fc-10393c319313",
   "metadata": {},
   "outputs": [],
   "source": []
  }
 ],
 "metadata": {
  "kernelspec": {
   "display_name": "Python 3",
   "language": "python",
   "name": "python3"
  },
  "language_info": {
   "codemirror_mode": {
    "name": "ipython",
    "version": 3
   },
   "file_extension": ".py",
   "mimetype": "text/x-python",
   "name": "python",
   "nbconvert_exporter": "python",
   "pygments_lexer": "ipython3",
   "version": "3.13.1"
  }
 },
 "nbformat": 4,
 "nbformat_minor": 5
}
