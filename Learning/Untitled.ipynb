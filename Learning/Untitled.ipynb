{
 "cells": [
  {
   "cell_type": "code",
   "execution_count": 1,
   "id": "4f41d25d-8c95-45d0-900b-1611f9c5ee8f",
   "metadata": {},
   "outputs": [
    {
     "name": "stdout",
     "output_type": "stream",
     "text": [
      "Sorted array: [3, 9, 10, 27, 38, 43, 82]\n"
     ]
    }
   ],
   "source": [
    "#Merge sort (Divide and concure algo...)\n",
    "\n",
    "def merge_sort(arr):\n",
    "    # Base case: If the array has 1 or no elements, it is already sorted\n",
    "    if len(arr) <= 1:\n",
    "        return arr\n",
    "\n",
    "    # Find the middle index of the array\n",
    "    mid = len(arr) // 2\n",
    "\n",
    "    # Recursively split and sort the left half\n",
    "    left_half = merge_sort(arr[:mid])\n",
    "\n",
    "    # Recursively split and sort the right half\n",
    "    right_half = merge_sort(arr[mid:])\n",
    "\n",
    "    # Merge the sorted halves\n",
    "    return merge(left_half, right_half)\n",
    "\n",
    "def merge(left, right):\n",
    "    sorted_arr = []  # Array to store the merged and sorted elements\n",
    "    i = j = 0  # Pointers for left and right halves\n",
    "\n",
    "    # Merge elements from both halves in sorted order\n",
    "    while i < len(left) and j < len(right):\n",
    "        if left[i] < right[j]:\n",
    "            sorted_arr.append(left[i])\n",
    "            i += 1\n",
    "        else:\n",
    "            sorted_arr.append(right[j])\n",
    "            j += 1\n",
    "\n",
    "    # Append any remaining elements from left half\n",
    "    while i < len(left):\n",
    "        sorted_arr.append(left[i])\n",
    "        i += 1\n",
    "\n",
    "    # Append any remaining elements from right half\n",
    "    while j < len(right):\n",
    "        sorted_arr.append(right[j])\n",
    "        j += 1\n",
    "\n",
    "    return sorted_arr\n",
    "\n",
    "# Example usage:\n",
    "arr = [38, 27, 43, 3, 9, 82, 10]\n",
    "sorted_arr = merge_sort(arr)\n",
    "print(\"Sorted array:\", sorted_arr)"
   ]
  },
  {
   "cell_type": "code",
   "execution_count": 22,
   "id": "bd6f17c0-75f8-4e68-8522-9d9532b8334f",
   "metadata": {},
   "outputs": [],
   "source": [
    "#Quick Sort\n",
    "def quick_sort(arr):\n",
    "    if len(arr) <= 1:\n",
    "        return arr  # Base case\n",
    "\n",
    "    pivot = arr[-1]  # Choosing the last element as pivot\n",
    "    left = [x for x in arr[:-1] if x <= pivot]  # Elements ≤ pivot\n",
    "    right = [x for x in arr[:-1] if x > pivot]  # Elements > pivot\n",
    "    print(\"Intermidate array= \",arr)\n",
    "    print(\"pivot: \", pivot)\n",
    "    print(\"Left = \",left)\n",
    "    print(\"Right = \",right)\n",
    "    print()\n",
    "    return quick_sort(left) + [pivot] + quick_sort(right)  # Recursively sort\n",
    "    "
   ]
  },
  {
   "cell_type": "code",
   "execution_count": 23,
   "id": "d04ce8ca-11b1-4dc6-a730-cdeb30e89887",
   "metadata": {},
   "outputs": [
    {
     "name": "stdout",
     "output_type": "stream",
     "text": [
      "Intermidate array=  [5, 3, 8, 4, 2, 7, 1, 3]\n",
      "pivot:  3\n",
      "Left =  [3, 2, 1]\n",
      "Right =  [5, 8, 4, 7]\n",
      "\n",
      "Intermidate array=  [3, 2, 1]\n",
      "pivot:  1\n",
      "Left =  []\n",
      "Right =  [3, 2]\n",
      "\n",
      "Intermidate array=  [3, 2]\n",
      "pivot:  2\n",
      "Left =  []\n",
      "Right =  [3]\n",
      "\n",
      "Intermidate array=  [5, 8, 4, 7]\n",
      "pivot:  7\n",
      "Left =  [5, 4]\n",
      "Right =  [8]\n",
      "\n",
      "Intermidate array=  [5, 4]\n",
      "pivot:  4\n",
      "Left =  []\n",
      "Right =  [5]\n",
      "\n",
      "\n",
      "Final Output =  [1, 2, 3, 3, 4, 5, 7, 8]\n"
     ]
    }
   ],
   "source": [
    "arr = [5, 3, 8, 4, 2, 7, 1,3] \n",
    "sorted_arr = quick_sort(arr)\n",
    "print(\"\\nFinal Output = \",sorted_arr)"
   ]
  },
  {
   "cell_type": "code",
   "execution_count": null,
   "id": "9a944654-4bed-41de-a981-3504fc7f6a70",
   "metadata": {},
   "outputs": [],
   "source": [
    "#if memory > time then use Bubble sort.\n",
    "#if "
   ]
  }
 ],
 "metadata": {
  "kernelspec": {
   "display_name": "Python 3 (ipykernel)",
   "language": "python",
   "name": "python3"
  },
  "language_info": {
   "codemirror_mode": {
    "name": "ipython",
    "version": 3
   },
   "file_extension": ".py",
   "mimetype": "text/x-python",
   "name": "python",
   "nbconvert_exporter": "python",
   "pygments_lexer": "ipython3",
   "version": "3.13.1"
  }
 },
 "nbformat": 4,
 "nbformat_minor": 5
}
