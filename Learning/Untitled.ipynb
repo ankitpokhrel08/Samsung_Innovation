{
 "cells": [
  {
   "cell_type": "code",
   "execution_count": 1,
   "id": "b3b21014-5607-43e2-b3a1-410cd092125c",
   "metadata": {},
   "outputs": [
    {
     "name": "stdout",
     "output_type": "stream",
     "text": [
      "OOP in Python\n"
     ]
    }
   ],
   "source": [
    "print(\"OOP in Python\")"
   ]
  },
  {
   "cell_type": "code",
   "execution_count": 2,
   "id": "49d16c41-0607-4b5b-b6e5-1516905402e7",
   "metadata": {},
   "outputs": [],
   "source": [
    "class TestClass:\n",
    "    abc = 2\n",
    "    def __init__(self,a,b):\n",
    "        self.a = a #instance variable\n",
    "        self.b = b"
   ]
  },
  {
   "cell_type": "code",
   "execution_count": 5,
   "id": "95124b53-37a3-4fce-9f4b-085bfb4f14ab",
   "metadata": {},
   "outputs": [
    {
     "data": {
      "text/plain": [
       "2"
      ]
     },
     "execution_count": 5,
     "metadata": {},
     "output_type": "execute_result"
    }
   ],
   "source": [
    "TestClass.abc"
   ]
  },
  {
   "cell_type": "code",
   "execution_count": 6,
   "id": "9f12e14a-4622-4e78-8b15-a3b0cccb586b",
   "metadata": {},
   "outputs": [],
   "source": [
    "TestClass.abc = 10"
   ]
  },
  {
   "cell_type": "code",
   "execution_count": 7,
   "id": "a4b0acb2-fed3-48f2-bde2-d20290d88f18",
   "metadata": {},
   "outputs": [
    {
     "data": {
      "text/plain": [
       "10"
      ]
     },
     "execution_count": 7,
     "metadata": {},
     "output_type": "execute_result"
    }
   ],
   "source": [
    "TestClass.abc"
   ]
  },
  {
   "cell_type": "code",
   "execution_count": 9,
   "id": "a394bd8a-607e-43d7-915c-b68502afb122",
   "metadata": {},
   "outputs": [],
   "source": [
    "i1 = TestClass(1,2)"
   ]
  },
  {
   "cell_type": "code",
   "execution_count": 10,
   "id": "bf42b5f2-be05-40a3-ab47-3dad53a3f514",
   "metadata": {},
   "outputs": [],
   "source": [
    "i2 = TestClass(1,2)"
   ]
  },
  {
   "cell_type": "code",
   "execution_count": 11,
   "id": "35828d66-34a7-4283-b36e-86cc49b164e8",
   "metadata": {},
   "outputs": [
    {
     "data": {
      "text/plain": [
       "(10, 10)"
      ]
     },
     "execution_count": 11,
     "metadata": {},
     "output_type": "execute_result"
    }
   ],
   "source": [
    "i1.abc,i2.abc"
   ]
  },
  {
   "cell_type": "code",
   "execution_count": 12,
   "id": "8aa01651-b76c-4e5a-bbb6-eca05d29b99c",
   "metadata": {},
   "outputs": [],
   "source": [
    "i1.abc = 20"
   ]
  },
  {
   "cell_type": "code",
   "execution_count": 13,
   "id": "dcea7ca3-d511-440e-9443-a83e44d853e3",
   "metadata": {},
   "outputs": [
    {
     "data": {
      "text/plain": [
       "(20, 10)"
      ]
     },
     "execution_count": 13,
     "metadata": {},
     "output_type": "execute_result"
    }
   ],
   "source": [
    "i1.abc,i2.abc"
   ]
  },
  {
   "cell_type": "code",
   "execution_count": 14,
   "id": "832c0230-7e5b-4698-885e-79480c60ddd4",
   "metadata": {},
   "outputs": [
    {
     "data": {
      "text/plain": [
       "['__class__',\n",
       " '__delattr__',\n",
       " '__dict__',\n",
       " '__dir__',\n",
       " '__doc__',\n",
       " '__eq__',\n",
       " '__firstlineno__',\n",
       " '__format__',\n",
       " '__ge__',\n",
       " '__getattribute__',\n",
       " '__getstate__',\n",
       " '__gt__',\n",
       " '__hash__',\n",
       " '__init__',\n",
       " '__init_subclass__',\n",
       " '__le__',\n",
       " '__lt__',\n",
       " '__module__',\n",
       " '__ne__',\n",
       " '__new__',\n",
       " '__reduce__',\n",
       " '__reduce_ex__',\n",
       " '__repr__',\n",
       " '__setattr__',\n",
       " '__sizeof__',\n",
       " '__static_attributes__',\n",
       " '__str__',\n",
       " '__subclasshook__',\n",
       " '__weakref__',\n",
       " 'a',\n",
       " 'abc',\n",
       " 'b']"
      ]
     },
     "execution_count": 14,
     "metadata": {},
     "output_type": "execute_result"
    }
   ],
   "source": [
    "dir(TestClass(1,2))"
   ]
  },
  {
   "cell_type": "code",
   "execution_count": 29,
   "id": "c97658cc-71cd-45fe-ad74-862405d5eb30",
   "metadata": {},
   "outputs": [],
   "source": [
    "class TestClass:\n",
    "    abc = 2\n",
    "    def __init__(self,a,b):\n",
    "        self.a = a #instance variable\n",
    "        self.b = b\n",
    "    def __str__(self):\n",
    "        return f\"{self.a},{self.b}\"\n",
    "    def __repr__(se):\n",
    "        return f\"TestClass(a={se.a},b={se.b})\"\n",
    "    def sum_number(self):\n",
    "        return self.a +self.b\n",
    "    def add_x(self,x):\n",
    "        return self.a +self.b + x"
   ]
  },
  {
   "cell_type": "code",
   "execution_count": 30,
   "id": "b29d53d9-3a3c-4c30-bab6-0bfd16f78e35",
   "metadata": {},
   "outputs": [
    {
     "data": {
      "text/plain": [
       "TestClass(a=1,b=2)"
      ]
     },
     "execution_count": 30,
     "metadata": {},
     "output_type": "execute_result"
    }
   ],
   "source": [
    "TestClass(1,2)"
   ]
  },
  {
   "cell_type": "code",
   "execution_count": 31,
   "id": "ae28e820-3569-4df9-84af-13f92ed573e5",
   "metadata": {},
   "outputs": [
    {
     "data": {
      "text/plain": [
       "3"
      ]
     },
     "execution_count": 31,
     "metadata": {},
     "output_type": "execute_result"
    }
   ],
   "source": [
    "instance = TestClass(1,2)\n",
    "instance.sum_number() #You don't need to pass anything in when using self variables "
   ]
  },
  {
   "cell_type": "code",
   "execution_count": 32,
   "id": "eee1a7f5-c0c0-46df-853a-6434c60879e1",
   "metadata": {},
   "outputs": [
    {
     "data": {
      "text/plain": [
       "6"
      ]
     },
     "execution_count": 32,
     "metadata": {},
     "output_type": "execute_result"
    }
   ],
   "source": [
    "instance = TestClass(1,2)\n",
    "instance.add_x(3) #You need to give the params for method whenever that param is not sef"
   ]
  },
  {
   "cell_type": "code",
   "execution_count": 37,
   "id": "2266a386-74f7-43df-b3a6-1f43186f008e",
   "metadata": {},
   "outputs": [],
   "source": [
    "class TestClass:\n",
    "    abc = 2\n",
    "    def __init__(self,a,b):\n",
    "        self.a = a #instance variable\n",
    "        self.b = b\n",
    "    def __str__(self):\n",
    "        return f\"{self.a},{self.b}\"\n",
    "    def __repr__(se):\n",
    "        return f\"TestClass(a={se.a},b={se.b})\"\n",
    "    def sum_number(self):\n",
    "        return self.a +self.b\n",
    "    def add_x(self,x):\n",
    "        return self.a +self.b + x\n",
    "    def __add__(self,other): #Adding two test class will return test class itself\n",
    "        return TestClass(self.a+other.a,self.b+other.b)"
   ]
  },
  {
   "cell_type": "code",
   "execution_count": 38,
   "id": "3842d3e3-2ff2-40cf-beba-a7d1679f06c0",
   "metadata": {},
   "outputs": [
    {
     "data": {
      "text/plain": [
       "TestClass(a=4,b=6)"
      ]
     },
     "execution_count": 38,
     "metadata": {},
     "output_type": "execute_result"
    }
   ],
   "source": [
    "i1 = TestClass(1,2)\n",
    "i2 = TestClass(3,4)\n",
    "i1 + i2"
   ]
  },
  {
   "cell_type": "code",
   "execution_count": 45,
   "id": "1c10e143-669f-4e15-b4f3-44867a2ba74a",
   "metadata": {},
   "outputs": [],
   "source": [
    "class Animal:\n",
    "    def __init__(self,name):\n",
    "        self.name = name\n",
    "        \n",
    "    def speak(self):\n",
    "        print(\"Speak\")\n",
    "        \n",
    "class Dog(Animal):\n",
    "    def speak(self):\n",
    "        print(\"woof\")"
   ]
  },
  {
   "cell_type": "code",
   "execution_count": 46,
   "id": "7f314832-fd8e-4985-b388-c8a4764bdc88",
   "metadata": {},
   "outputs": [
    {
     "name": "stdout",
     "output_type": "stream",
     "text": [
      "woof\n"
     ]
    }
   ],
   "source": [
    "Dog(\"test\").speak()"
   ]
  },
  {
   "cell_type": "code",
   "execution_count": 69,
   "id": "16e46aaf-a75f-4423-bc7b-a497e487fa3a",
   "metadata": {},
   "outputs": [],
   "source": [
    "class Animal:\n",
    "    def __init__(self,name):\n",
    "        self.name = name\n",
    "        self._name = name\n",
    "        self.__name = \"Test\"\n",
    "        \n",
    "    def changename(self,name):\n",
    "        self.__name = name\n",
    "        \n",
    "    def speak(self):\n",
    "        print(\"Speak\")\n",
    "        \n",
    "class Dog(Animal):\n",
    "    def __init__(self,name):\n",
    "        super().__init__(name)\n",
    "        self.__name = \"Dog\"\n",
    "    def speak(self):\n",
    "        print(\"woof\")"
   ]
  },
  {
   "cell_type": "code",
   "execution_count": 72,
   "id": "1b15ec00-fd54-49b0-9ee1-0a45eb946eab",
   "metadata": {},
   "outputs": [
    {
     "name": "stdout",
     "output_type": "stream",
     "text": [
      "Test\n",
      "Changed name:  Puppy\n"
     ]
    },
    {
     "data": {
      "text/plain": [
       "['_Animal__name',\n",
       " '_Dog__name',\n",
       " '__class__',\n",
       " '__delattr__',\n",
       " '__dict__',\n",
       " '__dir__',\n",
       " '__doc__',\n",
       " '__eq__',\n",
       " '__firstlineno__',\n",
       " '__format__',\n",
       " '__ge__',\n",
       " '__getattribute__',\n",
       " '__getstate__',\n",
       " '__gt__',\n",
       " '__hash__',\n",
       " '__init__',\n",
       " '__init_subclass__',\n",
       " '__le__',\n",
       " '__lt__',\n",
       " '__module__',\n",
       " '__ne__',\n",
       " '__new__',\n",
       " '__reduce__',\n",
       " '__reduce_ex__',\n",
       " '__repr__',\n",
       " '__setattr__',\n",
       " '__sizeof__',\n",
       " '__static_attributes__',\n",
       " '__str__',\n",
       " '__subclasshook__',\n",
       " '__weakref__',\n",
       " '_name',\n",
       " 'changename',\n",
       " 'name',\n",
       " 'speak']"
      ]
     },
     "execution_count": 72,
     "metadata": {},
     "output_type": "execute_result"
    }
   ],
   "source": [
    "dog = Dog(\"test\")\n",
    "print(dog._Animal__name)\n",
    "dog.changename(\"Puppy\")\n",
    "print(\"Changed name: \",dog._Animal__name)\n",
    "dir(dog)\n",
    "#print(dog._Dog__name)\n",
    "#dir(dog)"
   ]
  },
  {
   "cell_type": "code",
   "execution_count": null,
   "id": "7fb00ca1-b938-4591-af1f-95e4b2c9beca",
   "metadata": {},
   "outputs": [],
   "source": [
    "class TestClass:\n",
    "    abc = 2\n",
    "    def __init__(self,a,b):\n",
    "        self.a = a #instance variable\n",
    "        self.b = b\n",
    "    def __str__(self):\n",
    "        return f\"{self.a},{self.b}\"\n",
    "    def __repr__(se):\n",
    "        return f\"TestClass(a={se.a},b={se.b})\"\n",
    "    def sum_number(self):\n",
    "        return self.a +self.b\n",
    "    def add_x(self,x):\n",
    "        return self.a +self.b + x\n",
    "    def __add__(self,other): #Adding two test class will return test class itself\n",
    "        return TestClass(self.a+other.a,self.b+other.b)"
   ]
  },
  {
   "cell_type": "code",
   "execution_count": 88,
   "id": "4957664a-c012-4765-97e8-f671ed7e96cc",
   "metadata": {},
   "outputs": [
    {
     "name": "stdout",
     "output_type": "stream",
     "text": [
      "MyClass(value=30)\n",
      "MyClass(value=35)\n"
     ]
    }
   ],
   "source": [
    "class Point:\n",
    "    def __init__(self, a, b):\n",
    "        self.a = a\n",
    "        self.b = b\n",
    "    def __add__(self,other):\n",
    "        a = self.a + other.a\n",
    "        b = self.b+other.b\n",
    "    def __repr__()\n",
    "\n"
   ]
  },
  {
   "cell_type": "code",
   "execution_count": 76,
   "id": "769db12c-664d-4bfc-9c38-5cc82067388c",
   "metadata": {},
   "outputs": [
    {
     "data": {
      "text/plain": [
       "['__class__',\n",
       " '__delattr__',\n",
       " '__dict__',\n",
       " '__dir__',\n",
       " '__doc__',\n",
       " '__eq__',\n",
       " '__firstlineno__',\n",
       " '__format__',\n",
       " '__ge__',\n",
       " '__getattribute__',\n",
       " '__getstate__',\n",
       " '__gt__',\n",
       " '__hash__',\n",
       " '__init__',\n",
       " '__init_subclass__',\n",
       " '__le__',\n",
       " '__lt__',\n",
       " '__module__',\n",
       " '__ne__',\n",
       " '__new__',\n",
       " '__reduce__',\n",
       " '__reduce_ex__',\n",
       " '__repr__',\n",
       " '__setattr__',\n",
       " '__sizeof__',\n",
       " '__static_attributes__',\n",
       " '__str__',\n",
       " '__subclasshook__',\n",
       " '__weakref__',\n",
       " 'a',\n",
       " 'b',\n",
       " 'sum_number']"
      ]
     },
     "execution_count": 76,
     "metadata": {},
     "output_type": "execute_result"
    }
   ],
   "source": [
    "dir(instance)"
   ]
  },
  {
   "cell_type": "code",
   "execution_count": null,
   "id": "235e3a7f-25dc-469f-954b-271289ab5000",
   "metadata": {},
   "outputs": [],
   "source": []
  }
 ],
 "metadata": {
  "kernelspec": {
   "display_name": "Python 3 (ipykernel)",
   "language": "python",
   "name": "python3"
  },
  "language_info": {
   "codemirror_mode": {
    "name": "ipython",
    "version": 3
   },
   "file_extension": ".py",
   "mimetype": "text/x-python",
   "name": "python",
   "nbconvert_exporter": "python",
   "pygments_lexer": "ipython3",
   "version": "3.13.1"
  }
 },
 "nbformat": 4,
 "nbformat_minor": 5
}
