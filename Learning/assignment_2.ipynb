{
 "cells": [
  {
   "cell_type": "code",
   "execution_count": 26,
   "id": "ad10a9b7-289e-448f-990c-51756aca65f0",
   "metadata": {},
   "outputs": [
    {
     "name": "stdout",
     "output_type": "stream",
     "text": [
      "The shortest string : abc\n"
     ]
    }
   ],
   "source": [
    "s_list = ['abc', 'bcd', 'bcdefg', 'abba', 'cddc', 'opq']\n",
    "min = len(s_list[0])\n",
    "for string in s_list:\n",
    "    if(len(string) < min):\n",
    "        min = len(string)\n",
    "for string in s_list:\n",
    "    if(len(string) == min):\n",
    "        print(\"The shortest string :\", string)\n",
    "        break"
   ]
  },
  {
   "cell_type": "code",
   "execution_count": 33,
   "id": "9e35d67b-f4d8-4667-9fe7-b3b32e55fb34",
   "metadata": {},
   "outputs": [
    {
     "name": "stdout",
     "output_type": "stream",
     "text": [
      "The longest string : bcdefg\n"
     ]
    }
   ],
   "source": [
    "s_list = ['abc', 'bcd', 'bcdefg', 'abba', 'cddc', 'opq']\n",
    "max_string = \"\"\n",
    "max = 0\n",
    "for string in s_list:\n",
    "    if(len(string) > max):\n",
    "        max = len(string)\n",
    "        max_string = string\n",
    "print(\"The longest string :\", max_string)"
   ]
  },
  {
   "cell_type": "code",
   "execution_count": null,
   "id": "82ec1e2c-7594-472a-8531-9b373f0f3b31",
   "metadata": {},
   "outputs": [],
   "source": []
  }
 ],
 "metadata": {
  "kernelspec": {
   "display_name": "Python 3 (ipykernel)",
   "language": "python",
   "name": "python3"
  },
  "language_info": {
   "codemirror_mode": {
    "name": "ipython",
    "version": 3
   },
   "file_extension": ".py",
   "mimetype": "text/x-python",
   "name": "python",
   "nbconvert_exporter": "python",
   "pygments_lexer": "ipython3",
   "version": "3.13.1"
  }
 },
 "nbformat": 4,
 "nbformat_minor": 5
}
