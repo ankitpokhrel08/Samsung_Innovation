{
 "cells": [
  {
   "cell_type": "code",
   "execution_count": 47,
   "id": "2acdade9-b0d9-4325-89d8-2bb888ac147c",
   "metadata": {},
   "outputs": [
    {
     "data": {
      "text/plain": [
       "[0, 1, 2, 3, 4]"
      ]
     },
     "execution_count": 47,
     "metadata": {},
     "output_type": "execute_result"
    }
   ],
   "source": [
    "# 1\n",
    "list = [0,1,2,3,4]\n",
    "list"
   ]
  },
  {
   "cell_type": "code",
   "execution_count": null,
   "id": "5247afdd-168c-4a05-a84e-5d7e984bdb0f",
   "metadata": {},
   "outputs": [],
   "source": [
    "# 1"
   ]
  },
  {
   "cell_type": "code",
   "execution_count": null,
   "id": "57627316-728a-46ba-be27-0442d5d5fd0e",
   "metadata": {},
   "outputs": [],
   "source": [
    "# 1"
   ]
  },
  {
   "cell_type": "code",
   "execution_count": null,
   "id": "816cdead-8c8f-4a39-8e85-94be53753feb",
   "metadata": {},
   "outputs": [],
   "source": [
    "# 1"
   ]
  },
  {
   "cell_type": "code",
   "execution_count": null,
   "id": "9701fe45-d03d-4650-99c2-b5695d54b41c",
   "metadata": {},
   "outputs": [],
   "source": [
    "# 1"
   ]
  },
  {
   "cell_type": "code",
   "execution_count": 42,
   "id": "ad10a9b7-289e-448f-990c-51756aca65f0",
   "metadata": {},
   "outputs": [
    {
     "name": "stdout",
     "output_type": "stream",
     "text": [
      "The shortest string : abc\n"
     ]
    }
   ],
   "source": [
    "#PP 1\n",
    "s_list = ['abc', 'bcd', 'bcdefg', 'abba', 'cddc', 'opq']\n",
    "minm= len(s_list[0])\n",
    "for string in s_list:\n",
    "    if(len(string) < minm):\n",
    "        minm = len(string)\n",
    "for string in s_list:\n",
    "    if(len(string) == minm):\n",
    "        print(\"The shortest string :\", string)\n",
    "        break"
   ]
  },
  {
   "cell_type": "code",
   "execution_count": 43,
   "id": "9e35d67b-f4d8-4667-9fe7-b3b32e55fb34",
   "metadata": {},
   "outputs": [
    {
     "name": "stdout",
     "output_type": "stream",
     "text": [
      "The longest string : bcdefg\n"
     ]
    }
   ],
   "source": [
    "#PP 2\n",
    "s_list = ['abc', 'bcd', 'bcdefg', 'abba', 'cddc', 'opq']\n",
    "max_string = \"\"\n",
    "max = 0\n",
    "for string in s_list:\n",
    "    if(len(string) > max):\n",
    "        max = len(string)\n",
    "        max_string = string\n",
    "print(\"The longest string :\", max_string)"
   ]
  },
  {
   "cell_type": "code",
   "execution_count": 46,
   "id": "357ae6ab-0057-452f-b425-f3cdcfce9ecf",
   "metadata": {},
   "outputs": [
    {
     "data": {
      "text/plain": [
       "'abc'"
      ]
     },
     "execution_count": 46,
     "metadata": {},
     "output_type": "execute_result"
    }
   ],
   "source": [
    "s_list = ['abc', 'bcd', 'bcdefg', 'abba', 'cddc', 'opq']\n",
    "minm= s_list[0]\n",
    "for minimum in s_list:\n",
    "    if len(minm) > len(minimum):\n",
    "        minm = minimum\n",
    "minm"
   ]
  },
  {
   "cell_type": "code",
   "execution_count": null,
   "id": "17aca347-a168-4d3a-b636-54149ae4e15f",
   "metadata": {},
   "outputs": [],
   "source": [
    "# PP3\n",
    "s_list = ['abc', 'bcd', 'bcdefg', 'abba', 'cddc', 'opq']\n",
    "s_list.sort(key=len)\n",
    "for string in s_list:\n",
    "    if len(string) == len(s_list[0]):\n",
    "        print(string)"
   ]
  }
 ],
 "metadata": {
  "kernelspec": {
   "display_name": "Python 3 (ipykernel)",
   "language": "python",
   "name": "python3"
  },
  "language_info": {
   "codemirror_mode": {
    "name": "ipython",
    "version": 3
   },
   "file_extension": ".py",
   "mimetype": "text/x-python",
   "name": "python",
   "nbconvert_exporter": "python",
   "pygments_lexer": "ipython3",
   "version": "3.13.1"
  }
 },
 "nbformat": 4,
 "nbformat_minor": 5
}
