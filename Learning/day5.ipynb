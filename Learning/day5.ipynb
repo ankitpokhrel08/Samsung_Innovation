{
 "cells": [
  {
   "cell_type": "code",
   "execution_count": 4,
   "id": "e91a4085-fa85-49a9-bbf5-8b7bbb06ba4a",
   "metadata": {},
   "outputs": [
    {
     "name": "stdout",
     "output_type": "stream",
     "text": [
      "Ankit\n"
     ]
    }
   ],
   "source": [
    "#dictionary\n",
    "test0 = {\"name\": \"Ankit\", \"class\": \"SIC\"}\n",
    "print(test[\"name\"])"
   ]
  },
  {
   "cell_type": "code",
   "execution_count": 5,
   "id": "21f4b54c-b353-4ca7-9ed5-de0e6ff4ea70",
   "metadata": {},
   "outputs": [
    {
     "data": {
      "text/plain": [
       "(10, 11)"
      ]
     },
     "execution_count": 5,
     "metadata": {},
     "output_type": "execute_result"
    }
   ],
   "source": [
    "a=10\n",
    "b=11\n",
    "a,b"
   ]
  },
  {
   "cell_type": "code",
   "execution_count": 6,
   "id": "1b725e6e-a67f-43c7-abf1-82ddb07e1121",
   "metadata": {},
   "outputs": [],
   "source": [
    "#ALL methods are same as list but tuple is immutable \n",
    "test1 = (1,2)\n"
   ]
  },
  {
   "cell_type": "code",
   "execution_count": 7,
   "id": "1aa92a29-4ec3-4ff1-b631-e7c29549a492",
   "metadata": {},
   "outputs": [
    {
     "data": {
      "text/plain": [
       "(1, 2)"
      ]
     },
     "execution_count": 7,
     "metadata": {},
     "output_type": "execute_result"
    }
   ],
   "source": [
    "test1"
   ]
  },
  {
   "cell_type": "code",
   "execution_count": 8,
   "id": "69cf5f8b-8ad8-46ee-bc92-b1e1f70299ea",
   "metadata": {},
   "outputs": [
    {
     "ename": "TypeError",
     "evalue": "unhashable type: 'list'",
     "output_type": "error",
     "traceback": [
      "\u001b[0;31m---------------------------------------------------------------------------\u001b[0m",
      "\u001b[0;31mTypeError\u001b[0m                                 Traceback (most recent call last)",
      "Cell \u001b[0;32mIn[8], line 2\u001b[0m\n\u001b[1;32m      1\u001b[0m \u001b[38;5;66;03m# Attempting to use a list as a dictionary key\u001b[39;00m\n\u001b[0;32m----> 2\u001b[0m invalid_dict \u001b[38;5;241m=\u001b[39m {\n\u001b[1;32m      3\u001b[0m     [\u001b[38;5;241m1\u001b[39m, \u001b[38;5;241m2\u001b[39m, \u001b[38;5;241m3\u001b[39m]: \u001b[38;5;124m\"\u001b[39m\u001b[38;5;124mValue\u001b[39m\u001b[38;5;124m\"\u001b[39m  \u001b[38;5;66;03m# This will raise a TypeError\u001b[39;00m\n\u001b[1;32m      4\u001b[0m }\n",
      "\u001b[0;31mTypeError\u001b[0m: unhashable type: 'list'"
     ]
    }
   ],
   "source": [
    "# Attempting to use a list as a dictionary key \n",
    "invalid_dict = {\n",
    "    [1, 2, 3]: \"Value\"\n",
    "}"
   ]
  },
  {
   "cell_type": "code",
   "execution_count": 9,
   "id": "02f24248-2a90-464c-a910-c508f8425185",
   "metadata": {},
   "outputs": [
    {
     "name": "stdout",
     "output_type": "stream",
     "text": [
      "Student Info\n",
      "Numbers\n"
     ]
    }
   ],
   "source": [
    "# Valid dictionary with a tuple as a key\n",
    "test = {\n",
    "    (\"Ankit\", \"SIC\"): \"Student Info\",\n",
    "    (1, 2, 3): \"Numbers\"\n",
    "}"
   ]
  },
  {
   "cell_type": "code",
   "execution_count": 17,
   "id": "9d75b626-2a51-4878-b635-4e4b96906831",
   "metadata": {},
   "outputs": [
    {
     "name": "stdout",
     "output_type": "stream",
     "text": [
      "{'Capital': 'Biratnagar', 'Population': 4500000}\n",
      "12000000\n"
     ]
    }
   ],
   "source": [
    "#nested dictionery\n",
    "# Example of three-level nested dictionaries\n",
    "data = {\n",
    "    \"Nepal\": {\n",
    "        \"Province1\": {\n",
    "            \"Capital\": \"Biratnagar\",\n",
    "            \"Population\": 4500000\n",
    "        },\n",
    "        \"Bagmati\": {\n",
    "            \"Capital\": \"Hetauda\",\n",
    "            \"Population\": 5500000\n",
    "        }\n",
    "    },\n",
    "    \"India\": {\n",
    "        \"Bihar\": {\n",
    "            \"Capital\": \"Patna\",\n",
    "            \"Population\": 12000000\n",
    "        },\n",
    "        \"Bangaluru\": {\n",
    "            \"Capital\": \"Mumbai\",\n",
    "            \"Population\": 112000000\n",
    "        }\n",
    "    }\n",
    "}\n",
    "\n",
    "print(data[\"Nepal\"][\"Province1\"])\n",
    "print(data[\"India\"][\"Bihar\"][\"Population\"]) "
   ]
  },
  {
   "cell_type": "code",
   "execution_count": 16,
   "id": "1aa89eb3-8a81-4cbe-9d87-95f99ac06963",
   "metadata": {},
   "outputs": [
    {
     "data": {
      "text/plain": [
       "'Biratnagar'"
      ]
     },
     "execution_count": 16,
     "metadata": {},
     "output_type": "execute_result"
    }
   ],
   "source": [
    "data[\"Nepal\"][\"Province1\"][\"Capital\"]"
   ]
  },
  {
   "cell_type": "code",
   "execution_count": null,
   "id": "f9636c05-026b-40ae-a8ee-8dc2b4864588",
   "metadata": {},
   "outputs": [],
   "source": []
  }
 ],
 "metadata": {
  "kernelspec": {
   "display_name": "Python 3 (ipykernel)",
   "language": "python",
   "name": "python3"
  },
  "language_info": {
   "codemirror_mode": {
    "name": "ipython",
    "version": 3
   },
   "file_extension": ".py",
   "mimetype": "text/x-python",
   "name": "python",
   "nbconvert_exporter": "python",
   "pygments_lexer": "ipython3",
   "version": "3.13.1"
  }
 },
 "nbformat": 4,
 "nbformat_minor": 5
}
