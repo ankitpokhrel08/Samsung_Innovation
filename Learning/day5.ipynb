{
 "cells": [
  {
   "cell_type": "code",
   "execution_count": 4,
   "id": "e91a4085-fa85-49a9-bbf5-8b7bbb06ba4a",
   "metadata": {},
   "outputs": [
    {
     "name": "stdout",
     "output_type": "stream",
     "text": [
      "Ankit\n"
     ]
    }
   ],
   "source": [
    "#dictionary\n",
    "test0 = {\"name\": \"Ankit\", \"class\": \"SIC\"}\n",
    "print(test[\"name\"])"
   ]
  },
  {
   "cell_type": "code",
   "execution_count": 5,
   "id": "21f4b54c-b353-4ca7-9ed5-de0e6ff4ea70",
   "metadata": {},
   "outputs": [
    {
     "data": {
      "text/plain": [
       "(10, 11)"
      ]
     },
     "execution_count": 5,
     "metadata": {},
     "output_type": "execute_result"
    }
   ],
   "source": [
    "a=10\n",
    "b=11\n",
    "a,b"
   ]
  },
  {
   "cell_type": "code",
   "execution_count": 6,
   "id": "1b725e6e-a67f-43c7-abf1-82ddb07e1121",
   "metadata": {},
   "outputs": [],
   "source": [
    "#ALL methods are same as list but tuple is immutable \n",
    "test1 = (1,2)\n"
   ]
  },
  {
   "cell_type": "code",
   "execution_count": 7,
   "id": "1aa92a29-4ec3-4ff1-b631-e7c29549a492",
   "metadata": {},
   "outputs": [
    {
     "data": {
      "text/plain": [
       "(1, 2)"
      ]
     },
     "execution_count": 7,
     "metadata": {},
     "output_type": "execute_result"
    }
   ],
   "source": [
    "test1"
   ]
  },
  {
   "cell_type": "code",
   "execution_count": 8,
   "id": "69cf5f8b-8ad8-46ee-bc92-b1e1f70299ea",
   "metadata": {},
   "outputs": [
    {
     "ename": "TypeError",
     "evalue": "unhashable type: 'list'",
     "output_type": "error",
     "traceback": [
      "\u001b[0;31m---------------------------------------------------------------------------\u001b[0m",
      "\u001b[0;31mTypeError\u001b[0m                                 Traceback (most recent call last)",
      "Cell \u001b[0;32mIn[8], line 2\u001b[0m\n\u001b[1;32m      1\u001b[0m \u001b[38;5;66;03m# Attempting to use a list as a dictionary key\u001b[39;00m\n\u001b[0;32m----> 2\u001b[0m invalid_dict \u001b[38;5;241m=\u001b[39m {\n\u001b[1;32m      3\u001b[0m     [\u001b[38;5;241m1\u001b[39m, \u001b[38;5;241m2\u001b[39m, \u001b[38;5;241m3\u001b[39m]: \u001b[38;5;124m\"\u001b[39m\u001b[38;5;124mValue\u001b[39m\u001b[38;5;124m\"\u001b[39m  \u001b[38;5;66;03m# This will raise a TypeError\u001b[39;00m\n\u001b[1;32m      4\u001b[0m }\n",
      "\u001b[0;31mTypeError\u001b[0m: unhashable type: 'list'"
     ]
    }
   ],
   "source": [
    "# Attempting to use a list as a dictionary key \n",
    "invalid_dict = {\n",
    "    [1, 2, 3]: \"Value\"\n",
    "}"
   ]
  },
  {
   "cell_type": "code",
   "execution_count": 9,
   "id": "02f24248-2a90-464c-a910-c508f8425185",
   "metadata": {},
   "outputs": [
    {
     "name": "stdout",
     "output_type": "stream",
     "text": [
      "Student Info\n",
      "Numbers\n"
     ]
    }
   ],
   "source": [
    "# Valid dictionary with a tuple as a key\n",
    "test = {\n",
    "    (\"Ankit\", \"SIC\"): \"Student Info\",\n",
    "    (1, 2, 3): \"Numbers\"\n",
    "}"
   ]
  },
  {
   "cell_type": "code",
   "execution_count": 17,
   "id": "9d75b626-2a51-4878-b635-4e4b96906831",
   "metadata": {},
   "outputs": [
    {
     "name": "stdout",
     "output_type": "stream",
     "text": [
      "{'Capital': 'Biratnagar', 'Population': 4500000}\n",
      "12000000\n"
     ]
    }
   ],
   "source": [
    "#nested dictionery\n",
    "# Example of three-level nested dictionaries\n",
    "data = {\n",
    "    \"Nepal\": {\n",
    "        \"Province1\": {\n",
    "            \"Capital\": \"Biratnagar\",\n",
    "            \"Population\": 4500000\n",
    "        },\n",
    "        \"Bagmati\": {\n",
    "            \"Capital\": \"Hetauda\",\n",
    "            \"Population\": 5500000\n",
    "        }\n",
    "    },\n",
    "    \"India\": {\n",
    "        \"Bihar\": {\n",
    "            \"Capital\": \"Patna\",\n",
    "            \"Population\": 12000000\n",
    "        },\n",
    "        \"Bangaluru\": {\n",
    "            \"Capital\": \"Mumbai\",\n",
    "            \"Population\": 112000000\n",
    "        }\n",
    "    }\n",
    "}\n",
    "\n",
    "print(data[\"Nepal\"][\"Province1\"])\n",
    "print(data[\"India\"][\"Bihar\"][\"Population\"]) "
   ]
  },
  {
   "cell_type": "code",
   "execution_count": 16,
   "id": "1aa89eb3-8a81-4cbe-9d87-95f99ac06963",
   "metadata": {},
   "outputs": [
    {
     "data": {
      "text/plain": [
       "'Biratnagar'"
      ]
     },
     "execution_count": 16,
     "metadata": {},
     "output_type": "execute_result"
    }
   ],
   "source": [
    "data[\"Nepal\"][\"Province1\"][\"Capital\"]"
   ]
  },
  {
   "cell_type": "code",
   "execution_count": 18,
   "id": "f9636c05-026b-40ae-a8ee-8dc2b4864588",
   "metadata": {},
   "outputs": [
    {
     "data": {
      "text/plain": [
       "dict_keys(['Nepal', 'India'])"
      ]
     },
     "execution_count": 18,
     "metadata": {},
     "output_type": "execute_result"
    }
   ],
   "source": [
    "data.keys()\n"
   ]
  },
  {
   "cell_type": "code",
   "execution_count": 22,
   "id": "52f5c3e2-fcc7-486f-9a74-ccd65c64b917",
   "metadata": {},
   "outputs": [
    {
     "data": {
      "text/plain": [
       "dict_values([{'Province1': {'Capital': 'Biratnagar', 'Population': 4500000}, 'Bagmati': {'Capital': 'Hetauda', 'Population': 5500000}}, {'Bihar': {'Capital': 'Patna', 'Population': 12000000}, 'Bangaluru': {'Capital': 'Mumbai', 'Population': 112000000}}])"
      ]
     },
     "execution_count": 22,
     "metadata": {},
     "output_type": "execute_result"
    }
   ],
   "source": [
    "data.values()"
   ]
  },
  {
   "cell_type": "code",
   "execution_count": 26,
   "id": "fa8db6c5-a454-4b15-b666-d85be337e70d",
   "metadata": {},
   "outputs": [
    {
     "data": {
      "text/plain": [
       "dict_items([('Nepal', {'Province1': {'Capital': 'Biratnagar', 'Population': 4500000}, 'Bagmati': {'Capital': 'Hetauda', 'Population': 5500000}}), ('India', {'Bihar': {'Capital': 'Patna', 'Population': 12000000}, 'Bangaluru': {'Capital': 'Mumbai', 'Population': 112000000}})])"
      ]
     },
     "execution_count": 26,
     "metadata": {},
     "output_type": "execute_result"
    }
   ],
   "source": [
    "data.items()"
   ]
  },
  {
   "cell_type": "code",
   "execution_count": 28,
   "id": "a4b08314-3eb4-4625-9262-55b408e6da5e",
   "metadata": {},
   "outputs": [
    {
     "name": "stdout",
     "output_type": "stream",
     "text": [
      "<class 'dict'>\n"
     ]
    }
   ],
   "source": [
    "print(type(data))"
   ]
  },
  {
   "cell_type": "code",
   "execution_count": 29,
   "id": "45aace7b-cfc7-4a52-a36b-07d4df341af3",
   "metadata": {},
   "outputs": [
    {
     "data": {
      "text/plain": [
       "['__class__',\n",
       " '__class_getitem__',\n",
       " '__contains__',\n",
       " '__delattr__',\n",
       " '__delitem__',\n",
       " '__dir__',\n",
       " '__doc__',\n",
       " '__eq__',\n",
       " '__format__',\n",
       " '__ge__',\n",
       " '__getattribute__',\n",
       " '__getitem__',\n",
       " '__getstate__',\n",
       " '__gt__',\n",
       " '__hash__',\n",
       " '__init__',\n",
       " '__init_subclass__',\n",
       " '__ior__',\n",
       " '__iter__',\n",
       " '__le__',\n",
       " '__len__',\n",
       " '__lt__',\n",
       " '__ne__',\n",
       " '__new__',\n",
       " '__or__',\n",
       " '__reduce__',\n",
       " '__reduce_ex__',\n",
       " '__repr__',\n",
       " '__reversed__',\n",
       " '__ror__',\n",
       " '__setattr__',\n",
       " '__setitem__',\n",
       " '__sizeof__',\n",
       " '__str__',\n",
       " '__subclasshook__',\n",
       " 'clear',\n",
       " 'copy',\n",
       " 'fromkeys',\n",
       " 'get',\n",
       " 'items',\n",
       " 'keys',\n",
       " 'pop',\n",
       " 'popitem',\n",
       " 'setdefault',\n",
       " 'update',\n",
       " 'values']"
      ]
     },
     "execution_count": 29,
     "metadata": {},
     "output_type": "execute_result"
    }
   ],
   "source": [
    "dir(data)"
   ]
  },
  {
   "cell_type": "code",
   "execution_count": 31,
   "id": "abe46cb5-b0cc-44ef-b66d-ef0db4b22801",
   "metadata": {},
   "outputs": [
    {
     "data": {
      "text/plain": [
       "{'Province1': {'Capital': 'Biratnagar', 'Population': 4500000},\n",
       " 'Bagmati': {'Capital': 'Hetauda', 'Population': 5500000}}"
      ]
     },
     "execution_count": 31,
     "metadata": {},
     "output_type": "execute_result"
    }
   ],
   "source": [
    "data.get(\"Nepal\")"
   ]
  },
  {
   "cell_type": "code",
   "execution_count": 34,
   "id": "74ebcf2c-dab2-4772-ab7a-8275ea93227a",
   "metadata": {},
   "outputs": [],
   "source": [
    "iteration = {\"a\":1,\"b\":2,\"c\":3}"
   ]
  },
  {
   "cell_type": "code",
   "execution_count": 43,
   "id": "a18002e0-2e41-4151-bfc5-0aa9d0a2a646",
   "metadata": {},
   "outputs": [
    {
     "name": "stdout",
     "output_type": "stream",
     "text": [
      "a\n",
      "b\n",
      "c\n"
     ]
    }
   ],
   "source": [
    "for items in iteration:\n",
    "    print(items)"
   ]
  },
  {
   "cell_type": "code",
   "execution_count": 44,
   "id": "f93acc0e-39de-441f-9408-d689da90a075",
   "metadata": {},
   "outputs": [
    {
     "name": "stdout",
     "output_type": "stream",
     "text": [
      "1\n",
      "2\n",
      "3\n"
     ]
    }
   ],
   "source": [
    "for items in iteration.values():\n",
    "    print(items)"
   ]
  },
  {
   "cell_type": "code",
   "execution_count": 57,
   "id": "62d6fe2b-2abe-450b-9b89-4bf7b0fb0b79",
   "metadata": {},
   "outputs": [
    {
     "name": "stdout",
     "output_type": "stream",
     "text": [
      "('a', 1)\n",
      "('b', 2)\n",
      "('c', 3)\n"
     ]
    }
   ],
   "source": [
    "for items in iteration.items():\n",
    "    print(items)"
   ]
  },
  {
   "cell_type": "code",
   "execution_count": 55,
   "id": "9388023a-f957-4e97-a1d2-e0425bd493b4",
   "metadata": {},
   "outputs": [
    {
     "name": "stdout",
     "output_type": "stream",
     "text": [
      "key: a value: 1\n",
      "key: b value: 2\n",
      "key: c value: 3\n"
     ]
    }
   ],
   "source": [
    "#unpacking the dictionary into keys and value pair\n",
    "for items in iteration.items():\n",
    "    key,values = items\n",
    "    print(\"key:\",key,end=\" \")\n",
    "    print(\"value:\",values)"
   ]
  },
  {
   "cell_type": "code",
   "execution_count": 100,
   "id": "b32da0c4-283e-446e-b69c-08ad9a287b8b",
   "metadata": {},
   "outputs": [
    {
     "name": "stdout",
     "output_type": "stream",
     "text": [
      "Mrs. Smith\n",
      "95\n",
      "Alice\n",
      "Bob\n",
      "Charlie\n",
      "Maths average marks:  86.0\n",
      "Maths average marks:  89.66666666666667\n"
     ]
    }
   ],
   "source": [
    "# 9. Write Python code to extract:\n",
    "# The name of the teacher.\n",
    "# The math score of the student named 'Charlie'.\n",
    "# The list of all students' names from :\n",
    "math = 0\n",
    "sci = 0\n",
    "count = 0\n",
    "data = {\n",
    "'class': 'Grade 5',\n",
    "'students': [\n",
    "{'name': 'Alice', 'subjects': {'math': 85, 'science': 92}},\n",
    "{'name': 'Bob', 'subjects': {'math': 78, 'science': 88}},\n",
    "{'name': 'Charlie', 'subjects': {'math': 95, 'science': 89}}\n",
    "],\n",
    "'teacher': {'name': 'Mrs. Smith', 'subject': 'science'}\n",
    "}\n",
    "print(data['teacher']['name'])\n",
    "print(data['students'][2]['subjects']['math'])\n",
    "for data in data[\"students\"]:\n",
    "    print(data[\"name\"])\n",
    "    count = count + 1\n",
    "    math = math + int(data['subjects']['math'])\n",
    "    sci = sci + int(data['subjects']['science'])\n",
    "print(\"Maths average marks: \", math/count)\n",
    "print(\"Maths average marks: \", sci/count)"
   ]
  },
  {
   "cell_type": "code",
   "execution_count": 101,
   "id": "dd50941b-53cd-4388-8538-b57f85cd146d",
   "metadata": {},
   "outputs": [
    {
     "data": {
      "text/plain": [
       "5"
      ]
     },
     "execution_count": 101,
     "metadata": {},
     "output_type": "execute_result"
    }
   ],
   "source": [
    "len(\"milan\")"
   ]
  },
  {
   "cell_type": "code",
   "execution_count": null,
   "id": "7eea58f1-edff-4048-b399-687573de62c7",
   "metadata": {},
   "outputs": [],
   "source": []
  }
 ],
 "metadata": {
  "kernelspec": {
   "display_name": "Python 3 (ipykernel)",
   "language": "python",
   "name": "python3"
  },
  "language_info": {
   "codemirror_mode": {
    "name": "ipython",
    "version": 3
   },
   "file_extension": ".py",
   "mimetype": "text/x-python",
   "name": "python",
   "nbconvert_exporter": "python",
   "pygments_lexer": "ipython3",
   "version": "3.13.1"
  }
 },
 "nbformat": 4,
 "nbformat_minor": 5
}
