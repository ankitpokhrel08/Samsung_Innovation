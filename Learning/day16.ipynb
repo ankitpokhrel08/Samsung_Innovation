{
 "cells": [
  {
   "cell_type": "code",
   "execution_count": 81,
   "id": "14b670b6-10dd-4f0e-a8bd-974ee695f2ad",
   "metadata": {},
   "outputs": [
    {
     "name": "stdin",
     "output_type": "stream",
     "text": [
      "Enter parenthesis to check if it is balanced or not:  {{\n"
     ]
    },
    {
     "name": "stdout",
     "output_type": "stream",
     "text": [
      "Parenthesis did not match\n"
     ]
    }
   ],
   "source": [
    "#Implementing stack to check the balanced parenthesis\n",
    "class Stack:\n",
    "    def push(self, st, data):\n",
    "        st.append(data)\n",
    "\n",
    "    def pop(self, st):\n",
    "        if len(st) > 0:\n",
    "            ans = st.pop()\n",
    "            print(\"Removed element from the stack:\", ans)\n",
    "        else:\n",
    "            print(\"The stack is Empty\")\n",
    "\n",
    "    def is_Empty(self, st):\n",
    "        return len(st) == 0\n",
    "\n",
    "    def top(self, st):\n",
    "        if len(st) > 0:\n",
    "            return st[-1]\n",
    "        return None  \n",
    "\n",
    "\n",
    "check_dict = {\")\": \"(\", \"]\": \"[\", \"}\": \"{\"}\n",
    "my_stack = []\n",
    "st = Stack()\n",
    "string = input(\"Enter parenthesis to check if it is balanced or not: \")\n",
    "if (not string):\n",
    "    print(\"Empty Stack\")\n",
    "    \n",
    "else:\n",
    "    for braces in string:\n",
    "        if braces in \"{[(\":\n",
    "            st.push(my_stack, braces)\n",
    "        elif braces in \")]}\":\n",
    "            top_element = st.top(my_stack)\n",
    "            if check_dict[braces] == top_element:\n",
    "                st.pop(my_stack)\n",
    "            else:\n",
    "                print(\"The parenthesis did not match!\")\n",
    "                break\n",
    "        else:\n",
    "            print(\"Enter Parenthesis only\")\n",
    "            break\n",
    "\n",
    "    if st.is_Empt#y(my_stack):\n",
    "        print(\"Matched Parenthesis\")\n",
    "    else:\n",
    "        print(\"Parenthesis did not match\")"
   ]
  },
  {
   "cell_type": "code",
   "execution_count": 57,
   "id": "e09da24b-e5ef-4190-87db-b57a87175d61",
   "metadata": {},
   "outputs": [],
   "source": [
    "# dir(list)"
   ]
  },
  {
   "cell_type": "code",
   "execution_count": 79,
   "id": "7ca73f1c-ea06-476d-a092-d4bba022f1e1",
   "metadata": {},
   "outputs": [
    {
     "name": "stdout",
     "output_type": "stream",
     "text": [
      "False\n",
      "Removed element from the Queue: A\n",
      "Removed element from the Queue: B\n",
      "Removed element from the Queue: C\n",
      "The Queue is Empty\n",
      "True\n"
     ]
    }
   ],
   "source": [
    "#Implementing Queue\n",
    "#Implementing stack to check the balanced parenthesis\n",
    "class Queue:\n",
    "    def enqueue(self, st, data):\n",
    "        st.append(data)\n",
    "\n",
    "    def dequeue(self, st):\n",
    "        if len(st) > 0:\n",
    "            ans = st.pop(0)\n",
    "            print(\"Removed element from the Queue:\", ans)\n",
    "        else:\n",
    "            print(\"The Queue is Empty\")\n",
    "\n",
    "    def is_Empty(self, st):\n",
    "        return len(st) == 0\n",
    "\n",
    "    def top(self, st):\n",
    "        if len(st) > 0:\n",
    "            return st[-1]\n",
    "        return None  \n",
    "        \n",
    "my_queue = []\n",
    "qu = Queue()\n",
    "qu.enqueue(my_queue, \"A\")\n",
    "qu.enqueue(my_queue, \"B\")\n",
    "qu.enqueue(my_queue, \"C\")\n",
    "print(qu.is_Empty(my_queue))\n",
    "my_queue\n",
    "qu.dequeue(my_queue)\n",
    "qu.dequeue(my_queue)\n",
    "qu.dequeue(my_queue)\n",
    "qu.dequeue(my_queue)\n",
    "print(qu.is_Empty(my_queue))"
   ]
  },
  {
   "cell_type": "code",
   "execution_count": 84,
   "id": "3bfbd27f-5d76-45bd-a2db-d63b5c3b0704",
   "metadata": {},
   "outputs": [
    {
     "name": "stdin",
     "output_type": "stream",
     "text": [
      "Enter the number of people:  7\n",
      "Enter the turn to kill people:  3\n"
     ]
    },
    {
     "ename": "TypeError",
     "evalue": "'str' object cannot be interpreted as an integer",
     "output_type": "error",
     "traceback": [
      "\u001b[0;31m---------------------------------------------------------------------------\u001b[0m",
      "\u001b[0;31mTypeError\u001b[0m                                 Traceback (most recent call last)",
      "Cell \u001b[0;32mIn[84], line 21\u001b[0m\n\u001b[1;32m     19\u001b[0m kill \u001b[38;5;241m=\u001b[39m turn\n\u001b[1;32m     20\u001b[0m \u001b[38;5;28;01mwhile\u001b[39;00m(\u001b[38;5;28mlen\u001b[39m(my_queue)\u001b[38;5;241m==\u001b[39m\u001b[38;5;241m1\u001b[39m):\n\u001b[0;32m---> 21\u001b[0m     \u001b[43mqu\u001b[49m\u001b[38;5;241;43m.\u001b[39;49m\u001b[43mdequeue\u001b[49m\u001b[43m(\u001b[49m\u001b[43mmy_queue\u001b[49m\u001b[43m,\u001b[49m\u001b[43mturn\u001b[49m\u001b[43m)\u001b[49m\n\u001b[1;32m     22\u001b[0m     kill \u001b[38;5;241m=\u001b[39m kill \u001b[38;5;241m+\u001b[39m turn\n\u001b[1;32m     23\u001b[0m \u001b[38;5;28mprint\u001b[39m(\u001b[38;5;124m\"\u001b[39m\u001b[38;5;124mThe last standing person is: \u001b[39m\u001b[38;5;124m\"\u001b[39m,my_queue)\n",
      "Cell \u001b[0;32mIn[84], line 8\u001b[0m, in \u001b[0;36mQueue.dequeue\u001b[0;34m(self, st, turn)\u001b[0m\n\u001b[1;32m      6\u001b[0m \u001b[38;5;28;01mdef\u001b[39;00m\u001b[38;5;250m \u001b[39m\u001b[38;5;21mdequeue\u001b[39m(\u001b[38;5;28mself\u001b[39m, st,turn):\n\u001b[1;32m      7\u001b[0m     \u001b[38;5;28;01mif\u001b[39;00m \u001b[38;5;28mlen\u001b[39m(st) \u001b[38;5;241m>\u001b[39m \u001b[38;5;241m0\u001b[39m:\n\u001b[0;32m----> 8\u001b[0m         ans \u001b[38;5;241m=\u001b[39m \u001b[43mst\u001b[49m\u001b[38;5;241;43m.\u001b[39;49m\u001b[43mpop\u001b[49m\u001b[43m(\u001b[49m\u001b[43mturn\u001b[49m\u001b[43m)\u001b[49m\n\u001b[1;32m      9\u001b[0m         \u001b[38;5;28mprint\u001b[39m(\u001b[38;5;124m\"\u001b[39m\u001b[38;5;124mRemoved element from the Queue:\u001b[39m\u001b[38;5;124m\"\u001b[39m, ans)\n\u001b[1;32m     10\u001b[0m     \u001b[38;5;28;01melse\u001b[39;00m:\n",
      "\u001b[0;31mTypeError\u001b[0m: 'str' object cannot be interpreted as an integer"
     ]
    }
   ],
   "source": [
    "#Josephus story\n",
    "class Queue:\n",
    "    def enqueue(self, st, data):\n",
    "        st.append(data)\n",
    "\n",
    "    def dequeue(self, st,turn):\n",
    "        if len(st) > 0:\n",
    "            ans = st.pop(turn)\n",
    "            print(\"Removed element from the Queue:\", ans)\n",
    "        else:\n",
    "            print(\"The Queue is Empty\")\n",
    "        \n",
    "my_queue = []\n",
    "qu = Queue()\n",
    "people = input(\"Enter the number of people: \")\n",
    "turn = input(\"Enter the turn to kill people: \")\n",
    "for i in people:\n",
    "    qu.enqueue(my_queue,i)\n",
    "kill = turn\n",
    "while(len(my_queue)==1):\n",
    "    qu.dequeue(my_queue,turn)\n",
    "    kill = kill + turn\n",
    "print(\"The last standing person is: \",my_queue)"
   ]
  },
  {
   "cell_type": "code",
   "execution_count": null,
   "id": "1395bdb6-6708-4ac6-bf94-dae029512cfe",
   "metadata": {},
   "outputs": [],
   "source": []
  }
 ],
 "metadata": {
  "kernelspec": {
   "display_name": "Python 3 (ipykernel)",
   "language": "python",
   "name": "python3"
  },
  "language_info": {
   "codemirror_mode": {
    "name": "ipython",
    "version": 3
   },
   "file_extension": ".py",
   "mimetype": "text/x-python",
   "name": "python",
   "nbconvert_exporter": "python",
   "pygments_lexer": "ipython3",
   "version": "3.13.1"
  }
 },
 "nbformat": 4,
 "nbformat_minor": 5
}
