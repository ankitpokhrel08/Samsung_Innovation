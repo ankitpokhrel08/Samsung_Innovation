{
 "cells": [
  {
   "cell_type": "code",
   "execution_count": 1,
   "id": "f59d2a1f-5524-4a60-a304-3951c2dcd366",
   "metadata": {},
   "outputs": [
    {
     "name": "stdout",
     "output_type": "stream",
     "text": [
      "Hello\n"
     ]
    }
   ],
   "source": [
    "print(\"Hello\")\n"
   ]
  },
  {
   "cell_type": "code",
   "execution_count": null,
   "id": "6e028ee0",
   "metadata": {},
   "outputs": [],
   "source": []
  },
  {
   "cell_type": "code",
   "execution_count": 20,
   "id": "746c3745-d50e-450d-88b2-a55d4d021a1d",
   "metadata": {},
   "outputs": [
    {
     "data": {
      "text/plain": [
       "'3'"
      ]
     },
     "execution_count": 20,
     "metadata": {},
     "output_type": "execute_result"
    }
   ],
   "source": [
    "#list in python \n",
    "new_list = [1,2,\"3\",4.0,5,\"ram\"]\n",
    "new_list[-4]"
   ]
  },
  {
   "cell_type": "code",
   "execution_count": 21,
   "id": "cc19abfa-4a59-42a7-8837-8e4d4aca4060",
   "metadata": {},
   "outputs": [
    {
     "data": {
      "text/plain": [
       "[1, 2]"
      ]
     },
     "execution_count": 21,
     "metadata": {},
     "output_type": "execute_result"
    }
   ],
   "source": [
    "#This is just the range of data not specifying the exact data rather the boundary.\n",
    "new_list[-6:2]"
   ]
  },
  {
   "cell_type": "code",
   "execution_count": 26,
   "id": "0c1338cc-d88a-4656-a29d-96f18bf48522",
   "metadata": {},
   "outputs": [
    {
     "name": "stdout",
     "output_type": "stream",
     "text": [
      "1\n",
      "2\n",
      "3\n",
      "4.0\n",
      "5\n",
      "ram\n"
     ]
    }
   ],
   "source": [
    "for char in new_list:\n",
    "    print(char)\n",
    "    "
   ]
  },
  {
   "cell_type": "code",
   "execution_count": 27,
   "id": "9c7bc689-81d4-44d5-b915-fb9162665cea",
   "metadata": {},
   "outputs": [
    {
     "data": {
      "text/plain": [
       "['__add__',\n",
       " '__class__',\n",
       " '__class_getitem__',\n",
       " '__contains__',\n",
       " '__delattr__',\n",
       " '__delitem__',\n",
       " '__dir__',\n",
       " '__doc__',\n",
       " '__eq__',\n",
       " '__format__',\n",
       " '__ge__',\n",
       " '__getattribute__',\n",
       " '__getitem__',\n",
       " '__getstate__',\n",
       " '__gt__',\n",
       " '__hash__',\n",
       " '__iadd__',\n",
       " '__imul__',\n",
       " '__init__',\n",
       " '__init_subclass__',\n",
       " '__iter__',\n",
       " '__le__',\n",
       " '__len__',\n",
       " '__lt__',\n",
       " '__mul__',\n",
       " '__ne__',\n",
       " '__new__',\n",
       " '__reduce__',\n",
       " '__reduce_ex__',\n",
       " '__repr__',\n",
       " '__reversed__',\n",
       " '__rmul__',\n",
       " '__setattr__',\n",
       " '__setitem__',\n",
       " '__sizeof__',\n",
       " '__str__',\n",
       " '__subclasshook__',\n",
       " 'append',\n",
       " 'clear',\n",
       " 'copy',\n",
       " 'count',\n",
       " 'extend',\n",
       " 'index',\n",
       " 'insert',\n",
       " 'pop',\n",
       " 'remove',\n",
       " 'reverse',\n",
       " 'sort']"
      ]
     },
     "execution_count": 27,
     "metadata": {},
     "output_type": "execute_result"
    }
   ],
   "source": [
    "dir(list)"
   ]
  },
  {
   "cell_type": "code",
   "execution_count": 36,
   "id": "eb0e762e-6002-4a27-867b-2c12deab3d92",
   "metadata": {},
   "outputs": [],
   "source": [
    "new_list.clear()"
   ]
  },
  {
   "cell_type": "code",
   "execution_count": 37,
   "id": "40a48c6d-e412-45f0-987f-a08e139a15f5",
   "metadata": {},
   "outputs": [
    {
     "data": {
      "text/plain": [
       "[]"
      ]
     },
     "execution_count": 37,
     "metadata": {},
     "output_type": "execute_result"
    }
   ],
   "source": [
    "new_list"
   ]
  },
  {
   "cell_type": "code",
   "execution_count": 62,
   "id": "e6a6e144-b14c-4955-9cc9-a07e56bd5b05",
   "metadata": {},
   "outputs": [],
   "source": [
    "#Append at the end of the list \n",
    "names = [\"Tom\",\"Jerry\"]\n",
    "names.append(\"Spiderman\") #This will return none so don't assign any values to it just do this only"
   ]
  },
  {
   "cell_type": "code",
   "execution_count": 63,
   "id": "e4f9f9b5-c774-4e26-add6-6964cc976224",
   "metadata": {},
   "outputs": [],
   "source": [
    "random=names.append(\"Superman\")"
   ]
  },
  {
   "cell_type": "code",
   "execution_count": 64,
   "id": "e1546fdc-02d6-4a82-b4dd-eba6cfbc3fa6",
   "metadata": {},
   "outputs": [
    {
     "name": "stdout",
     "output_type": "stream",
     "text": [
      "None\n"
     ]
    }
   ],
   "source": [
    "print(random)"
   ]
  },
  {
   "cell_type": "code",
   "execution_count": 65,
   "id": "79af139a-775b-4d1e-b42c-a4e5d3f09961",
   "metadata": {},
   "outputs": [
    {
     "data": {
      "text/plain": [
       "['Tom', 'Jerry', 'Spiderman', 'Superman']"
      ]
     },
     "execution_count": 65,
     "metadata": {},
     "output_type": "execute_result"
    }
   ],
   "source": [
    "names"
   ]
  },
  {
   "cell_type": "code",
   "execution_count": 68,
   "id": "0de186b0-dbe5-468f-b4cd-af98b72a4f5f",
   "metadata": {},
   "outputs": [],
   "source": [
    "new_names = [\"Peppa\",\"Sponge Bob\",\"Dora\"]\n",
    "for name in new_names:\n",
    "    names.append(name)"
   ]
  },
  {
   "cell_type": "code",
   "execution_count": 69,
   "id": "5c3e31ae-8727-4bb4-a810-16368e9a8f04",
   "metadata": {},
   "outputs": [
    {
     "data": {
      "text/plain": [
       "['Tom',\n",
       " 'Jerry',\n",
       " 'Spiderman',\n",
       " 'Superman',\n",
       " 'Peppa',\n",
       " 'Sponge Bob',\n",
       " 'Dora',\n",
       " 'Peppa',\n",
       " 'Sponge Bob',\n",
       " 'Dora']"
      ]
     },
     "execution_count": 69,
     "metadata": {},
     "output_type": "execute_result"
    }
   ],
   "source": [
    "names"
   ]
  },
  {
   "cell_type": "code",
   "execution_count": 72,
   "id": "07211858-69fa-4b84-ae3c-69fc650635e1",
   "metadata": {},
   "outputs": [
    {
     "data": {
      "text/plain": [
       "['abc', 'a', 'b', 'c', 'd']"
      ]
     },
     "execution_count": 72,
     "metadata": {},
     "output_type": "execute_result"
    }
   ],
   "source": [
    "test = []\n",
    "test.append(\"abc\")\n",
    "#iterate every element so...\n",
    "test.extend(\"abcd\")\n",
    "test"
   ]
  },
  {
   "cell_type": "code",
   "execution_count": 94,
   "id": "1313f7c4-5989-4bcd-bc21-662cdb459559",
   "metadata": {},
   "outputs": [],
   "source": [
    "testlist = [[1,2,3],[4,5,6],\"abc\"]"
   ]
  },
  {
   "cell_type": "code",
   "execution_count": 95,
   "id": "0d64d600-00c1-4b35-8467-ba7c7d41c6b4",
   "metadata": {},
   "outputs": [
    {
     "data": {
      "text/plain": [
       "4"
      ]
     },
     "execution_count": 95,
     "metadata": {},
     "output_type": "execute_result"
    }
   ],
   "source": [
    "testlist\n",
    "testlist[1][0]"
   ]
  },
  {
   "cell_type": "code",
   "execution_count": 97,
   "id": "34de466c-81e1-40a6-8cd6-402f3b49bddd",
   "metadata": {},
   "outputs": [
    {
     "name": "stdout",
     "output_type": "stream",
     "text": [
      "1\n",
      "2\n",
      "3\n",
      "4\n",
      "5\n",
      "6\n",
      "a\n",
      "b\n",
      "c\n"
     ]
    }
   ],
   "source": [
    "for i in testlist:\n",
    "    #print(i)\n",
    "    for j in i:\n",
    "        print(j)"
   ]
  },
  {
   "cell_type": "code",
   "execution_count": 101,
   "id": "815e1c1a-5ee1-4bb6-b4ab-6836f09f3db1",
   "metadata": {},
   "outputs": [
    {
     "data": {
      "text/plain": [
       "[[1, 2, 3], [4, 5, 6], 'abc', 'abc', 'a', 'b', 'c', 'd']"
      ]
     },
     "execution_count": 101,
     "metadata": {},
     "output_type": "execute_result"
    }
   ],
   "source": [
    "#Two items need to be list to add them together\n",
    "testlist + test"
   ]
  },
  {
   "cell_type": "code",
   "execution_count": 106,
   "id": "c67ee2a4-374f-4ef4-ab35-cea38135c6b6",
   "metadata": {},
   "outputs": [
    {
     "data": {
      "text/plain": [
       "False"
      ]
     },
     "execution_count": 106,
     "metadata": {},
     "output_type": "execute_result"
    }
   ],
   "source": [
    "#Checks first index only\n",
    "[3,2,3] < [2,3,4,5,6]"
   ]
  },
  {
   "cell_type": "code",
   "execution_count": null,
   "id": "eb69e0c2-0f27-40dd-b260-217228f27446",
   "metadata": {},
   "outputs": [],
   "source": []
  },
  {
   "cell_type": "code",
   "execution_count": null,
   "id": "aa710024-4a71-4ace-8ef3-fce68d1e36e5",
   "metadata": {},
   "outputs": [],
   "source": []
  }
 ],
 "metadata": {
  "kernelspec": {
   "display_name": "Python 3 (ipykernel)",
   "language": "python",
   "name": "python3"
  },
  "language_info": {
   "codemirror_mode": {
    "name": "ipython",
    "version": 3
   },
   "file_extension": ".py",
   "mimetype": "text/x-python",
   "name": "python",
   "nbconvert_exporter": "python",
   "pygments_lexer": "ipython3",
   "version": "3.13.1"
  }
 },
 "nbformat": 4,
 "nbformat_minor": 5
}
