{
 "cells": [
  {
   "cell_type": "code",
   "execution_count": 1,
   "id": "6e098d29-e057-48ae-a4b5-efc5b0d4789f",
   "metadata": {},
   "outputs": [
    {
     "name": "stdout",
     "output_type": "stream",
     "text": [
      "Hello World\n"
     ]
    }
   ],
   "source": [
    "print(\"Hello World\")"
   ]
  },
  {
   "cell_type": "code",
   "execution_count": 6,
   "id": "bc708ffb-70af-4261-8dc6-021e8d95def3",
   "metadata": {},
   "outputs": [
    {
     "data": {
      "text/plain": [
       "{1: 3, 2: 2, 3: 3, 4: 1, 5: 1}"
      ]
     },
     "execution_count": 6,
     "metadata": {},
     "output_type": "execute_result"
    }
   ],
   "source": [
    "#Count the number of elements in list and assign the count dictionary\n",
    "elements = [1,2,3,1,1,2,3,3,4,5]\n",
    "count = {}\n",
    "for element in elements:\n",
    "    if not element in count:\n",
    "        count[element] = 0\n",
    "    count[element] = count[element] +1\n",
    "count"
   ]
  },
  {
   "cell_type": "code",
   "execution_count": 16,
   "id": "dc23c8c8-77b3-4b7a-ac4b-544ec89315d3",
   "metadata": {},
   "outputs": [
    {
     "data": {
      "text/plain": [
       "defaultdict(tuple, {})"
      ]
     },
     "execution_count": 16,
     "metadata": {},
     "output_type": "execute_result"
    }
   ],
   "source": [
    "from collections import defaultdict\n",
    "my_dict = defaultdict(tuple)\n",
    "my_dict"
   ]
  },
  {
   "cell_type": "code",
   "execution_count": 31,
   "id": "4112daa9-357d-4c30-825c-49582c9fc2f0",
   "metadata": {},
   "outputs": [
    {
     "data": {
      "text/plain": [
       "defaultdict(int, {1: 3, 2: 2, 3: 3, 4: 1, 5: 1})"
      ]
     },
     "execution_count": 31,
     "metadata": {},
     "output_type": "execute_result"
    }
   ],
   "source": [
    "#Using defaultdict to print the content\n",
    "from collections import defaultdict\n",
    "elements = [1, 2, 3, 1, 1, 2, 3, 3, 4, 5]\n",
    "count = defaultdict(int)\n",
    "for element in elements:\n",
    "    # print(element)\n",
    "    count[element] += 1 \n",
    "    # print(count)\n",
    "count"
   ]
  },
  {
   "cell_type": "code",
   "execution_count": 39,
   "id": "ddb22a6f-c0ab-4a6c-9005-9fcb86873884",
   "metadata": {},
   "outputs": [
    {
     "name": "stdout",
     "output_type": "stream",
     "text": [
      "assignment_2.ipynb day4.ipynb         day7.ipynb         \u001b[34mnewenv\u001b[m\u001b[m\n",
      "day2.ipynb         day5.ipynb         day8.ipynb\n",
      "day3.ipynb         day6.ipynb         \u001b[34mmyenv\u001b[m\u001b[m\n"
     ]
    }
   ],
   "source": [
    "! ls"
   ]
  },
  {
   "cell_type": "code",
   "execution_count": 38,
   "id": "163fabf0-b245-4187-931d-7d3dab4c06fb",
   "metadata": {},
   "outputs": [
    {
     "name": "stdout",
     "output_type": "stream",
     "text": [
      "/Users/ankitpokhrel/Documents/SIC/Learning\n"
     ]
    }
   ],
   "source": [
    "! pwd"
   ]
  },
  {
   "cell_type": "code",
   "execution_count": 41,
   "id": "8bbde714-b0ad-4049-b6e2-3e6e773907b9",
   "metadata": {},
   "outputs": [],
   "source": [
    "# ! pip3 install requests"
   ]
  },
  {
   "cell_type": "code",
   "execution_count": 43,
   "id": "a5ff0d4e-8838-4ce9-9583-f360730f9c8e",
   "metadata": {},
   "outputs": [],
   "source": [
    "import requests"
   ]
  },
  {
   "cell_type": "code",
   "execution_count": 76,
   "id": "441b70e4-dfe8-46cd-98d8-71945aea1c30",
   "metadata": {},
   "outputs": [
    {
     "name": "stdout",
     "output_type": "stream",
     "text": [
      "City: Kathmandu, NP\n",
      "Temperature: 6.12°C\n",
      "Feels Like: 6.12°C\n",
      "Weather: Clouds - few clouds\n",
      "Humidity: 100%\n",
      "Wind Speed: 1.03 m/s\n"
     ]
    }
   ],
   "source": [
    "    # import requests\n",
    "    # response = requests.get(\"https://db5f-103-5-150-130.ngrok-free.app/weather\")\n",
    "    # data = response.json()  \n",
    "    # city = data.get(\"name\", \"N/A\")  # City name\n",
    "    # country = data.get(\"sys\", {}).get(\"country\", \"N/A\")  # Country code\n",
    "    # temperature = data.get(\"main\", {}).get(\"temp\", \"N/A\")  # Temperature\n",
    "    # feels_like = data.get(\"main\", {}).get(\"feels_like\", \"N/A\")  # Feels like temperature\n",
    "    # weather_main = data.get(\"weather\", [{}])[0].get(\"main\", \"N/A\")  # Main weather condition\n",
    "    # weather_desc = data.get(\"weather\", [{}])[0].get(\"description\", \"N/A\")  # Weather description\n",
    "    # humidity = data.get(\"main\", {}).get(\"humidity\", \"N/A\")  # Humidity\n",
    "    # wind_speed = data.get(\"wind\", {}).get(\"speed\", \"N/A\")  # Wind speed\n",
    "    # print(f\"City: {city}, {country}\")\n",
    "    # print(f\"Temperature: {temperature}°C\")\n",
    "    # print(f\"Feels Like: {feels_like}°C\")\n",
    "    # print(f\"Weather: {weather_main} - {weather_desc}\")\n",
    "    # print(f\"Humidity: {humidity}%\")\n",
    "    # print(f\"Wind Speed: {wind_speed} m/s\")"
   ]
  },
  {
   "cell_type": "code",
   "execution_count": 65,
   "id": "81719f64-1f03-4eb4-b159-d87205ed48b9",
   "metadata": {},
   "outputs": [],
   "source": [
    "# dir(requests)"
   ]
  },
  {
   "cell_type": "code",
   "execution_count": 73,
   "id": "cdb01c8b-8b7a-4093-8bdd-d7c7211fc841",
   "metadata": {},
   "outputs": [
    {
     "name": "stdout",
     "output_type": "stream",
     "text": [
      "Kathmandu ma jado badyoo! 6.12 °C pugyo\n"
     ]
    }
   ],
   "source": [
    "response = requests.get(\"https://db5f-103-5-150-130.ngrok-free.app/weather\")\n",
    "data = response.json()\n",
    "print(data[\"name\"], \"ma jado badyoo!\",data['main']['temp'],\"°C pugyo\")"
   ]
  },
  {
   "cell_type": "markdown",
   "id": "5778fce4-a19c-49fd-a370-3a54ca3f1f6f",
   "metadata": {},
   "source": [
    "### Functions"
   ]
  },
  {
   "cell_type": "code",
   "execution_count": 83,
   "id": "d28cad24-cc12-4470-a9a3-0d8317d5bad0",
   "metadata": {},
   "outputs": [
    {
     "name": "stdout",
     "output_type": "stream",
     "text": [
      "2025-01-10 08:24:48.350666\n"
     ]
    }
   ],
   "source": [
    "from datetime import datetime\n",
    "def print_current_data():\n",
    "    print(datetime.now())\n",
    "print_current_data()"
   ]
  },
  {
   "cell_type": "code",
   "execution_count": 84,
   "id": "5c0fe8f2-c611-43c9-8c12-217335d85df8",
   "metadata": {},
   "outputs": [
    {
     "name": "stdout",
     "output_type": "stream",
     "text": [
      "Welcome Back Ram\n"
     ]
    }
   ],
   "source": [
    "def greet(name):\n",
    "    print(\"Welcome Back\", name)\n",
    "greet(\"Ram\")"
   ]
  },
  {
   "cell_type": "code",
   "execution_count": 86,
   "id": "ca8c1cbd-0537-4a44-a284-5c870b7011b8",
   "metadata": {},
   "outputs": [
    {
     "name": "stdout",
     "output_type": "stream",
     "text": [
      "Even\n"
     ]
    }
   ],
   "source": [
    "#DRY (don't repeat yourself)\n",
    "def odd_even(num):\n",
    "    if num%2==0:\n",
    "        return True\n",
    "    else:\n",
    "        return False\n",
    "print(\"Even\") if odd_even(2) else print(\"Odd\")∫"
   ]
  },
  {
   "cell_type": "code",
   "execution_count": 81,
   "id": "2bc62e0f-b307-4a54-a461-bfc5d845960b",
   "metadata": {},
   "outputs": [
    {
     "data": {
      "text/plain": [
       "True"
      ]
     },
     "execution_count": 81,
     "metadata": {},
     "output_type": "execute_result"
    }
   ],
   "source": [
    "# test = lambda num: num%2==0\n",
    "# test(100)"
   ]
  },
  {
   "cell_type": "code",
   "execution_count": 90,
   "id": "46a9ff07-55b8-447f-bb2f-a4ba3f9b64c3",
   "metadata": {},
   "outputs": [
    {
     "name": "stdout",
     "output_type": "stream",
     "text": [
      "1 2 3\n"
     ]
    },
    {
     "data": {
      "text/plain": [
       "NoneType"
      ]
     },
     "execution_count": 90,
     "metadata": {},
     "output_type": "execute_result"
    }
   ],
   "source": [
    "#If function is not returning anything then it's \"nonType\"\n",
    "def fun2():\n",
    "    print(1,2,3)\n",
    "o1 = fun2()\n",
    "type(o1)"
   ]
  },
  {
   "cell_type": "code",
   "execution_count": 94,
   "id": "d4ae16e7-5cb3-479c-8d9f-5f5cb9a3425f",
   "metadata": {},
   "outputs": [
    {
     "name": "stdout",
     "output_type": "stream",
     "text": [
      "11\n",
      "3\n"
     ]
    }
   ],
   "source": [
    "def sum(a,b=10):\n",
    "    print(a+b)\n",
    "sum(1)\n",
    "# sum()\n",
    "sum(1,2)"
   ]
  },
  {
   "cell_type": "code",
   "execution_count": 110,
   "id": "04f43647-24f6-45e2-a509-392d6697a169",
   "metadata": {},
   "outputs": [
    {
     "name": "stdout",
     "output_type": "stream",
     "text": [
      "(1, 2, 3, 4) 10\n",
      "<class 'tuple'>\n",
      "<class 'int'>\n"
     ]
    }
   ],
   "source": [
    "def sum(*args,c):\n",
    "    print(args,c)\n",
    "    print(type(args))\n",
    "    # print(type(kwargs))\n",
    "    print(type(c))\n",
    "sum(1,2,3,4,c=10)\n"
   ]
  },
  {
   "cell_type": "code",
   "execution_count": null,
   "id": "a2b9bfe9-e1fe-47d7-ab26-412cbcf69ecb",
   "metadata": {},
   "outputs": [],
   "source": []
  }
 ],
 "metadata": {
  "kernelspec": {
   "display_name": "Python 3 (ipykernel)",
   "language": "python",
   "name": "python3"
  },
  "language_info": {
   "codemirror_mode": {
    "name": "ipython",
    "version": 3
   },
   "file_extension": ".py",
   "mimetype": "text/x-python",
   "name": "python",
   "nbconvert_exporter": "python",
   "pygments_lexer": "ipython3",
   "version": "3.13.1"
  }
 },
 "nbformat": 4,
 "nbformat_minor": 5
}
