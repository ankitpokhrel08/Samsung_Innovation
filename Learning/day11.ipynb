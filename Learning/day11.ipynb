{
 "cells": [
  {
   "cell_type": "code",
   "execution_count": 12,
   "id": "444163ee-921a-4a88-ad94-87f8edf30f0b",
   "metadata": {},
   "outputs": [
    {
     "name": "stdout",
     "output_type": "stream",
     "text": [
      "1 1 2 3 5 "
     ]
    }
   ],
   "source": [
    "def fibo(num):\n",
    "    a = b = 1\n",
    "    for i in range(num):\n",
    "        print(a, end=\" \")\n",
    "        c = a + b\n",
    "        a = b\n",
    "        b = c\n",
    "fibo(5)"
   ]
  },
  {
   "cell_type": "code",
   "execution_count": 22,
   "id": "0fdba750-9c83-4b58-95e9-24eaa7fefc12",
   "metadata": {},
   "outputs": [
    {
     "data": {
      "text/plain": [
       "5"
      ]
     },
     "execution_count": 22,
     "metadata": {},
     "output_type": "execute_result"
    }
   ],
   "source": [
    "def fibona(n):\n",
    "    if n==1 or n==2: #Base_case\n",
    "        return 1\n",
    "    return (fibona(n-1) + fibona(n-2))\n",
    "fibona(5)"
   ]
  },
  {
   "cell_type": "code",
   "execution_count": 27,
   "id": "4f11a99a-cce0-44e8-a9e2-8a18c5b5fcf6",
   "metadata": {},
   "outputs": [
    {
     "name": "stdout",
     "output_type": "stream",
     "text": [
      "12\n"
     ]
    }
   ],
   "source": [
    "def fibona(n):\n",
    "    if n == 1 or n == 2:\n",
    "        return 1\n",
    "    return fibona(n - 1) + fibona(n - 2)\n",
    "\n",
    "def sum_of_fib(n):\n",
    "    if n == 1:\n",
    "        return 1\n",
    "    return fibona(n) + sum_of_fib(n-1)\n",
    "print(sum_of_fib(5)) "
   ]
  },
  {
   "cell_type": "code",
   "execution_count": null,
   "id": "5ffaa024-4e48-492e-a19f-067b908ad804",
   "metadata": {},
   "outputs": [],
   "source": [
    "#prints n natural numbers\n",
    "def natural(n):\n",
    "    "
   ]
  },
  {
   "cell_type": "code",
   "execution_count": 42,
   "id": "3457e100-63bf-46db-8eeb-637c83e01102",
   "metadata": {},
   "outputs": [],
   "source": [
    "#check palindrome\n",
    "def palin(string):\n",
    "    if (string[0] != string[-1]):\n",
    "        print(\"Not-Palindrome\")\n",
    "        return 0\n",
    "    if (len(string) <= 1):\n",
    "        print(\"Palindrome\")\n",
    "        return 1\n",
    "    palin(string[1:-1])"
   ]
  },
  {
   "cell_type": "code",
   "execution_count": 43,
   "id": "becd156a-2ab5-42e7-8a46-3ba52c0e94d9",
   "metadata": {},
   "outputs": [
    {
     "name": "stdout",
     "output_type": "stream",
     "text": [
      "Palindrome\n"
     ]
    }
   ],
   "source": [
    "palin(\"aaa\")"
   ]
  },
  {
   "cell_type": "code",
   "execution_count": 52,
   "id": "4c1103ce-23bc-40c0-832d-99a350c04049",
   "metadata": {},
   "outputs": [
    {
     "name": "stdout",
     "output_type": "stream",
     "text": [
      "12\n"
     ]
    }
   ],
   "source": [
    "def gcd(a,b):\n",
    "    if(a==b):\n",
    "        return a\n",
    "    else:\n",
    "        return gcd(b,b%a)\n",
    "print(gcd(36,120))"
   ]
  },
  {
   "cell_type": "code",
   "execution_count": 54,
   "id": "b498e6be-7175-4fbe-855b-b500f4b9a058",
   "metadata": {},
   "outputs": [
    {
     "data": {
      "text/plain": [
       "12"
      ]
     },
     "execution_count": 54,
     "metadata": {},
     "output_type": "execute_result"
    }
   ],
   "source": [
    "120%36"
   ]
  },
  {
   "cell_type": "code",
   "execution_count": null,
   "id": "d0973efe-c647-4505-abec-e186ad2d232c",
   "metadata": {},
   "outputs": [],
   "source": []
  }
 ],
 "metadata": {
  "kernelspec": {
   "display_name": "Python 3 (ipykernel)",
   "language": "python",
   "name": "python3"
  },
  "language_info": {
   "codemirror_mode": {
    "name": "ipython",
    "version": 3
   },
   "file_extension": ".py",
   "mimetype": "text/x-python",
   "name": "python",
   "nbconvert_exporter": "python",
   "pygments_lexer": "ipython3",
   "version": "3.13.1"
  }
 },
 "nbformat": 4,
 "nbformat_minor": 5
}
