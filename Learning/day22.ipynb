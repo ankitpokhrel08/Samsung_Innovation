{
 "cells": [
  {
   "cell_type": "code",
   "execution_count": null,
   "id": "9aae24d9-a490-45e6-8b10-1056a8c60451",
   "metadata": {},
   "outputs": [],
   "source": [
    "#Pascal's triangle:\n",
    "n = int(input(\"Enter the value of n: \"))\n",
    "k = int(input(\"Enter the value of k: \"))\n",
    "\n",
    "def pascal(n,k):\n",
    "    if k==0 or k==n:\n",
    "        return 1\n",
    "    else:\n",
    "        return pascal(n-1,k-1) + pascal(n-1,k)\n",
    "print(pascal(n,k))"
   ]
  },
  {
   "cell_type": "code",
   "execution_count": 33,
   "id": "69b8bfbd-78cd-49d9-8742-4b21d0129d7f",
   "metadata": {},
   "outputs": [
    {
     "name": "stdout",
     "output_type": "stream",
     "text": [
      "Enter the value of n:  1\n",
      "Enter the value of k:  1\n"
     ]
    },
    {
     "name": "stdout",
     "output_type": "stream",
     "text": [
      "The value at 1,1 is:  1\n",
      "Memoized Data:  {(1, 1): 1}\n"
     ]
    }
   ],
   "source": [
    "#PASCALS TRIANGLE with MEMOIZATION\n",
    "n = int(input(\"Enter the value of n: \"))\n",
    "k = int(input(\"Enter the value of k: \"))\n",
    "\n",
    "memo = {}  # Dictionary to store computed values\n",
    "\n",
    "def pascal(n, k):\n",
    "    if k == 0 or k == n:\n",
    "        memo[(n, k)] = 1\n",
    "        return 1\n",
    "    if (n,k) in memo:\n",
    "        \n",
    "        return memo[(n, k)]  # Return stored result if available\n",
    "    memo[(n, k)] = pascal(n - 1, k - 1) + pascal(n - 1, k)\n",
    "    return memo[(n, k)]\n",
    "    \n",
    "print(f\"The value at {n},{k} is: \", pascal(n,k))\n",
    "print(\"Memoized Data: \",memo)"
   ]
  },
  {
   "cell_type": "code",
   "execution_count": null,
   "id": "a87509ff-c7e3-449f-a80a-116516f3b618",
   "metadata": {},
   "outputs": [],
   "source": [
    "def function(value, my_list=[]):\n",
    "    if value in my_list:\n",
    "        return \"ALready seen \""
   ]
  },
  {
   "cell_type": "code",
   "execution_count": 41,
   "id": "fdb1a161-1084-4a15-8f83-54e777036636",
   "metadata": {},
   "outputs": [
    {
     "name": "stdout",
     "output_type": "stream",
     "text": [
      "[2, 2, 3] [2, 2, 3]\n",
      "4702611840 4702611840\n"
     ]
    }
   ],
   "source": [
    "#List consume much space so while using list python uses direct address \n",
    "a = [1,2,3]\n",
    "b=a\n",
    "b[0] = 2\n",
    "print(a,b)\n",
    "print(id(a),id(b))"
   ]
  },
  {
   "cell_type": "code",
   "execution_count": 43,
   "id": "5aacca29-cfaa-4b1c-b0a5-f347ae761fcc",
   "metadata": {},
   "outputs": [
    {
     "name": "stdout",
     "output_type": "stream",
     "text": [
      "[1, 2, 3] [2, 2, 3]\n",
      "4702611328 5047027264\n"
     ]
    }
   ],
   "source": [
    "#Only value is copied not address\n",
    "a = [1,2,3]\n",
    "b=a.copy()\n",
    "b[0] = 2\n",
    "print(a,b)\n",
    "print(id(a),id(b))"
   ]
  },
  {
   "cell_type": "code",
   "execution_count": 44,
   "id": "76f2f2ca-ab40-4dd8-aef8-f235ff480b6f",
   "metadata": {},
   "outputs": [
    {
     "name": "stdout",
     "output_type": "stream",
     "text": [
      "[[1, 2], 2, 3] [[1, 2], 2, 3]\n"
     ]
    }
   ],
   "source": [
    "#Second layer of list won't be copied\n",
    "a = [[1,],2,3]\n",
    "b=a.copy()\n",
    "b[0].append(2)\n",
    "print(a,b)"
   ]
  },
  {
   "cell_type": "code",
   "execution_count": 46,
   "id": "9c6d7a5b-8fd4-4500-8f71-cb0458b61132",
   "metadata": {},
   "outputs": [
    {
     "name": "stdout",
     "output_type": "stream",
     "text": [
      "[[1], 2, 3] [[1, 2], 2, 3]\n"
     ]
    }
   ],
   "source": [
    "#To avoid this we use copy from deepcopy\n",
    "from copy import deepcopy\n",
    "a = [[1,],2,3]\n",
    "b=deepcopy(a)\n",
    "b[0].append(2)\n",
    "print(a,b)"
   ]
  },
  {
   "cell_type": "code",
   "execution_count": 47,
   "id": "03b91804-8a74-46c9-8884-042e3a10bfd7",
   "metadata": {},
   "outputs": [],
   "source": [
    "def fun(val,my_list=[]):\n",
    "    my_list.append(val)\n",
    "    print(my_list)"
   ]
  },
  {
   "cell_type": "code",
   "execution_count": 48,
   "id": "4f1ff055-d248-42ef-a54a-774ce6703735",
   "metadata": {},
   "outputs": [
    {
     "name": "stdout",
     "output_type": "stream",
     "text": [
      "[1, 2, 3, 10]\n"
     ]
    }
   ],
   "source": [
    "fun(10,[1,2,3])"
   ]
  },
  {
   "cell_type": "code",
   "execution_count": 49,
   "id": "bb94838a-4407-493c-bb87-a92e201b79bf",
   "metadata": {},
   "outputs": [
    {
     "name": "stdout",
     "output_type": "stream",
     "text": [
      "[10]\n"
     ]
    }
   ],
   "source": [
    "fun(10)"
   ]
  },
  {
   "cell_type": "code",
   "execution_count": 50,
   "id": "d697c580-e778-4049-9040-6507ddbfcc7e",
   "metadata": {},
   "outputs": [
    {
     "name": "stdout",
     "output_type": "stream",
     "text": [
      "[1, 2, 3, 10]\n"
     ]
    }
   ],
   "source": [
    "fun(10,[1,2,3])"
   ]
  },
  {
   "cell_type": "code",
   "execution_count": 51,
   "id": "ea5cc8c7-27ab-4192-b801-88cf04b70d6a",
   "metadata": {},
   "outputs": [
    {
     "name": "stdout",
     "output_type": "stream",
     "text": [
      "[10, 10]\n"
     ]
    }
   ],
   "source": [
    "fun(10)"
   ]
  },
  {
   "cell_type": "code",
   "execution_count": 52,
   "id": "568a43e0-f80d-4a14-a018-dadefe49a6f4",
   "metadata": {},
   "outputs": [
    {
     "name": "stdout",
     "output_type": "stream",
     "text": [
      "[10, 10, 50]\n"
     ]
    }
   ],
   "source": [
    "fun(50)"
   ]
  },
  {
   "cell_type": "code",
   "execution_count": 54,
   "id": "92e9eede-0b13-437c-bbba-ee161d905c70",
   "metadata": {},
   "outputs": [
    {
     "name": "stdout",
     "output_type": "stream",
     "text": [
      "[1, 2, 3, 4, 5, 10]\n"
     ]
    }
   ],
   "source": [
    "my_list = [1,2,3,4,5]\n",
    "fun(10,my_list)"
   ]
  },
  {
   "cell_type": "code",
   "execution_count": 55,
   "id": "00543e5e-87af-4854-be24-1790e1135650",
   "metadata": {},
   "outputs": [
    {
     "name": "stdout",
     "output_type": "stream",
     "text": [
      "[1, 2, 3, 4, 5, 10, 10]\n"
     ]
    }
   ],
   "source": [
    "fun(10,my_list)"
   ]
  },
  {
   "cell_type": "code",
   "execution_count": null,
   "id": "7b60c3c5-1e6c-454f-945a-b55e683f2f43",
   "metadata": {},
   "outputs": [],
   "source": [
    "def fun(val,my_list=None):\n",
    "    if my_list is None:\n",
    "        my_list = []\n",
    "    my_list.append(val)\n",
    "    print(my_list)"
   ]
  },
  {
   "cell_type": "code",
   "execution_count": 8,
   "id": "c6718655-848d-42e8-b2a9-4044a1339bbf",
   "metadata": {},
   "outputs": [
    {
     "name": "stdout",
     "output_type": "stream",
     "text": [
      "Enter the total amount you want to exchange:  13\n"
     ]
    },
    {
     "name": "stdout",
     "output_type": "stream",
     "text": [
      "Answer: [9]\n",
      "Remaining Amount:  4\n"
     ]
    },
    {
     "name": "stdout",
     "output_type": "stream",
     "text": [
      "Answer: [9, 9, 9, 9, 9, 9, 9, 9, 3]\n",
      "Remaining Amount:  2\n"
     ]
    }
   ],
   "source": [
    "#Greedy Approach -> Returning coins when coins are unlimited\n",
    "answer = []\n",
    "value = int(input(\"Enter the total amount you want to exchange: \"))\n",
    "denominations = [9, 6, 7]\n",
    "\n",
    "for denom in denominations:\n",
    "    if value >= denom: \n",
    "        count = value // denom  \n",
    "        answer.extend([denom] * count) \n",
    "        value -= count * denom  \n",
    "\n",
    "print(\"Answer:\", answer)\n",
    "print(\"Remaining Amount: \",value)"
   ]
  }
 ],
 "metadata": {
  "kernelspec": {
   "display_name": "Python 3 (ipykernel)",
   "language": "python",
   "name": "python3"
  },
  "language_info": {
   "codemirror_mode": {
    "name": "ipython",
    "version": 3
   },
   "file_extension": ".py",
   "mimetype": "text/x-python",
   "name": "python",
   "nbconvert_exporter": "python",
   "pygments_lexer": "ipython3",
   "version": "3.13.1"
  }
 },
 "nbformat": 4,
 "nbformat_minor": 5
}
