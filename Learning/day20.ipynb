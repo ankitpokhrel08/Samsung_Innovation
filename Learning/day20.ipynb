{
 "cells": [
  {
   "cell_type": "markdown",
   "id": "bac98b7b-926d-47c0-a1d0-f20e811328cd",
   "metadata": {},
   "source": [
    "Solving Problem using Algorithm:"
   ]
  },
  {
   "cell_type": "code",
   "execution_count": 41,
   "id": "7fcd35af-5945-4cd6-a335-c0cd756cd361",
   "metadata": {},
   "outputs": [
    {
     "name": "stdin",
     "output_type": "stream",
     "text": [
      "Enter the total amount you want to exchange:  13\n"
     ]
    },
    {
     "name": "stdout",
     "output_type": "stream",
     "text": [
      "Answer: [9, 3]\n",
      "Remaining Amount:  1\n"
     ]
    }
   ],
   "source": [
    "#Greedy Approach -> Returning coins when coins are unlimited\n",
    "answer = []\n",
    "value = int(input(\"Enter the total amount you want to exchange: \"))\n",
    "denominations = [9, 6, 7, 3]\n",
    "\n",
    "for denom in denominations:\n",
    "    if value >= denom: \n",
    "        count = value // denom  \n",
    "        answer.extend([denom] * count) \n",
    "        value -= count * denom  \n",
    "\n",
    "print(\"Answer:\", answer)\n",
    "print(\"Remaining Amount: \",value)"
   ]
  },
  {
   "cell_type": "code",
   "execution_count": 37,
   "id": "a204e075-2b3e-4f61-97cf-85bd4cba613b",
   "metadata": {},
   "outputs": [
    {
     "name": "stdin",
     "output_type": "stream",
     "text": [
      "Enter the total amount you want to exchange:  305\n"
     ]
    },
    {
     "name": "stdout",
     "output_type": "stream",
     "text": [
      "Answer: [100, 100, 20, 20, 20, 10, 10, 10, 10, 5]\n",
      "Remaining Amount:  0\n"
     ]
    }
   ],
   "source": [
    "#Greedy Approach --> When you have limited amount of coins.\n",
    "answer = []\n",
    "value = int(input(\"Enter the total amount you want to exchange: \"))\n",
    "denominations = {100:2,20:3,10:4,5:3}\n",
    "\n",
    "for denom,avalcoin in denominations.items():\n",
    "    if value >= denom: \n",
    "        count = value // denom \n",
    "        if avalcoin <= count:\n",
    "            answer.extend([denom] * avalcoin) \n",
    "            value -= avalcoin * denom\n",
    "        else:\n",
    "            answer.extend([denom] * count) \n",
    "            value -= count * denom \n",
    "            \n",
    "print(\"Answer:\", answer)\n",
    "print(\"Remaining Amount: \",value)"
   ]
  },
  {
   "cell_type": "code",
   "execution_count": 43,
   "id": "723a7bea-d938-4753-a4de-6a515edf8a0b",
   "metadata": {},
   "outputs": [
    {
     "name": "stdin",
     "output_type": "stream",
     "text": [
      "Enter the total amount you want to exchange:  205\n"
     ]
    },
    {
     "name": "stdout",
     "output_type": "stream",
     "text": [
      "Answer: [100, 100, 5]\n",
      "Remaining Amount:  0\n"
     ]
    }
   ],
   "source": [
    "#Greedy Approach -> Returning coins when coins are unlimited [Easy Approch]\n",
    "answer = []\n",
    "value = int(input(\"Enter the total amount you want to exchange: \"))\n",
    "denominations = {100:2,20:3,10:4,5:3}\n",
    "\n",
    "for denom,aval in denominations.items():\n",
    "    if value >= denom: \n",
    "        count = value // denom  \n",
    "        count = min(count,aval)\n",
    "        answer.extend([denom] * count) \n",
    "        value -= count * denom  \n",
    "\n",
    "print(\"Answer:\", answer)\n",
    "print(\"Remaining Amount: \",value)"
   ]
  },
  {
   "cell_type": "code",
   "execution_count": 88,
   "id": "0fcd9f54-ac28-42bc-8f94-a7e674415f1b",
   "metadata": {},
   "outputs": [
    {
     "data": {
      "text/plain": [
       "[0, 0, 1, 2, 3, 4, 5, 6]"
      ]
     },
     "execution_count": 88,
     "metadata": {},
     "output_type": "execute_result"
    }
   ],
   "source": [
    "#Activity Selection Problem\n",
    "event = {0:[1,2],1:[3,4],2:[2,5],3:[0,6],4:[5,6],5:[7,9],6:[5,9]}\n",
    "newslot = list(event)[0]\n",
    "slot_given = [newslot]\n",
    "newlist = [i for i in range(event[0][0],event[0][1]+1)]\n",
    "for items in event:\n",
    "    if event[items][0] is not newlist and event[items][1]+1 is not newlist:\n",
    "        slot_given.append(items)\n",
    "        newlist.append(i for i in range(event[items][0],event[items][1]+1))\n",
    "slot_given"
   ]
  },
  {
   "cell_type": "code",
   "execution_count": null,
   "id": "d5ae3339-f2ff-4b9d-a1aa-9442962a046c",
   "metadata": {},
   "outputs": [],
   "source": []
  }
 ],
 "metadata": {
  "kernelspec": {
   "display_name": "Python 3 (ipykernel)",
   "language": "python",
   "name": "python3"
  },
  "language_info": {
   "codemirror_mode": {
    "name": "ipython",
    "version": 3
   },
   "file_extension": ".py",
   "mimetype": "text/x-python",
   "name": "python",
   "nbconvert_exporter": "python",
   "pygments_lexer": "ipython3",
   "version": "3.13.1"
  }
 },
 "nbformat": 4,
 "nbformat_minor": 5
}
