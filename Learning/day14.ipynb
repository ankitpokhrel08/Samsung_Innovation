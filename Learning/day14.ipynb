{
 "cells": [
  {
   "cell_type": "markdown",
   "id": "fa549e05-d4cb-4055-91d9-2f4c8dfa9b42",
   "metadata": {},
   "source": [
    "### Closure"
   ]
  },
  {
   "cell_type": "code",
   "execution_count": 1,
   "id": "4c988da4-4aa8-4600-91a0-ca99428d2e55",
   "metadata": {},
   "outputs": [
    {
     "name": "stdout",
     "output_type": "stream",
     "text": [
      "2\n",
      "3\n",
      "4\n",
      "5\n",
      "2\n",
      "2\n"
     ]
    }
   ],
   "source": [
    "def create_counter():\n",
    "    num = 1  \n",
    "    def counter():\n",
    "        nonlocal num\n",
    "        num += 1\n",
    "        print(num)\n",
    "    return counter\n",
    "\n",
    "c1 = create_counter()\n",
    "c2 = create_counter()\n",
    "c3 = create_counter()\n",
    "\n",
    "c1()  \n",
    "c1()  \n",
    "c1()  \n",
    "c1()  \n",
    "c3()\n",
    "c2()"
   ]
  },
  {
   "cell_type": "code",
   "execution_count": 2,
   "id": "d5c3fde6-1019-43d4-b1c6-52fdb85d2ef4",
   "metadata": {},
   "outputs": [],
   "source": [
    "import time"
   ]
  },
  {
   "cell_type": "code",
   "execution_count": 3,
   "id": "083784e7-6e10-42de-887c-a2c39cd17be9",
   "metadata": {},
   "outputs": [
    {
     "name": "stdout",
     "output_type": "stream",
     "text": [
      "CPU times: user 745 μs, sys: 992 μs, total: 1.74 ms\n",
      "Wall time: 1.01 s\n"
     ]
    },
    {
     "data": {
      "text/plain": [
       "1"
      ]
     },
     "execution_count": 3,
     "metadata": {},
     "output_type": "execute_result"
    }
   ],
   "source": [
    "%%time\n",
    "def func():\n",
    "    time.sleep(1)\n",
    "    return 1\n",
    "func()"
   ]
  },
  {
   "cell_type": "code",
   "execution_count": 4,
   "id": "05142022-d48b-4a39-9107-4563568b3e40",
   "metadata": {},
   "outputs": [
    {
     "name": "stdout",
     "output_type": "stream",
     "text": [
      "1.0055499076843262\n"
     ]
    }
   ],
   "source": [
    "#Getting time on how many sec it will take to execute the function\n",
    "t1 = time.time()\n",
    "func()\n",
    "t2 = time.time()\n",
    "print(t2-t1)"
   ]
  },
  {
   "cell_type": "markdown",
   "id": "4b1b5d10-c8ad-4f6e-9fb0-b1e315a6ebd6",
   "metadata": {},
   "source": [
    "### Decorator"
   ]
  },
  {
   "cell_type": "code",
   "execution_count": 5,
   "id": "8a62e63d-399c-4b7c-a65a-4de84d8b9afe",
   "metadata": {},
   "outputs": [],
   "source": [
    "#decorator\n",
    "def timer(func):\n",
    "    def inner(*args,**kwargs):\n",
    "        t1 = time.time()\n",
    "        out = func(*args,**kwargs)\n",
    "        t2 = time.time()\n",
    "        print(\"Time taken is: \", {t1-t2})\n",
    "        return out\n",
    "    return inner"
   ]
  },
  {
   "cell_type": "code",
   "execution_count": 6,
   "id": "78155dbf-ca43-4fd8-9f08-b34d90eb5cd0",
   "metadata": {},
   "outputs": [],
   "source": [
    "@timer\n",
    "def my_func(a):\n",
    "    print(a)"
   ]
  },
  {
   "cell_type": "code",
   "execution_count": 20,
   "id": "f9da1ccc-43a0-479c-929f-a05f537a700c",
   "metadata": {},
   "outputs": [
    {
     "name": "stdin",
     "output_type": "stream",
     "text": [
      "Enter any number:  2\n",
      "Enter another number:  3\n"
     ]
    },
    {
     "name": "stdout",
     "output_type": "stream",
     "text": [
      "The result is: 1.5\n",
      "Execution completed. Thank you!\n"
     ]
    }
   ],
   "source": [
    "try:\n",
    "    a = int(input(\"Enter any number: \"))\n",
    "    b = int(input(\"Enter another number: \"))\n",
    "    c = b / a\n",
    "except TypeError as ty:\n",
    "    print(\"Error: An invalid type was provided. Please enter numeric values only.\")\n",
    "except ValueError as ve:\n",
    "    print(\"Error: Invalid input. Please enter valid integers.\")\n",
    "except ZeroDivisionError:\n",
    "    print(\"Error: Division by zero is not allowed. Please provide a non-zero divisor.\")\n",
    "except Exception as e:\n",
    "    print(\"An unexpected error occurred:\", e)\n",
    "else:\n",
    "    print(\"The result is:\", c)\n",
    "finally:\n",
    "    print(\"Execution completed. Thank you!\")"
   ]
  },
  {
   "cell_type": "markdown",
   "id": "e09279ef-9142-4efe-8a73-cd7c304ab024",
   "metadata": {},
   "source": [
    "### Pass"
   ]
  },
  {
   "cell_type": "code",
   "execution_count": 21,
   "id": "f29d25ad-602e-48e9-b27d-d92882bf622b",
   "metadata": {},
   "outputs": [
    {
     "name": "stdout",
     "output_type": "stream",
     "text": [
      "None\n",
      "None\n"
     ]
    }
   ],
   "source": [
    "def fun():\n",
    "    pass\n",
    "def fun2():\n",
    "    return \n",
    "\n",
    "print(fun())\n",
    "print(fun2())"
   ]
  },
  {
   "cell_type": "markdown",
   "id": "3b6eac31-0039-4915-bef7-19465af60fdc",
   "metadata": {},
   "source": [
    "### Regular expression"
   ]
  },
  {
   "cell_type": "markdown",
   "id": "e4cdf2d6-77ae-4c92-8853-5fc3c90fa71d",
   "metadata": {},
   "source": [
    "Used to do complex search in strings"
   ]
  },
  {
   "cell_type": "code",
   "execution_count": 22,
   "id": "4d67af05-3a66-421b-94d7-08a75737a312",
   "metadata": {},
   "outputs": [
    {
     "data": {
      "text/plain": [
       "True"
      ]
     },
     "execution_count": 22,
     "metadata": {},
     "output_type": "execute_result"
    }
   ],
   "source": [
    "\"123\".isnumeric()"
   ]
  },
  {
   "cell_type": "code",
   "execution_count": 23,
   "id": "a14a60db-1c65-4ca6-9e0c-d6ce0823f690",
   "metadata": {},
   "outputs": [
    {
     "data": {
      "text/plain": [
       "<re.Match object; span=(4, 7), match='abc'>"
      ]
     },
     "execution_count": 23,
     "metadata": {},
     "output_type": "execute_result"
    }
   ],
   "source": [
    "import re \n",
    "re.search(\"abc\",\"testabcabc\")"
   ]
  },
  {
   "cell_type": "code",
   "execution_count": 24,
   "id": "dd8bb464-6351-4803-a4e5-22fa7a2cf96f",
   "metadata": {},
   "outputs": [
    {
     "data": {
      "text/plain": [
       "['abc']"
      ]
     },
     "execution_count": 24,
     "metadata": {},
     "output_type": "execute_result"
    }
   ],
   "source": [
    "re.findall(\"abc$\",\"abctestaaabc\")"
   ]
  },
  {
   "cell_type": "code",
   "execution_count": 25,
   "id": "90a2bd93-0333-4fcd-b157-a10f67fa5a71",
   "metadata": {},
   "outputs": [
    {
     "data": {
      "text/plain": [
       "['abc']"
      ]
     },
     "execution_count": 25,
     "metadata": {},
     "output_type": "execute_result"
    }
   ],
   "source": [
    "re.findall(\"^abc$\",\"abc\")"
   ]
  },
  {
   "cell_type": "code",
   "execution_count": 26,
   "id": "12b9801c-0414-4c9e-859d-32510ce0cb4a",
   "metadata": {},
   "outputs": [
    {
     "data": {
      "text/plain": [
       "['a', '', '', 'a', '', '', '', '', 'a', '']"
      ]
     },
     "execution_count": 26,
     "metadata": {},
     "output_type": "execute_result"
    }
   ],
   "source": [
    "re.findall(\"a*\",\"abcabddba\")"
   ]
  },
  {
   "cell_type": "code",
   "execution_count": 27,
   "id": "3fb6381c-6219-413a-a321-09566d50d010",
   "metadata": {},
   "outputs": [
    {
     "data": {
      "text/plain": [
       "['123123', '3', '21332123312', '12133123123']"
      ]
     },
     "execution_count": 27,
     "metadata": {},
     "output_type": "execute_result"
    }
   ],
   "source": [
    "#Evervalues that contains 123 continuously\n",
    "re.findall(\"[123]+\",\"12312393662133212331276121331231237676\")"
   ]
  },
  {
   "cell_type": "code",
   "execution_count": 28,
   "id": "a8a277ba-38d5-4ca1-8865-95fed129fc53",
   "metadata": {},
   "outputs": [
    {
     "data": {
      "text/plain": [
       "['9', '66', '76', '7676']"
      ]
     },
     "execution_count": 28,
     "metadata": {},
     "output_type": "execute_result"
    }
   ],
   "source": [
    "#Evervalues that doesnot contains 123 continuously\n",
    "re.findall(\"[^123]+\",\"12312393662133212331276121331231237676\")"
   ]
  },
  {
   "cell_type": "code",
   "execution_count": 29,
   "id": "c6f2cbe3-833a-436e-94af-ee3c4f6d5c2c",
   "metadata": {},
   "outputs": [
    {
     "data": {
      "text/plain": [
       "['1234', '12', '12']"
      ]
     },
     "execution_count": 29,
     "metadata": {},
     "output_type": "execute_result"
    }
   ],
   "source": [
    "#returning only numbers\n",
    "re.findall(r\"\\d+\",\"1234xf12df12\")"
   ]
  },
  {
   "cell_type": "code",
   "execution_count": 30,
   "id": "da846d45-d34c-46a1-b336-faf5bb1f2845",
   "metadata": {},
   "outputs": [
    {
     "data": {
      "text/plain": [
       "['xf', 'df']"
      ]
     },
     "execution_count": 30,
     "metadata": {},
     "output_type": "execute_result"
    }
   ],
   "source": [
    "#returning only string\n",
    "re.findall(r\"\\D+\",\"1234xf12df12\")"
   ]
  },
  {
   "cell_type": "code",
   "execution_count": 31,
   "id": "57f6fcd5-145f-4ca4-b402-a536cb1423ae",
   "metadata": {},
   "outputs": [
    {
     "name": "stdout",
     "output_type": "stream",
     "text": [
      "['\\\\', '\\\\', '\\\\']\n"
     ]
    }
   ],
   "source": [
    "#capture \\ character in string\n",
    "string = r\"asdf\\asdf\\asd\\f\"\n",
    "# string1 = \"\\d\\edhfgh\\d\"\n",
    "print(re.findall(r\"\\\\\",string))\n",
    "# re.findall(r\"\\\\\\\\\",string1)"
   ]
  },
  {
   "cell_type": "code",
   "execution_count": 34,
   "id": "bd1ff294-a6a3-4019-b21d-c812f97282e3",
   "metadata": {},
   "outputs": [
    {
     "name": "stdout",
     "output_type": "stream",
     "text": [
      "['+977 983475837', '+977-984189433', '+977973469374', '+977982476721']\n"
     ]
    }
   ],
   "source": [
    "import re\n",
    "\n",
    "string = \"+977 9834758378 27358+977-9841894334+9779734693748+977uhashjd+977982476721\"\n",
    "pattern = r\"\\+977[ -]?\\d{9}\"\n",
    "matches = re.findall(pattern, string)\n",
    "print(matches)"
   ]
  },
  {
   "cell_type": "code",
   "execution_count": null,
   "id": "06b898bc-fa26-416a-b139-b11ca9a88c53",
   "metadata": {},
   "outputs": [],
   "source": []
  },
  {
   "cell_type": "code",
   "execution_count": null,
   "id": "c9132bc5-f8d2-430b-9684-80b659b41a40",
   "metadata": {},
   "outputs": [],
   "source": []
  },
  {
   "cell_type": "markdown",
   "id": "d7f7386b-bbd0-4cf4-8f83-bbe41b6002f9",
   "metadata": {},
   "source": []
  },
  {
   "cell_type": "code",
   "execution_count": null,
   "id": "0a351397-88d7-4b91-851d-90bc075d0249",
   "metadata": {},
   "outputs": [],
   "source": []
  },
  {
   "cell_type": "code",
   "execution_count": null,
   "id": "c94ec22c-3415-4920-afe3-394ae1a9eb94",
   "metadata": {},
   "outputs": [],
   "source": []
  },
  {
   "cell_type": "code",
   "execution_count": null,
   "id": "89a30cd1-5519-4128-a5ce-8599f6c1e78f",
   "metadata": {},
   "outputs": [],
   "source": []
  },
  {
   "cell_type": "code",
   "execution_count": null,
   "id": "f0952830-f592-4dc9-8ad1-e71666333170",
   "metadata": {},
   "outputs": [],
   "source": []
  },
  {
   "cell_type": "code",
   "execution_count": null,
   "id": "93d3849a-44ab-4bfb-adc7-779b2ff4fe67",
   "metadata": {},
   "outputs": [],
   "source": []
  },
  {
   "cell_type": "code",
   "execution_count": null,
   "id": "2debcb04-7b6e-4c7e-9094-d1275f0161ce",
   "metadata": {},
   "outputs": [],
   "source": [
    "  "
   ]
  }
 ],
 "metadata": {
  "kernelspec": {
   "display_name": "Python 3 (ipykernel)",
   "language": "python",
   "name": "python3"
  },
  "language_info": {
   "codemirror_mode": {
    "name": "ipython",
    "version": 3
   },
   "file_extension": ".py",
   "mimetype": "text/x-python",
   "name": "python",
   "nbconvert_exporter": "python",
   "pygments_lexer": "ipython3",
   "version": "3.13.1"
  }
 },
 "nbformat": 4,
 "nbformat_minor": 5
}
