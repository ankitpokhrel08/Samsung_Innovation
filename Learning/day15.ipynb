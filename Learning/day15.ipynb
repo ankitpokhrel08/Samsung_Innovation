{
 "cells": [
  {
   "cell_type": "code",
   "execution_count": 2,
   "id": "63dd2ebf-984a-492f-a253-bda85b09ca10",
   "metadata": {},
   "outputs": [
    {
     "name": "stdout",
     "output_type": "stream",
     "text": [
      "['Ankit Pokhrel']\n"
     ]
    }
   ],
   "source": [
    "import re\n",
    "string = \"ifajoiiaospNBamjsdName:Ankit Pokhrel\"\n",
    "pattern = r\"Name:\\s*([A-Za-z]+(?:\\s[A-Za-z]+)*)\"\n",
    "matches = re.findall(pattern, string)\n",
    "print(matches)"
   ]
  },
  {
   "cell_type": "code",
   "execution_count": 5,
   "id": "805fb907-09f0-45e7-b636-e8087ae3a330",
   "metadata": {},
   "outputs": [
    {
     "name": "stdout",
     "output_type": "stream",
     "text": [
      "First Valid Nepali Phone Number: +977987656436\n",
      "Area Code: +977\n"
     ]
    }
   ],
   "source": [
    "import re\n",
    "\n",
    "# Step 1: Compile the regex for Nepali phone numbers with <area_code>\n",
    "phone_pattern = re.compile(r\"(?P<area_code>\\+977)[ -]?(9\\d)\\d{7}\")\n",
    "\n",
    "# Step 2: Input text containing phone numbers\n",
    "text = \"\"\" Please call +9779876564366\"\"\"\n",
    "\n",
    "# Step 3: Use the compiled pattern to search for the first phone number\n",
    "match = phone_pattern.search(text)\n",
    "\n",
    "if match:\n",
    "    # Step 4: Extract and print the matched phone number and area code\n",
    "    area_code = match.group(\"area_code\")  # Captured <area_code> (e.g., +977)\n",
    "    full_number = match.group()           # The full phone number   \n",
    "\n",
    "    print(f\"First Valid Nepali Phone Number: {full_number}\")\n",
    "    print(f\"Area Code: {area_code}\")\n",
    "else:\n",
    "    print(\"No valid Nepali phone number found.\")"
   ]
  },
  {
   "cell_type": "code",
   "execution_count": 8,
   "id": "70f55734-a8da-493a-a565-97f079f2ff3d",
   "metadata": {},
   "outputs": [
    {
     "name": "stdout",
     "output_type": "stream",
     "text": [
      "Name: John Doe\n",
      "Phone\n",
      "Phone: +1-234-567-8901\n",
      "Email: john.doe@example.com\n",
      "Address: 1234 Elm Street, Springfield, IL\n",
      "Education: ['B.Tech', 'High School']\n",
      "Experience: [('2018', '2022'), ('2016', '2018'), ('2022', 'Present'), ('2021', '2022')]\n",
      "Skills: ['Python', 'Java', 'SQL', 'Machine Learning']\n"
     ]
    }
   ],
   "source": [
    "#Extract All info from CV using regex\n",
    "import re\n",
    "\n",
    "def extract_info_from_cv(cv_text):\n",
    "    info = {}\n",
    "\n",
    "    # Extract Name (Assume it starts with uppercase and has at least two parts)\n",
    "    name_pattern = r\"^(?:Name[:\\s]*)?([A-Z][a-z]+(?:\\s[A-Z][a-z]+)+)\"\n",
    "    info['Name'] = re.search(name_pattern, cv_text, re.MULTILINE).group(1)\n",
    "\n",
    "    # Extract Phone Number (Various formats)\n",
    "    phone_pattern = r\"(\\+?\\d{1,3}[-.\\s]?)?(\\(?\\d{2,4}\\)?[-.\\s]?)?\\d{3,4}[-.\\s]?\\d{4}\"\n",
    "    info['Phone'] = re.search(phone_pattern, cv_text).group(0)\n",
    "\n",
    "    # Extract Email\n",
    "    email_pattern = r\"[a-zA-Z0-9._%+-]+@[a-zA-Z0-9.-]+\\.[a-zA-Z]{2,}\"\n",
    "    info['Email'] = re.search(email_pattern, cv_text).group(0)\n",
    "\n",
    "    # Extract Address (Look for \"Address\" and get following lines)\n",
    "    address_pattern = r\"Address[:\\s]*(.+)\"\n",
    "    address_match = re.search(address_pattern, cv_text, re.DOTALL)\n",
    "    if address_match:\n",
    "        info['Address'] = address_match.group(1).split('\\n')[0]\n",
    "\n",
    "    # Extract Education (Degree, Year)\n",
    "    education_pattern = r\"(?i)(B\\.?Sc|M\\.?Sc|B\\.?Tech|M\\.?Tech|Ph\\.?D|High School|Intermediate|Diploma)[^\\n]*\"\n",
    "    info['Education'] = re.findall(education_pattern, cv_text)\n",
    "\n",
    "    # Extract Work Experience (Year Range)\n",
    "    experience_pattern = r\"(\\d{4})\\s*-\\s*(Present|\\d{4})\"\n",
    "    info['Experience'] = re.findall(experience_pattern, cv_text)\n",
    "\n",
    "    # Extract Skills (Comma-separated list)\n",
    "    skills_pattern = r\"Skills[:\\s]*(.+)\"\n",
    "    skills_match = re.search(skills_pattern, cv_text)\n",
    "    if skills_match:\n",
    "        info['Skills'] = [skill.strip() for skill in skills_match.group(1).split(',')]\n",
    "\n",
    "    return info\n",
    "\n",
    "\n",
    "# Sample CV text\n",
    "cv_text = \"\"\"\n",
    "Name: John Doe\n",
    "Phone: +1-234-567-8901\n",
    "Email: john.doe@example.com\n",
    "Address: 1234 Elm Street, Springfield, IL\n",
    "Education:\n",
    "- B.Tech in Computer Science (2018-2022)\n",
    "- High School (2016-2018)\n",
    "Work Experience:\n",
    "- Software Developer at ABC Corp (2022 - Present)\n",
    "- Intern at XYZ Ltd. (2021 - 2022)\n",
    "Skills: Python, Java, SQL, Machine Learning\n",
    "\"\"\"\n",
    "\n",
    "# Extract information\n",
    "extracted_info = extract_info_from_cv(cv_text)\n",
    "\n",
    "# Display results\n",
    "for key, value in extracted_info.items():\n",
    "    print(f\"{key}: {value}\")"
   ]
  },
  {
   "cell_type": "code",
   "execution_count": 14,
   "id": "47271b94-b72d-4a3b-afa0-47f6884623c5",
   "metadata": {},
   "outputs": [
    {
     "data": {
      "text/plain": [
       "False"
      ]
     },
     "execution_count": 14,
     "metadata": {},
     "output_type": "execute_result"
    }
   ],
   "source": [
    "all([True,F,0])"
   ]
  },
  {
   "cell_type": "code",
   "execution_count": 15,
   "id": "5f6ee2be-cab3-4cfe-99f0-88e9642f5630",
   "metadata": {},
   "outputs": [
    {
     "data": {
      "text/plain": [
       "False"
      ]
     },
     "execution_count": 15,
     "metadata": {},
     "output_type": "execute_result"
    }
   ],
   "source": [
    "any([\"\"])"
   ]
  },
  {
   "cell_type": "code",
   "execution_count": 16,
   "id": "26cb6c3f-9250-4fb9-aa94-73ca2dfa296d",
   "metadata": {},
   "outputs": [
    {
     "data": {
      "text/plain": [
       "True"
      ]
     },
     "execution_count": 16,
     "metadata": {},
     "output_type": "execute_result"
    }
   ],
   "source": [
    "all([])"
   ]
  },
  {
   "cell_type": "code",
   "execution_count": 17,
   "id": "15f7880e-301d-4475-b4d0-c922d25f3e29",
   "metadata": {},
   "outputs": [
    {
     "data": {
      "text/plain": [
       "False"
      ]
     },
     "execution_count": 17,
     "metadata": {},
     "output_type": "execute_result"
    }
   ],
   "source": [
    "any([])"
   ]
  },
  {
   "cell_type": "code",
   "execution_count": 31,
   "id": "641e2935-7016-4be2-a6d4-1d8223f725b9",
   "metadata": {},
   "outputs": [],
   "source": [
    "x = (i for i in range(10))"
   ]
  },
  {
   "cell_type": "code",
   "execution_count": 33,
   "id": "f0f41fc8-3415-4e5d-b49c-c8d8f7295fe3",
   "metadata": {},
   "outputs": [
    {
     "data": {
      "text/plain": [
       "1"
      ]
     },
     "execution_count": 33,
     "metadata": {},
     "output_type": "execute_result"
    }
   ],
   "source": [
    "#This will run until the value is out of range then it will return StopException\n",
    "next(x)"
   ]
  },
  {
   "cell_type": "code",
   "execution_count": 45,
   "id": "cac024c9-32f4-43b3-9f9a-387b3649f406",
   "metadata": {},
   "outputs": [
    {
     "data": {
      "text/plain": [
       "1"
      ]
     },
     "execution_count": 45,
     "metadata": {},
     "output_type": "execute_result"
    }
   ],
   "source": [
    "a = iter([1,2,3,4,5])\n",
    "next(a)"
   ]
  },
  {
   "cell_type": "code",
   "execution_count": 53,
   "id": "ce239831-f57f-463c-8afd-54e5f959e627",
   "metadata": {},
   "outputs": [
    {
     "data": {
      "text/plain": [
       "[(1, 4, 7), (2, 5, 8), (3, 6, 9)]"
      ]
     },
     "execution_count": 53,
     "metadata": {},
     "output_type": "execute_result"
    }
   ],
   "source": [
    "b = ((1,2,3),(4,5,6),(7,8,9))\n",
    "list(zip(*b))"
   ]
  },
  {
   "cell_type": "code",
   "execution_count": 55,
   "id": "7261fdc5-8d83-4a6f-a361-62dbccf3905d",
   "metadata": {},
   "outputs": [],
   "source": [
    "# help(zip())"
   ]
  },
  {
   "cell_type": "code",
   "execution_count": 57,
   "id": "5ae1d9fa-b249-40b1-9eb7-2f4f5f8e369b",
   "metadata": {},
   "outputs": [
    {
     "ename": "SyntaxError",
     "evalue": "cannot assign to expression (130927916.py, line 4)",
     "output_type": "error",
     "traceback": [
      "\u001b[0;36m  Cell \u001b[0;32mIn[57], line 4\u001b[0;36m\u001b[0m\n\u001b[0;31m    for \"(\" or \"{\" or \"[\" in string:\u001b[0m\n\u001b[0m        ^\u001b[0m\n\u001b[0;31mSyntaxError\u001b[0m\u001b[0;31m:\u001b[0m cannot assign to expression\n"
     ]
    }
   ],
   "source": [
    "#Parentensis matches or not\n",
    "fcount = bcount = 0\n",
    "string = \"(()){}\"\n",
    "for \"(\" or \"{\" or \"[\" in string:\n",
    "    fcount = fcount + 1\n",
    "for \"]\" or \"}\" or \")\" in string:\n",
    "    bcount = bcount + 1\n",
    "if fcount == bcount return True\n"
   ]
  },
  {
   "cell_type": "code",
   "execution_count": null,
   "id": "6cca1b57-863c-4db3-b3d2-e005f1d81042",
   "metadata": {},
   "outputs": [],
   "source": []
  }
 ],
 "metadata": {
  "kernelspec": {
   "display_name": "Python 3 (ipykernel)",
   "language": "python",
   "name": "python3"
  },
  "language_info": {
   "codemirror_mode": {
    "name": "ipython",
    "version": 3
   },
   "file_extension": ".py",
   "mimetype": "text/x-python",
   "name": "python",
   "nbconvert_exporter": "python",
   "pygments_lexer": "ipython3",
   "version": "3.13.1"
  }
 },
 "nbformat": 4,
 "nbformat_minor": 5
}
