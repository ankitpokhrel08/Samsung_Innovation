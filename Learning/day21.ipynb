{
 "cells": [
  {
   "cell_type": "code",
   "execution_count": 18,
   "id": "4a741605-88ee-4a42-a6f7-0820609da06c",
   "metadata": {},
   "outputs": [
    {
     "name": "stdout",
     "output_type": "stream",
     "text": [
      "11\n"
     ]
    }
   ],
   "source": [
    "def minimum_total(triangle):\n",
    "    def helper(row, col):\n",
    "        # Base case: if we are at the last row, return the value at that position\n",
    "        if row == len(triangle) - 1:\n",
    "            return triangle[row][col]\n",
    "        \n",
    "        # Recursive case: move to the adjacent numbers on the row below\n",
    "        left = helper(row + 1, col)\n",
    "        right = helper(row + 1, col + 1)\n",
    "        \n",
    "        # Return the current value plus the minimum of the two adjacent numbers\n",
    "        return triangle[row][col] + min(left, right)\n",
    "    \n",
    "    # Start the recursion from the top of the triangle\n",
    "    return helper(0, 0)\n",
    "\n",
    "# Example usage\n",
    "triangle = [\n",
    "    [2],\n",
    "    [1, 9],\n",
    "    [7, 15, 1],\n",
    "    [4, 1, 8, 3]\n",
    "]\n",
    "\n",
    "print(minimum_total(triangle))"
   ]
  },
  {
   "cell_type": "code",
   "execution_count": null,
   "id": "b9ed3c63-3ddc-44f5-837d-e16da268bf52",
   "metadata": {},
   "outputs": [],
   "source": [
    "#Tromino tiling problem\n"
   ]
  }
 ],
 "metadata": {
  "kernelspec": {
   "display_name": "Python 3 (ipykernel)",
   "language": "python",
   "name": "python3"
  },
  "language_info": {
   "codemirror_mode": {
    "name": "ipython",
    "version": 3
   },
   "file_extension": ".py",
   "mimetype": "text/x-python",
   "name": "python",
   "nbconvert_exporter": "python",
   "pygments_lexer": "ipython3",
   "version": "3.13.1"
  }
 },
 "nbformat": 4,
 "nbformat_minor": 5
}
