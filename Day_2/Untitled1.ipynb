{
 "cells": [
  {
   "cell_type": "code",
   "execution_count": 2,
   "id": "855e519d-95f2-4f0d-8378-01072dce2391",
   "metadata": {},
   "outputs": [
    {
     "data": {
      "text/plain": [
       "'AM'"
      ]
     },
     "execution_count": 2,
     "metadata": {},
     "output_type": "execute_result"
    }
   ],
   "source": [
    "#Slicing \n",
    "name = \"NAME\"\n",
    "name[1:3]"
   ]
  },
  {
   "cell_type": "code",
   "execution_count": 3,
   "id": "9f293267-6a82-4733-b55c-1aa310899bb2",
   "metadata": {},
   "outputs": [
    {
     "data": {
      "text/plain": [
       "'NM'"
      ]
     },
     "execution_count": 3,
     "metadata": {},
     "output_type": "execute_result"
    }
   ],
   "source": [
    "name[0:4:2]"
   ]
  },
  {
   "cell_type": "code",
   "execution_count": 4,
   "id": "28a98cc0-7990-4a51-b454-9f7e0dfb9803",
   "metadata": {},
   "outputs": [
    {
     "data": {
      "text/plain": [
       "'NE'"
      ]
     },
     "execution_count": 4,
     "metadata": {},
     "output_type": "execute_result"
    }
   ],
   "source": [
    "name[0:4:3]"
   ]
  },
  {
   "cell_type": "code",
   "execution_count": 5,
   "id": "dd220cc8-db6a-4d7a-b78e-8721e51a2afd",
   "metadata": {},
   "outputs": [
    {
     "data": {
      "text/plain": [
       "''"
      ]
     },
     "execution_count": 5,
     "metadata": {},
     "output_type": "execute_result"
    }
   ],
   "source": [
    "name[-1:-4]"
   ]
  },
  {
   "cell_type": "code",
   "execution_count": 6,
   "id": "b822eaf0-ed35-4efc-946a-be35cd65845f",
   "metadata": {},
   "outputs": [
    {
     "data": {
      "text/plain": [
       "'EMA'"
      ]
     },
     "execution_count": 6,
     "metadata": {},
     "output_type": "execute_result"
    }
   ],
   "source": [
    "name[-1:-4:-1]"
   ]
  },
  {
   "cell_type": "code",
   "execution_count": 7,
   "id": "fb817fb2-63db-4f00-befe-72db1ac647e3",
   "metadata": {},
   "outputs": [
    {
     "data": {
      "text/plain": [
       "'EMAN'"
      ]
     },
     "execution_count": 7,
     "metadata": {},
     "output_type": "execute_result"
    }
   ],
   "source": [
    "name[-1:-5:-1]"
   ]
  },
  {
   "cell_type": "code",
   "execution_count": 8,
   "id": "f5b397c2-b093-4106-87c2-457e655345cb",
   "metadata": {},
   "outputs": [
    {
     "data": {
      "text/plain": [
       "'EMAN'"
      ]
     },
     "execution_count": 8,
     "metadata": {},
     "output_type": "execute_result"
    }
   ],
   "source": [
    "#Reversing the string the easy way!\n",
    "name[::-1]"
   ]
  },
  {
   "cell_type": "code",
   "execution_count": 11,
   "id": "bc12a262-0357-4cb8-8482-63e9a562749d",
   "metadata": {},
   "outputs": [],
   "source": [
    "name = \"Ram Bahadur\""
   ]
  },
  {
   "cell_type": "code",
   "execution_count": 14,
   "id": "1ea9c8a3-2c1f-4948-87a9-34044d7dab94",
   "metadata": {},
   "outputs": [
    {
     "data": {
      "text/plain": [
       "'am Ba'"
      ]
     },
     "execution_count": 14,
     "metadata": {},
     "output_type": "execute_result"
    }
   ],
   "source": [
    "name[1:-5]"
   ]
  },
  {
   "cell_type": "code",
   "execution_count": 15,
   "id": "3c612a27-d5bf-4c56-87b0-faa91ce64276",
   "metadata": {},
   "outputs": [
    {
     "data": {
      "text/plain": [
       "'Bahadu'"
      ]
     },
     "execution_count": 15,
     "metadata": {},
     "output_type": "execute_result"
    }
   ],
   "source": [
    "name[-7:10]"
   ]
  },
  {
   "cell_type": "code",
   "execution_count": 18,
   "id": "25395669-aba3-4660-858f-9e5c1e3ed1e7",
   "metadata": {},
   "outputs": [
    {
     "name": "stdout",
     "output_type": "stream",
     "text": [
      "<class 'str'>\n"
     ]
    }
   ],
   "source": [
    "print(type(name))"
   ]
  },
  {
   "cell_type": "code",
   "execution_count": 55,
   "id": "f9ea96b5-8e3a-44f1-a2ab-04fd5e62403a",
   "metadata": {},
   "outputs": [
    {
     "data": {
      "text/plain": [
       "['__add__',\n",
       " '__class__',\n",
       " '__contains__',\n",
       " '__delattr__',\n",
       " '__dir__',\n",
       " '__doc__',\n",
       " '__eq__',\n",
       " '__format__',\n",
       " '__ge__',\n",
       " '__getattribute__',\n",
       " '__getitem__',\n",
       " '__getnewargs__',\n",
       " '__getstate__',\n",
       " '__gt__',\n",
       " '__hash__',\n",
       " '__init__',\n",
       " '__init_subclass__',\n",
       " '__iter__',\n",
       " '__le__',\n",
       " '__len__',\n",
       " '__lt__',\n",
       " '__mod__',\n",
       " '__mul__',\n",
       " '__ne__',\n",
       " '__new__',\n",
       " '__reduce__',\n",
       " '__reduce_ex__',\n",
       " '__repr__',\n",
       " '__rmod__',\n",
       " '__rmul__',\n",
       " '__setattr__',\n",
       " '__sizeof__',\n",
       " '__str__',\n",
       " '__subclasshook__',\n",
       " 'capitalize',\n",
       " 'casefold',\n",
       " 'center',\n",
       " 'count',\n",
       " 'encode',\n",
       " 'endswith',\n",
       " 'expandtabs',\n",
       " 'find',\n",
       " 'format',\n",
       " 'format_map',\n",
       " 'index',\n",
       " 'isalnum',\n",
       " 'isalpha',\n",
       " 'isascii',\n",
       " 'isdecimal',\n",
       " 'isdigit',\n",
       " 'isidentifier',\n",
       " 'islower',\n",
       " 'isnumeric',\n",
       " 'isprintable',\n",
       " 'isspace',\n",
       " 'istitle',\n",
       " 'isupper',\n",
       " 'join',\n",
       " 'ljust',\n",
       " 'lower',\n",
       " 'lstrip',\n",
       " 'maketrans',\n",
       " 'partition',\n",
       " 'removeprefix',\n",
       " 'removesuffix',\n",
       " 'replace',\n",
       " 'rfind',\n",
       " 'rindex',\n",
       " 'rjust',\n",
       " 'rpartition',\n",
       " 'rsplit',\n",
       " 'rstrip',\n",
       " 'split',\n",
       " 'splitlines',\n",
       " 'startswith',\n",
       " 'strip',\n",
       " 'swapcase',\n",
       " 'title',\n",
       " 'translate',\n",
       " 'upper',\n",
       " 'zfill']"
      ]
     },
     "execution_count": 55,
     "metadata": {},
     "output_type": "execute_result"
    }
   ],
   "source": [
    "#dir to view the attributes of class\n",
    "dir(name)"
   ]
  },
  {
   "cell_type": "code",
   "execution_count": 45,
   "id": "e423306b-806c-469a-96c4-c4acd9b6a4c2",
   "metadata": {},
   "outputs": [
    {
     "data": {
      "text/plain": [
       "['ABC']"
      ]
     },
     "execution_count": 45,
     "metadata": {},
     "output_type": "execute_result"
    }
   ],
   "source": [
    "name.split()"
   ]
  },
  {
   "cell_type": "code",
   "execution_count": 46,
   "id": "2ce64a03-6a9a-4134-b8f5-1d55d7042c49",
   "metadata": {},
   "outputs": [
    {
     "data": {
      "text/plain": [
       "'Abc'"
      ]
     },
     "execution_count": 46,
     "metadata": {},
     "output_type": "execute_result"
    }
   ],
   "source": [
    "name.capitalize()"
   ]
  },
  {
   "cell_type": "code",
   "execution_count": 66,
   "id": "4c93cbb5-828a-45ab-b92a-24a6ffd117b2",
   "metadata": {},
   "outputs": [],
   "source": [
    "name = \"ABC\""
   ]
  },
  {
   "cell_type": "code",
   "execution_count": 67,
   "id": "44405643-e8a5-4c07-a0bc-f1818b7f7885",
   "metadata": {},
   "outputs": [
    {
     "data": {
      "text/plain": [
       "False"
      ]
     },
     "execution_count": 67,
     "metadata": {},
     "output_type": "execute_result"
    }
   ],
   "source": [
    "name.islower()"
   ]
  },
  {
   "cell_type": "code",
   "execution_count": 68,
   "id": "35c2b2a6-5f4c-46d4-be9e-aaa00cd10ae1",
   "metadata": {},
   "outputs": [
    {
     "data": {
      "text/plain": [
       "'aBC'"
      ]
     },
     "execution_count": 68,
     "metadata": {},
     "output_type": "execute_result"
    }
   ],
   "source": [
    "name.replace(\"A\",\"a\")"
   ]
  },
  {
   "cell_type": "code",
   "execution_count": 69,
   "id": "ab01a856-ac6a-4917-82af-0d6dff0260dd",
   "metadata": {},
   "outputs": [
    {
     "data": {
      "text/plain": [
       "'ABC'"
      ]
     },
     "execution_count": 69,
     "metadata": {},
     "output_type": "execute_result"
    }
   ],
   "source": [
    "name"
   ]
  },
  {
   "cell_type": "code",
   "execution_count": 70,
   "id": "f6d1de24-e3b3-46ae-8168-9cbb0bb8b701",
   "metadata": {},
   "outputs": [
    {
     "data": {
      "text/plain": [
       "'abc'"
      ]
     },
     "execution_count": 70,
     "metadata": {},
     "output_type": "execute_result"
    }
   ],
   "source": [
    "name.swapcase()"
   ]
  },
  {
   "cell_type": "code",
   "execution_count": 71,
   "id": "5c96f3b5-b365-4ee0-855d-0536dd3e0877",
   "metadata": {},
   "outputs": [
    {
     "data": {
      "text/plain": [
       "'abc'"
      ]
     },
     "execution_count": 71,
     "metadata": {},
     "output_type": "execute_result"
    }
   ],
   "source": [
    "name.lower()"
   ]
  },
  {
   "cell_type": "code",
   "execution_count": 72,
   "id": "b32c50c0-c14d-4224-baa7-92eaf475be38",
   "metadata": {},
   "outputs": [
    {
     "data": {
      "text/plain": [
       "False"
      ]
     },
     "execution_count": 72,
     "metadata": {},
     "output_type": "execute_result"
    }
   ],
   "source": [
    "name.isspace()"
   ]
  },
  {
   "cell_type": "code",
   "execution_count": 73,
   "id": "ed2623f4-e17c-479b-8c9e-84290b3cf234",
   "metadata": {},
   "outputs": [
    {
     "data": {
      "text/plain": [
       "True"
      ]
     },
     "execution_count": 73,
     "metadata": {},
     "output_type": "execute_result"
    }
   ],
   "source": [
    "\" \".isspace()"
   ]
  },
  {
   "cell_type": "code",
   "execution_count": 75,
   "id": "dc22b6e1-a95e-43fc-b32b-60b7a7f3b976",
   "metadata": {},
   "outputs": [
    {
     "data": {
      "text/plain": [
       "0"
      ]
     },
     "execution_count": 75,
     "metadata": {},
     "output_type": "execute_result"
    }
   ],
   "source": [
    "name.rindex('A')"
   ]
  },
  {
   "cell_type": "code",
   "execution_count": 97,
   "id": "7a56ebab-0316-4551-bf28-3fdfcfdacbb6",
   "metadata": {},
   "outputs": [
    {
     "name": "stdout",
     "output_type": "stream",
     "text": [
      "1\n",
      "2\n",
      "3\n"
     ]
    }
   ],
   "source": [
    "#print 1,2,3 in new line using a single print\n",
    "print(1, 2, 3, sep=\"\\n\")"
   ]
  },
  {
   "cell_type": "code",
   "execution_count": 90,
   "id": "95ac6697-03d1-4cf6-b5df-1700226b2759",
   "metadata": {},
   "outputs": [
    {
     "name": "stdout",
     "output_type": "stream",
     "text": [
      "1 2 3\n"
     ]
    }
   ],
   "source": [
    "#print 1,2,3 in a single line using 3 print statements\n",
    "print(1, end=\" \")\n",
    "print(2, end=\" \")\n",
    "print(3)"
   ]
  },
  {
   "cell_type": "code",
   "execution_count": 99,
   "id": "0887b9e5-d03b-4eff-bd11-680f40643f6b",
   "metadata": {},
   "outputs": [
    {
     "name": "stdout",
     "output_type": "stream",
     "text": [
      "Loading........."
     ]
    }
   ],
   "source": [
    "#GPT Code\n",
    "import time\n",
    "print(\"Loading\", end=\"\", flush=True)\n",
    "for _ in range(9):\n",
    "    time.sleep(1)\n",
    "    print(\".\", end=\"\", flush=True)\n",
    "# Output: Loading... (with a delay between each dot)"
   ]
  },
  {
   "cell_type": "code",
   "execution_count": 100,
   "id": "57795705-2181-4c12-b8c6-50e0b97e0780",
   "metadata": {},
   "outputs": [
    {
     "name": "stdout",
     "output_type": "stream",
     "text": [
      "True\n"
     ]
    }
   ],
   "source": [
    "print(True ^ False)"
   ]
  },
  {
   "cell_type": "code",
   "execution_count": 101,
   "id": "e2ec0d2a-ac2a-4cb5-82d3-e01d2c60b179",
   "metadata": {},
   "outputs": [
    {
     "data": {
      "text/plain": [
       "90"
      ]
     },
     "execution_count": 101,
     "metadata": {},
     "output_type": "execute_result"
    }
   ],
   "source": [
    "90 or 0"
   ]
  },
  {
   "cell_type": "code",
   "execution_count": 102,
   "id": "61263239-7da3-4d7f-957e-ef5467119707",
   "metadata": {},
   "outputs": [
    {
     "data": {
      "text/plain": [
       "'Ram'"
      ]
     },
     "execution_count": 102,
     "metadata": {},
     "output_type": "execute_result"
    }
   ],
   "source": [
    "\"\" or \"Ram\""
   ]
  },
  {
   "cell_type": "code",
   "execution_count": 105,
   "id": "85f17ab9-d394-4517-ba31-4e1e1cd40994",
   "metadata": {},
   "outputs": [
    {
     "name": "stdout",
     "output_type": "stream",
     "text": [
      "HELLO\n"
     ]
    }
   ],
   "source": [
    "if True:\n",
    "    print(\"HELLO\")\n",
    "else:\n",
    "    print(\"\")"
   ]
  },
  {
   "cell_type": "code",
   "execution_count": 110,
   "id": "36e564b1-02f7-43b1-93f3-941425fbab34",
   "metadata": {},
   "outputs": [
    {
     "name": "stdin",
     "output_type": "stream",
     "text": [
      "Enter any number 2\n"
     ]
    },
    {
     "name": "stdout",
     "output_type": "stream",
     "text": [
      "Even\n"
     ]
    }
   ],
   "source": [
    "#take a number as input from user and check if it is even or odd\n",
    "num = int(input(\"Enter any number\"))\n",
    "if num%2==0:\n",
    "    print(\"Even\")\n",
    "else:\n",
    "    print(\"Odd\")"
   ]
  },
  {
   "cell_type": "code",
   "execution_count": 118,
   "id": "3666b147-ac7f-4c96-8628-f3846e272f00",
   "metadata": {},
   "outputs": [
    {
     "name": "stdin",
     "output_type": "stream",
     "text": [
      "Enter first number 4\n",
      "Enter Second number 2\n"
     ]
    },
    {
     "name": "stdout",
     "output_type": "stream",
     "text": [
      "The first is divisible by Second\n",
      "The value is  2\n"
     ]
    }
   ],
   "source": [
    "#Take 2 numbers as input form user and check if first number is divisible by second one\n",
    "num1 = int(input(\"Enter first number\"))\n",
    "num2 = int(input(\"Enter Second number\"))\n",
    "if (int(num1%num2) == 0):\n",
    "    print(\"The first is divisible by Second\")\n",
    "    print(\"The value is \" , int(num1/num2))\n",
    "else:\n",
    "    print(\"First cannot be divisible by second\")"
   ]
  },
  {
   "cell_type": "code",
   "execution_count": null,
   "id": "f5db987c-aac9-42df-a12d-089b1fb18efb",
   "metadata": {},
   "outputs": [],
   "source": []
  }
 ],
 "metadata": {
  "kernelspec": {
   "display_name": "Python 3 (ipykernel)",
   "language": "python",
   "name": "python3"
  },
  "language_info": {
   "codemirror_mode": {
    "name": "ipython",
    "version": 3
   },
   "file_extension": ".py",
   "mimetype": "text/x-python",
   "name": "python",
   "nbconvert_exporter": "python",
   "pygments_lexer": "ipython3",
   "version": "3.13.1"
  }
 },
 "nbformat": 4,
 "nbformat_minor": 5
}
