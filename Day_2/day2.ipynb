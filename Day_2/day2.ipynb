{
 "cells": [
  {
   "cell_type": "code",
   "execution_count": 5,
   "id": "2f80535e-1993-4ad1-b03f-60abb05f638a",
   "metadata": {},
   "outputs": [
    {
     "data": {
      "text/plain": [
       "4316687232"
      ]
     },
     "execution_count": 5,
     "metadata": {},
     "output_type": "execute_result"
    }
   ],
   "source": [
    "id(10)"
   ]
  },
  {
   "cell_type": "code",
   "execution_count": 6,
   "id": "47c6c268-14ec-42f5-b6db-b8ddfb264fa2",
   "metadata": {},
   "outputs": [],
   "source": [
    "a = 1"
   ]
  },
  {
   "cell_type": "code",
   "execution_count": 7,
   "id": "3915b509-5919-49ed-b410-419a9c1c8605",
   "metadata": {},
   "outputs": [
    {
     "data": {
      "text/plain": [
       "False"
      ]
     },
     "execution_count": 7,
     "metadata": {},
     "output_type": "execute_result"
    }
   ],
   "source": [
    "a is True"
   ]
  },
  {
   "cell_type": "code",
   "execution_count": 8,
   "id": "99413fbe-a7ee-46e3-ae41-90701b2a1b31",
   "metadata": {},
   "outputs": [
    {
     "data": {
      "text/plain": [
       "True"
      ]
     },
     "execution_count": 8,
     "metadata": {},
     "output_type": "execute_result"
    }
   ],
   "source": [
    "a == True"
   ]
  },
  {
   "cell_type": "code",
   "execution_count": 12,
   "id": "98af82e7-8f1b-44e0-a122-f8f83d2fb458",
   "metadata": {},
   "outputs": [
    {
     "data": {
      "text/plain": [
       "2"
      ]
     },
     "execution_count": 12,
     "metadata": {},
     "output_type": "execute_result"
    }
   ],
   "source": [
    "num =1 \n",
    "num += 1\n",
    "num"
   ]
  },
  {
   "cell_type": "code",
   "execution_count": 11,
   "id": "b15fb746-9615-47c6-b030-eeb0c011eedc",
   "metadata": {},
   "outputs": [],
   "source": [
    "#import random as rd\n",
    "#import random\n",
    "from random import randrange as rr"
   ]
  },
  {
   "cell_type": "code",
   "execution_count": 12,
   "id": "1ecc27f0-779f-4d93-adce-b0354c8845fe",
   "metadata": {},
   "outputs": [
    {
     "data": {
      "text/plain": [
       "13"
      ]
     },
     "execution_count": 12,
     "metadata": {},
     "output_type": "execute_result"
    }
   ],
   "source": [
    "rr(10,19)"
   ]
  },
  {
   "cell_type": "code",
   "execution_count": null,
   "id": "ad8db844-9c1d-4032-96ad-8ecb9fecb45a",
   "metadata": {},
   "outputs": [],
   "source": []
  }
 ],
 "metadata": {
  "kernelspec": {
   "display_name": "Python (jupyter_env)",
   "language": "python",
   "name": "jupyter_env"
  },
  "language_info": {
   "codemirror_mode": {
    "name": "ipython",
    "version": 3
   },
   "file_extension": ".py",
   "mimetype": "text/x-python",
   "name": "python",
   "nbconvert_exporter": "python",
   "pygments_lexer": "ipython3",
   "version": "3.13.1"
  }
 },
 "nbformat": 4,
 "nbformat_minor": 5
}
