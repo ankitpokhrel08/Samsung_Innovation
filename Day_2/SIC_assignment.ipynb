{
 "cells": [
  {
   "cell_type": "code",
   "execution_count": 2,
   "id": "b9e8ad52-2a0d-46cf-8a63-fc0f2306cac5",
   "metadata": {},
   "outputs": [
    {
     "name": "stdout",
     "output_type": "stream",
     "text": [
      "A\n",
      " AAA\n",
      "AAAAA\n",
      " AAA\n",
      "A\n"
     ]
    }
   ],
   "source": [
    "#PP 1\n",
    "#Print the following output with only one line of code and using only print and scape sequences.\n",
    "print(\"A\",\" AAA\",\"AAAAA\",\" AAA\",\"A\",sep=\"\\n\")"
   ]
  },
  {
   "cell_type": "code",
   "execution_count": 3,
   "id": "f0265112-2abc-4ed1-9ce9-98f4e24ff90f",
   "metadata": {},
   "outputs": [
    {
     "name": "stdout",
     "output_type": "stream",
     "text": [
      "_It's my name - Rubina Joshi.\n",
      "And I Studied in IOE Campus_\n"
     ]
    }
   ],
   "source": [
    "#PP 2\n",
    "#Print the following output with one line of code.\n",
    "print(\"_It's my name - Rubina Joshi.\\nAnd I Studied in IOE Campus_\")"
   ]
  },
  {
   "cell_type": "code",
   "execution_count": 10,
   "id": "61d80372-5679-4489-a890-ac18c7b0e489",
   "metadata": {},
   "outputs": [
    {
     "name": "stdout",
     "output_type": "stream",
     "text": [
      "Day\"s and \\night\n"
     ]
    }
   ],
   "source": [
    "#PP 3\n",
    "#Print the following output with one line of code.\n",
    "print(\"Day\\\"s and \\\\night\")"
   ]
  },
  {
   "cell_type": "code",
   "execution_count": 16,
   "id": "23a4bdb0-0920-4161-8b88-facd989e102b",
   "metadata": {},
   "outputs": [
    {
     "name": "stdout",
     "output_type": "stream",
     "text": [
      "D\n",
      "L\n"
     ]
    }
   ],
   "source": [
    "#PP 4\n",
    "string1 = \"HELLOW WORLD\"\n",
    "print(string1[len(string1) -1 ])\n",
    "print(string1[3])"
   ]
  },
  {
   "cell_type": "code",
   "execution_count": 15,
   "id": "8eb30a79-e0e1-48a1-b55f-1591643991ca",
   "metadata": {},
   "outputs": [
    {
     "ename": "IndexError",
     "evalue": "string index out of range",
     "output_type": "error",
     "traceback": [
      "\u001b[0;31m---------------------------------------------------------------------------\u001b[0m",
      "\u001b[0;31mIndexError\u001b[0m                                Traceback (most recent call last)",
      "Cell \u001b[0;32mIn[15], line 1\u001b[0m\n\u001b[0;32m----> 1\u001b[0m \u001b[38;5;28mprint\u001b[39m(\u001b[43mstring1\u001b[49m\u001b[43m[\u001b[49m\u001b[38;5;241;43m16\u001b[39;49m\u001b[43m]\u001b[49m)\n",
      "\u001b[0;31mIndexError\u001b[0m: string index out of range"
     ]
    }
   ],
   "source": [
    "#This will give us IndexError because the index 16 is out of range\n",
    "print(string1[16])"
   ]
  },
  {
   "cell_type": "code",
   "execution_count": 21,
   "id": "fd27a09d-ed6c-4cda-a236-869ddcf8f4a5",
   "metadata": {},
   "outputs": [
    {
     "name": "stdout",
     "output_type": "stream",
     "text": [
      "THRIA\n"
     ]
    }
   ],
   "source": [
    "#PP 5\n",
    "#print THRIA using using string slicing and cancantinating them.\n",
    "string2 = \"PYTHON TUTORIAL\"\n",
    "print(string2[2 : 4] + string2[11:14])"
   ]
  },
  {
   "cell_type": "code",
   "execution_count": 26,
   "id": "cc60412f-4813-4c8f-947d-5ca1d8b516f9",
   "metadata": {},
   "outputs": [
    {
     "name": "stdout",
     "output_type": "stream",
     "text": [
      "5! = 120\n",
      "10! = 3628800\n"
     ]
    }
   ],
   "source": [
    "#PP 6\n",
    "#Find 5! and 10! using integer and * operator and print them as follows.\n",
    "five = 5*4*3*2*1\n",
    "ten = 10*9*8*7*6*5*4*3*2*1\n",
    "print(\"5! =\",five)\n",
    "print(\"10! =\",ten)"
   ]
  },
  {
   "cell_type": "code",
   "execution_count": 33,
   "id": "9b635054-21ba-4176-8275-f4217e1df3b0",
   "metadata": {},
   "outputs": [
    {
     "name": "stdin",
     "output_type": "stream",
     "text": [
      "Enter the radius of a circle:  11\n"
     ]
    },
    {
     "name": "stdout",
     "output_type": "stream",
     "text": [
      "Circumference of a circle= 69.115024,Area of a circle= 380.13263200000006\n"
     ]
    }
   ],
   "source": [
    "#PP 7\n",
    "radius = int(input(\"Enter the radius of a circle: \"))\n",
    "PI= 3.141592\n",
    "circum = 2 * radius * PI\n",
    "area = PI * radius * radius\n",
    "print(\"Circumference of a circle= \",circum, \",Area of a circle= \",area,sep=\"\");"
   ]
  },
  {
   "cell_type": "code",
   "execution_count": 39,
   "id": "d7c2f212-1a30-44aa-aacc-0a70b041133e",
   "metadata": {},
   "outputs": [
    {
     "name": "stdout",
     "output_type": "stream",
     "text": [
      "a\tn\ta**n\n",
      "2\t2\t4\n",
      "3\t2\t9\n",
      "4\t2\t16\n",
      "5\t2\t25\n",
      "6\t2\t36\n"
     ]
    }
   ],
   "source": [
    "#PP 8\n",
    "n = 2\n",
    "print(\"a\",\"n\",\"a**n\",sep=\"\\t\")\n",
    "for a in range(2,7):\n",
    "    print(a,n,a**n,sep=\"\\t\")\n"
   ]
  },
  {
   "cell_type": "code",
   "execution_count": 51,
   "id": "0ad6e382-0d3a-4614-ad0b-6cb5a1a5d177",
   "metadata": {},
   "outputs": [
    {
     "name": "stdin",
     "output_type": "stream",
     "text": [
      "Enter x,y coordinates:  0 9\n"
     ]
    },
    {
     "name": "stdout",
     "output_type": "stream",
     "text": [
      "In the intercept line\n"
     ]
    }
   ],
   "source": [
    "#PP 9\n",
    "point = input(\"Enter x,y coordinates: \")\n",
    "point = point.split(\" \")\n",
    "\n",
    "x = int(point[0])\n",
    "y = int(point[1])\n",
    "\n",
    "if(x>0 and y>0):\n",
    "    print(\"In the First quadrant\")\n",
    "elif(x<0 and y>0):\n",
    "    print(\"In the Second quadrant\")\n",
    "elif(x>0 and y<0):\n",
    "    print(\"In the Fourth quadrant\")\n",
    "elif(x<0 and y<0):\n",
    "    print(\"In the Third quadrant\")\n",
    "elif (x==0 and y==0):\n",
    "    print(\"Origin\")\n",
    "else:\n",
    "    print(\"In the axis line\")\n"
   ]
  },
  {
   "cell_type": "code",
   "execution_count": null,
   "id": "684f68b4-ed46-49e4-832c-bfab33f94d4c",
   "metadata": {},
   "outputs": [
    {
     "name": "stdout",
     "output_type": "stream",
     "text": [
      "Welcome to yummy restaurant. Here is the menu.\n",
      "- Burger(enter b)\n",
      "- Chicken(enter c)\n",
      "- Pizza(enter p)\n"
     ]
    },
    {
     "name": "stdin",
     "output_type": "stream",
     "text": [
      "Choose a menu (enter b,c,p):  x\n"
     ]
    },
    {
     "name": "stdout",
     "output_type": "stream",
     "text": [
      "enter the menu again\n",
      "Welcome to yummy restaurant. Here is the menu.\n",
      "- Burger(enter b)\n",
      "- Chicken(enter c)\n",
      "- Pizza(enter p)\n"
     ]
    },
    {
     "name": "stdin",
     "output_type": "stream",
     "text": [
      "Choose a menu (enter b,c,p):  a\n"
     ]
    },
    {
     "name": "stdout",
     "output_type": "stream",
     "text": [
      "enter the menu again\n",
      "Welcome to yummy restaurant. Here is the menu.\n",
      "- Burger(enter b)\n",
      "- Chicken(enter c)\n",
      "- Pizza(enter p)\n"
     ]
    },
    {
     "name": "stdin",
     "output_type": "stream",
     "text": [
      "Choose a menu (enter b,c,p):  f\n"
     ]
    },
    {
     "name": "stdout",
     "output_type": "stream",
     "text": [
      "enter the menu again\n",
      "Welcome to yummy restaurant. Here is the menu.\n",
      "- Burger(enter b)\n",
      "- Chicken(enter c)\n",
      "- Pizza(enter p)\n"
     ]
    }
   ],
   "source": [
    "#PP 10\n",
    "menu = True\n",
    "while (menu):\n",
    "    print(\"Welcome to yummy restaurant. Here is the menu.\\n- Burger(enter b)\\n- Chicken(enter c)\\n- Pizza(enter p)\")\n",
    "    opt = input(\"Choose a menu (enter b,c,p): \")\n",
    "    if(opt == \"b\"):\n",
    "        print(\"You chose Burger\")\n",
    "        menu = False\n",
    "    elif(opt == \"c\"):\n",
    "        print(\"You chose Chicken\")\n",
    "        menu = False\n",
    "    elif(opt == \"p\"):\n",
    "        print(\"You chose Pizza\")\n",
    "        menu = False\n",
    "    else:\n",
    "        print(\"enter the menu again\")\n",
    "\n",
    "    \n",
    "\n",
    "    "
   ]
  },
  {
   "cell_type": "code",
   "execution_count": 5,
   "id": "8008cccb-62da-47a5-9ce8-f421b66502dd",
   "metadata": {},
   "outputs": [
    {
     "name": "stdin",
     "output_type": "stream",
     "text": [
      "Enter the first Number:  4\n",
      "Enter the Second Number:  1\n",
      "Enter the third Number:  1\n"
     ]
    },
    {
     "name": "stdout",
     "output_type": "stream",
     "text": [
      "4 is greatest of all\n"
     ]
    }
   ],
   "source": [
    "#pp 11\n",
    "num1 = int(input(\"Enter the first Number: \"))\n",
    "num2 = int(input(\"Enter the Second Number: \"))\n",
    "num3 = int(input(\"Enter the third Number: \"))\n",
    "if(num1>num2 and num1>num3):\n",
    "    print(num1 , \"is greatest of all\");\n",
    "elif(num2>num1 and num2>num3):\n",
    "    print(num2 , \"is greatest of all\");\n",
    "else:\n",
    "    print(num3, \"is greatest of all\");"
   ]
  },
  {
   "cell_type": "code",
   "execution_count": 11,
   "id": "9b8dfb5c-c884-4aa3-9fb7-a4a25fa89afb",
   "metadata": {},
   "outputs": [
    {
     "name": "stdin",
     "output_type": "stream",
     "text": [
      "Enter n:  6\n"
     ]
    },
    {
     "name": "stdout",
     "output_type": "stream",
     "text": [
      "1 2 3 4 5 6 \n",
      "12 11 10 9 8 7 \n",
      "13 14 15 16 17 18 \n",
      "24 23 22 21 20 19 \n",
      "25 26 27 28 29 30 \n",
      "36 35 34 33 32 31 \n"
     ]
    }
   ],
   "source": [
    "#PP 12\n",
    "k = 1\n",
    "n = int(input(\"Enter n: \"))\n",
    "for i in range(n):\n",
    "    if i % 2 == 0:\n",
    "        for j in range(n):\n",
    "            print(k, end=\" \")\n",
    "            k += 1\n",
    "    else:\n",
    "        start = k + n - 1\n",
    "        for j in range(n):\n",
    "            print(start, end=\" \")\n",
    "            start -= 1\n",
    "        k += n\n",
    "    print()\n"
   ]
  },
  {
   "cell_type": "code",
   "execution_count": 38,
   "id": "3500ad05-9e0a-454c-977e-2d987c792540",
   "metadata": {},
   "outputs": [
    {
     "name": "stdout",
     "output_type": "stream",
     "text": [
      "7\n",
      "77\n",
      "777\n",
      "7777\n",
      "77777\n"
     ]
    }
   ],
   "source": [
    "#PP 13\n",
    "for i in range(5):\n",
    "    for j in range(i+1):\n",
    "        print(\"7\",end=\"\")\n",
    "    print()"
   ]
  },
  {
   "cell_type": "code",
   "execution_count": 39,
   "id": "c0aacf55-2048-4bbf-8bcd-935aed5a7619",
   "metadata": {},
   "outputs": [
    {
     "name": "stdout",
     "output_type": "stream",
     "text": [
      "1 \n",
      "2 3 \n",
      "4 5 6 \n",
      "7 8 9 10 \n"
     ]
    }
   ],
   "source": [
    "#PP 14\n",
    "k = 1\n",
    "for i in range(4):\n",
    "    for j in range(i+1):\n",
    "        print(k,end=\" \")\n",
    "        k=k+1\n",
    "    print()"
   ]
  },
  {
   "cell_type": "code",
   "execution_count": 46,
   "id": "9de0d6da-96f3-464d-b8d6-e176c54c0fc1",
   "metadata": {},
   "outputs": [
    {
     "name": "stdout",
     "output_type": "stream",
     "text": [
      "6 5 4 \n",
      "3 2 \n",
      "1 \n"
     ]
    }
   ],
   "source": [
    "#PP 15\n",
    "k = 6\n",
    "for i in range(3,0,-1):\n",
    "    for j in range(i):\n",
    "        print(k,end=\" \")\n",
    "        k=k-1\n",
    "    print()"
   ]
  },
  {
   "cell_type": "code",
   "execution_count": 26,
   "id": "24e37984-7d18-4d95-b280-7ff2b34a1c86",
   "metadata": {},
   "outputs": [
    {
     "name": "stdin",
     "output_type": "stream",
     "text": [
      "Enter the number of terms in fibonacci series: 9\n"
     ]
    },
    {
     "name": "stdout",
     "output_type": "stream",
     "text": [
      "0,1,1,2,3,5,8,13,21,...\n"
     ]
    }
   ],
   "source": [
    "#PP 16 \n",
    "num = int(input(\"Enter the number of terms in fibonacci series:\"))\n",
    "a = 0;\n",
    "b = 1;\n",
    "for i in range(num):\n",
    "    print(a,\",\",end=\"\",sep=\"\")\n",
    "    c=a+b\n",
    "    a=b\n",
    "    b=c\n",
    "print(\"...\")\n",
    "    \n"
   ]
  },
  {
   "cell_type": "code",
   "execution_count": 28,
   "id": "168cd434-e420-4f9a-b8a0-426396b0dec7",
   "metadata": {},
   "outputs": [
    {
     "name": "stdin",
     "output_type": "stream",
     "text": [
      "Enter the string suresh\n"
     ]
    },
    {
     "ename": "NameError",
     "evalue": "name 'string' is not defined",
     "output_type": "error",
     "traceback": [
      "\u001b[0;31m---------------------------------------------------------------------------\u001b[0m",
      "\u001b[0;31mNameError\u001b[0m                                 Traceback (most recent call last)",
      "Cell \u001b[0;32mIn[28], line 3\u001b[0m\n\u001b[1;32m      1\u001b[0m \u001b[38;5;66;03m#PP 17\u001b[39;00m\n\u001b[1;32m      2\u001b[0m string1 \u001b[38;5;241m=\u001b[39m \u001b[38;5;28minput\u001b[39m(\u001b[38;5;124m\"\u001b[39m\u001b[38;5;124mEnter the string\u001b[39m\u001b[38;5;124m\"\u001b[39m)\n\u001b[0;32m----> 3\u001b[0m \u001b[38;5;28mprint\u001b[39m(string1, \u001b[38;5;124m\"\u001b[39m\u001b[38;5;124m=>\u001b[39m\u001b[38;5;124m\"\u001b[39m,\u001b[43mstring\u001b[49m[::\u001b[38;5;241m-\u001b[39m\u001b[38;5;241m1\u001b[39m])\n",
      "\u001b[0;31mNameError\u001b[0m: name 'string' is not defined"
     ]
    }
   ],
   "source": [
    "#PP 17\n",
    "string1 = input(\"Enter the string\")\n",
    "print(string1, \"=>\",string[::-1])\n"
   ]
  },
  {
   "cell_type": "code",
   "execution_count": null,
   "id": "eb5fc4b1-6b0d-4c14-9749-33d9c666de61",
   "metadata": {},
   "outputs": [],
   "source": []
  }
 ],
 "metadata": {
  "kernelspec": {
   "display_name": "Python (jupyter_env)",
   "language": "python",
   "name": "jupyter_env"
  },
  "language_info": {
   "codemirror_mode": {
    "name": "ipython",
    "version": 3
   },
   "file_extension": ".py",
   "mimetype": "text/x-python",
   "name": "python",
   "nbconvert_exporter": "python",
   "pygments_lexer": "ipython3",
   "version": "3.13.1"
  }
 },
 "nbformat": 4,
 "nbformat_minor": 5
}
